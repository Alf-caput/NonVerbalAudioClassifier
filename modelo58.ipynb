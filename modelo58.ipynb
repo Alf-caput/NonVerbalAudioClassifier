{
  "cells": [
    {
      "cell_type": "markdown",
      "metadata": {
        "id": "view-in-github",
        "colab_type": "text"
      },
      "source": [
        "<a href=\"https://colab.research.google.com/github/Alf-caput/NonVerbalAudioClassifier/blob/dev2/modelo58.ipynb\" target=\"_parent\"><img src=\"https://colab.research.google.com/assets/colab-badge.svg\" alt=\"Open In Colab\"/></a>"
      ]
    },
    {
      "cell_type": "markdown",
      "source": [],
      "metadata": {
        "id": "abU6tbG3c7X3"
      }
    },
    {
      "cell_type": "markdown",
      "source": [],
      "metadata": {
        "id": "uKYbDsTBp_fk"
      }
    },
    {
      "cell_type": "code",
      "source": [
        "!wget https://www.dropbox.com/s/fuld3z222j9t1oy/vs_release_16k.zip"
      ],
      "metadata": {
        "id": "OzR5rSL6c5x7",
        "outputId": "bf841176-2026-456a-d692-a5953a12cbac",
        "colab": {
          "base_uri": "https://localhost:8080/"
        }
      },
      "execution_count": 1,
      "outputs": [
        {
          "output_type": "stream",
          "name": "stdout",
          "text": [
            "--2024-04-19 16:09:00--  https://www.dropbox.com/s/fuld3z222j9t1oy/vs_release_16k.zip\n",
            "Resolving www.dropbox.com (www.dropbox.com)... 162.125.2.18, 2620:100:6017:18::a27d:212\n",
            "Connecting to www.dropbox.com (www.dropbox.com)|162.125.2.18|:443... connected.\n",
            "HTTP request sent, awaiting response... 302 Found\n",
            "Location: /s/raw/fuld3z222j9t1oy/vs_release_16k.zip [following]\n",
            "--2024-04-19 16:09:00--  https://www.dropbox.com/s/raw/fuld3z222j9t1oy/vs_release_16k.zip\n",
            "Reusing existing connection to www.dropbox.com:443.\n",
            "HTTP request sent, awaiting response... 302 Found\n",
            "Location: https://uc3c03d8d300435724dbcf929608.dl.dropboxusercontent.com/cd/0/inline/CRXFSCQdhbBAz4d6ZeulVz1PTVpevarggwfY_dP5lT7uwgwH9T9dV5QaKinYnWTimObC-zty5udNf_eai8GgfGZqVZue0kBS98ehHA08h0aTWolqpPDVZPMlFfraXImTQHvPI4WnKuSYf_1Yu8MhSxHB/file# [following]\n",
            "--2024-04-19 16:09:01--  https://uc3c03d8d300435724dbcf929608.dl.dropboxusercontent.com/cd/0/inline/CRXFSCQdhbBAz4d6ZeulVz1PTVpevarggwfY_dP5lT7uwgwH9T9dV5QaKinYnWTimObC-zty5udNf_eai8GgfGZqVZue0kBS98ehHA08h0aTWolqpPDVZPMlFfraXImTQHvPI4WnKuSYf_1Yu8MhSxHB/file\n",
            "Resolving uc3c03d8d300435724dbcf929608.dl.dropboxusercontent.com (uc3c03d8d300435724dbcf929608.dl.dropboxusercontent.com)... 162.125.66.15, 2620:100:6017:15::a27d:20f\n",
            "Connecting to uc3c03d8d300435724dbcf929608.dl.dropboxusercontent.com (uc3c03d8d300435724dbcf929608.dl.dropboxusercontent.com)|162.125.66.15|:443... connected.\n",
            "HTTP request sent, awaiting response... 302 Found\n",
            "Location: /cd/0/inline2/CRXHdHm7dHHrPM1ZTF25rBCo4cscLbZu4NThfxBBdwsGwXlpqcvr81ziuOkFp7-OZMMOfJXkY6I2uSyHkXLIstHzePnh65VEnyXCReRAngTXZju_xQOa9d66F9BGSqD8ywnZaQudc1VMTCn1-I6njzJEsZlLgxMzmhp6AXnXlSpit7a7ZXv3YWcuPYb59RxCCFm-8twAFegvRe-G8sqOoqccThSzI1Ktm2xe82OJ4bE5YHVPulbsIFCTfL5Oow1mgThn_qve2OZIkvVIs9JnJ8sRQKzQsdTvrozWxnco7yqcODjdA-82ZoaFpJ37m94WYUZjFqN-H0kOAaQCnIQFLn4DZSVjUnXPnaN9PvffLPtWh5XobOsOsJdIQ2Qbnt5dHmg/file [following]\n",
            "--2024-04-19 16:09:02--  https://uc3c03d8d300435724dbcf929608.dl.dropboxusercontent.com/cd/0/inline2/CRXHdHm7dHHrPM1ZTF25rBCo4cscLbZu4NThfxBBdwsGwXlpqcvr81ziuOkFp7-OZMMOfJXkY6I2uSyHkXLIstHzePnh65VEnyXCReRAngTXZju_xQOa9d66F9BGSqD8ywnZaQudc1VMTCn1-I6njzJEsZlLgxMzmhp6AXnXlSpit7a7ZXv3YWcuPYb59RxCCFm-8twAFegvRe-G8sqOoqccThSzI1Ktm2xe82OJ4bE5YHVPulbsIFCTfL5Oow1mgThn_qve2OZIkvVIs9JnJ8sRQKzQsdTvrozWxnco7yqcODjdA-82ZoaFpJ37m94WYUZjFqN-H0kOAaQCnIQFLn4DZSVjUnXPnaN9PvffLPtWh5XobOsOsJdIQ2Qbnt5dHmg/file\n",
            "Reusing existing connection to uc3c03d8d300435724dbcf929608.dl.dropboxusercontent.com:443.\n",
            "HTTP request sent, awaiting response... 200 OK\n",
            "Length: 1775595589 (1.7G) [application/zip]\n",
            "Saving to: ‘vs_release_16k.zip’\n",
            "\n",
            "vs_release_16k.zip  100%[===================>]   1.65G  19.7MB/s    in 1m 53s  \n",
            "\n",
            "2024-04-19 16:10:56 (15.0 MB/s) - ‘vs_release_16k.zip’ saved [1775595589/1775595589]\n",
            "\n"
          ]
        }
      ]
    },
    {
      "cell_type": "code",
      "source": [
        "import os\n",
        "\n",
        "zip_filename = 'vs_release_16k.zip'\n",
        "\n",
        "if not os.path.exists(zip_filename):\n",
        "    os.system(\"wget https://www.dropbox.com/s/fuld3z222j9t1oy/vs_release_16k.zip\")"
      ],
      "metadata": {
        "id": "xWdThgO4qAr7"
      },
      "execution_count": 2,
      "outputs": []
    },
    {
      "cell_type": "markdown",
      "metadata": {
        "id": "uR7UfICDLRgx"
      },
      "source": [
        "Dentro de vs_release_16k.zip descomprimimos:  \n",
        "- audio_16k  \n",
        "\n",
        "Nos servimos del módulo zipfile para descomprimir.  "
      ]
    },
    {
      "cell_type": "code",
      "source": [
        "import os\n",
        "from zipfile import ZipFile\n",
        "from concurrent.futures import ThreadPoolExecutor\n",
        "\n",
        "audio_dir = 'audio_16k/'\n",
        "\n",
        "if not os.path.exists(audio_dir):\n",
        "    with ZipFile(zip_filename, 'r') as zf:\n",
        "        with ThreadPoolExecutor() as exe:\n",
        "            for file in zf.namelist():\n",
        "                if file.startswith(audio_dir):\n",
        "                    exe.submit(zf.extract, file)"
      ],
      "metadata": {
        "id": "sEMe-1rtp17-"
      },
      "execution_count": 3,
      "outputs": []
    },
    {
      "cell_type": "code",
      "source": [
        "import tensorflow as tf\n",
        "\n",
        "audio_dir = 'audio_16k/'\n",
        "seed = 42\n",
        "\n",
        "tf.random.set_seed(seed)\n",
        "\n",
        "filenames = tf.io.gfile.glob(audio_dir + '*')\n",
        "filenames = tf.random.shuffle(filenames, seed)\n",
        "\n",
        "print('Total audios:', len(filenames))\n",
        "print('Example:', filenames.shape)"
      ],
      "metadata": {
        "colab": {
          "base_uri": "https://localhost:8080/"
        },
        "id": "ypXddMsVZA-M",
        "outputId": "0d711b00-7dd8-4696-fdf7-41f094a1772d"
      },
      "execution_count": 4,
      "outputs": [
        {
          "output_type": "stream",
          "name": "stdout",
          "text": [
            "Total audios: 21023\n",
            "Example: (21023,)\n"
          ]
        }
      ]
    },
    {
      "cell_type": "code",
      "source": [
        "vocal_sounds = ['cough', 'laughter', 'sigh', 'sneeze', 'sniff', 'throatclearing']\n",
        "num_sounds = len(vocal_sounds)\n",
        "\n",
        "test_file = filenames[0]\n",
        "def get_label(file_path):\n",
        "  label = tf.strings.split(\n",
        "    input=file_path,\n",
        "    sep='_')[-1]\n",
        "\n",
        "  label = tf.strings.split(\n",
        "    input=label,\n",
        "    sep='.')[0]\n",
        "\n",
        "  label = tf.where(label==vocal_sounds)\n",
        "  label = tf.reshape(label, ())\n",
        "  return label\n",
        "\n",
        "get_label(test_file), test_file"
      ],
      "metadata": {
        "colab": {
          "base_uri": "https://localhost:8080/"
        },
        "id": "41hDfCPBb4iS",
        "outputId": "38f58476-75cf-4cec-afc3-a21d84f151ee"
      },
      "execution_count": 5,
      "outputs": [
        {
          "output_type": "execute_result",
          "data": {
            "text/plain": [
              "(<tf.Tensor: shape=(), dtype=int64, numpy=4>,\n",
              " <tf.Tensor: shape=(), dtype=string, numpy=b'audio_16k/m1059_0_sniff.wav'>)"
            ]
          },
          "metadata": {},
          "execution_count": 5
        }
      ]
    },
    {
      "cell_type": "code",
      "source": [
        "std_len = 64000\n",
        "def get_signal(file_path):\n",
        "  audio_binary = tf.io.read_file(file_path)\n",
        "  signal = tf.audio.decode_wav(audio_binary)[0]\n",
        "  signal = signal[:std_len]\n",
        "  signal = tf.pad(signal, [[0, std_len-len(signal)], [0, 0]])\n",
        "  return tf.squeeze(signal, axis=-1)\n",
        "\n",
        "get_signal(test_file), test_file"
      ],
      "metadata": {
        "colab": {
          "base_uri": "https://localhost:8080/"
        },
        "id": "Wt7HzlPLo6gf",
        "outputId": "3e80e2f5-0e6f-4a77-a0e8-b3b4678d700f"
      },
      "execution_count": 6,
      "outputs": [
        {
          "output_type": "execute_result",
          "data": {
            "text/plain": [
              "(<tf.Tensor: shape=(64000,), dtype=float32, numpy=\n",
              " array([-0.00796509, -0.0135498 , -0.01300049, ...,  0.        ,\n",
              "         0.        ,  0.        ], dtype=float32)>,\n",
              " <tf.Tensor: shape=(), dtype=string, numpy=b'audio_16k/m1059_0_sniff.wav'>)"
            ]
          },
          "metadata": {},
          "execution_count": 6
        }
      ]
    },
    {
      "cell_type": "code",
      "source": [
        "AUTOTUNE = tf.data.AUTOTUNE\n",
        "ds_files = tf.data.Dataset.from_tensor_slices(filenames)\n",
        "ds_signals = ds_files.map(lambda x: (get_signal(x), get_label(x)), num_parallel_calls=AUTOTUNE)\n",
        "ds_files.element_spec, ds_signals.element_spec"
      ],
      "metadata": {
        "id": "kQMUH4QNbZ3P",
        "colab": {
          "base_uri": "https://localhost:8080/"
        },
        "outputId": "26242fdc-b710-4c80-b61a-645b3afc7caa"
      },
      "execution_count": 7,
      "outputs": [
        {
          "output_type": "execute_result",
          "data": {
            "text/plain": [
              "(TensorSpec(shape=(), dtype=tf.string, name=None),\n",
              " (TensorSpec(shape=(None,), dtype=tf.float32, name=None),\n",
              "  TensorSpec(shape=(), dtype=tf.int64, name=None)))"
            ]
          },
          "metadata": {},
          "execution_count": 7
        }
      ]
    },
    {
      "cell_type": "code",
      "source": [
        "import matplotlib.pyplot as plt\n",
        "for elem in ds_signals.take(1):\n",
        "  signal, label = elem\n",
        "  plt.plot(signal)\n",
        "  plt.title(vocal_sounds[label])"
      ],
      "metadata": {
        "colab": {
          "base_uri": "https://localhost:8080/",
          "height": 452
        },
        "id": "tpy5OW7Fs1Ek",
        "outputId": "6b3ae1c6-e5f9-4e0c-e820-4e3ea0696638"
      },
      "execution_count": 8,
      "outputs": [
        {
          "output_type": "display_data",
          "data": {
            "text/plain": [
              "<Figure size 640x480 with 1 Axes>"
            ],
            "image/png": "[encoded data removed]"
          },
          "metadata": {}
        }
      ]
    },
    {
      "cell_type": "code",
      "source": [
        "def remove_shortaudio(filename):\n",
        "  if get_signal(filename).shape[0] < min_len:\n",
        "    tf.io.gfile.remove(filename)\n",
        "\n",
        "initial_file_count = 21024\n",
        "\n",
        "if len(filenames) >= initial_file_count:\n",
        "  # Remove less than 0.1s audios (16kHz then 1600 frames)\n",
        "  min_len = 1600\n",
        "  with ThreadPoolExecutor() as exe:\n",
        "    for file in filenames:\n",
        "      exe.submit(remove_shortaudio, file)\n",
        "\n",
        "  filenames = tf.io.gfile.glob(audio_dir + '*')\n",
        "\n",
        "print('Total audios:', len(filenames))\n"
      ],
      "metadata": {
        "id": "xvcOpKxRtE3d",
        "colab": {
          "base_uri": "https://localhost:8080/"
        },
        "outputId": "8aa13dfb-f6cb-4948-caa8-fbf86789936f"
      },
      "execution_count": 9,
      "outputs": [
        {
          "output_type": "stream",
          "name": "stdout",
          "text": [
            "Total audios: 21023\n"
          ]
        }
      ]
    },
    {
      "cell_type": "code",
      "source": [
        "ds_files = tf.data.Dataset.from_tensor_slices(filenames)\n",
        "ds_signals = ds_files.map(lambda x: (get_signal(x), get_label(x)), num_parallel_calls=AUTOTUNE)"
      ],
      "metadata": {
        "id": "1Jncnq4ocKsY"
      },
      "execution_count": 10,
      "outputs": []
    },
    {
      "cell_type": "code",
      "source": [
        "for elem in ds_signals.take(1):\n",
        "  print(elem)"
      ],
      "metadata": {
        "colab": {
          "base_uri": "https://localhost:8080/"
        },
        "id": "y9yA9_bQlv1M",
        "outputId": "68d09cd7-1533-49c3-94a4-225465ad8a1f"
      },
      "execution_count": 11,
      "outputs": [
        {
          "output_type": "stream",
          "name": "stdout",
          "text": [
            "(<tf.Tensor: shape=(64000,), dtype=float32, numpy=\n",
            "array([-0.00796509, -0.0135498 , -0.01300049, ...,  0.        ,\n",
            "        0.        ,  0.        ], dtype=float32)>, <tf.Tensor: shape=(), dtype=int64, numpy=4>)\n"
          ]
        }
      ]
    },
    {
      "cell_type": "code",
      "source": [
        "def normalize(audio, label):\n",
        "  label = tf.one_hot(label, len(vocal_sounds))\n",
        "  return audio, label\n",
        "\n",
        "ds_signals = ds_signals.map(normalize).cache()"
      ],
      "metadata": {
        "id": "3dST_H_VmB_A"
      },
      "execution_count": 12,
      "outputs": []
    },
    {
      "cell_type": "code",
      "source": [
        "for elem in ds_signals.take(1):\n",
        "  print(elem)"
      ],
      "metadata": {
        "colab": {
          "base_uri": "https://localhost:8080/"
        },
        "id": "nYTpsGb3MtS_",
        "outputId": "4470cb62-9ff8-42f7-ef0c-ea70899d5a01"
      },
      "execution_count": 13,
      "outputs": [
        {
          "output_type": "stream",
          "name": "stdout",
          "text": [
            "(<tf.Tensor: shape=(64000,), dtype=float32, numpy=\n",
            "array([-0.00796509, -0.0135498 , -0.01300049, ...,  0.        ,\n",
            "        0.        ,  0.        ], dtype=float32)>, <tf.Tensor: shape=(6,), dtype=float32, numpy=array([0., 0., 0., 0., 1., 0.], dtype=float32)>)\n"
          ]
        }
      ]
    },
    {
      "cell_type": "code",
      "source": [
        "ds_signals.element_spec"
      ],
      "metadata": {
        "id": "MntLIWZJcFdb",
        "outputId": "9c318591-9e54-4846-e336-430a1b78e3ad",
        "colab": {
          "base_uri": "https://localhost:8080/"
        }
      },
      "execution_count": 14,
      "outputs": [
        {
          "output_type": "execute_result",
          "data": {
            "text/plain": [
              "(TensorSpec(shape=(None,), dtype=tf.float32, name=None),\n",
              " TensorSpec(shape=(6,), dtype=tf.float32, name=None))"
            ]
          },
          "metadata": {},
          "execution_count": 14
        }
      ]
    },
    {
      "cell_type": "code",
      "execution_count": 15,
      "metadata": {
        "id": "AtLbAh6jLRg8"
      },
      "outputs": [],
      "source": [
        "num_train = len(ds_signals)\n",
        "\n",
        "RATIO = 0.2\n",
        "test_size = int(RATIO * num_train)\n",
        "\n",
        "ds_train = ds_signals.skip(test_size)\n",
        "ds_test = ds_signals.take(test_size)"
      ]
    },
    {
      "cell_type": "code",
      "execution_count": 16,
      "metadata": {
        "id": "IwiMw9keLRg8"
      },
      "outputs": [],
      "source": [
        "num_train = len(ds_train)\n",
        "\n",
        "RATIO = 0.2\n",
        "validation_size = int(RATIO * num_train)\n",
        "\n",
        "ds_fit = ds_signals.skip(validation_size)\n",
        "ds_val = ds_signals.take(validation_size)"
      ]
    },
    {
      "cell_type": "code",
      "execution_count": 17,
      "metadata": {
        "id": "fkTw9s3lLRg9"
      },
      "outputs": [],
      "source": [
        "AUTOTUNE = tf.data.AUTOTUNE\n",
        "BATCH_SIZE = 128\n",
        "ds_fit = (\n",
        "    ds_fit\n",
        "    .cache()\n",
        "    .shuffle(len(ds_fit))\n",
        "    .batch(BATCH_SIZE)\n",
        "    .prefetch(AUTOTUNE)\n",
        ")\n",
        "\n",
        "ds_val = (\n",
        "    ds_val\n",
        "    .cache()\n",
        "    .batch(BATCH_SIZE)\n",
        "    .prefetch(tf.data.AUTOTUNE)\n",
        ")"
      ]
    },
    {
      "cell_type": "code",
      "execution_count": 18,
      "metadata": {
        "id": "cq9rBe_GLRg9"
      },
      "outputs": [],
      "source": [
        "from tensorflow.keras.callbacks import EarlyStopping, ReduceLROnPlateau\n",
        "\n",
        "# Reduce learning rate\n",
        "reduce_lr = ReduceLROnPlateau(monitor='val_accuracy', factor=0.2, patience=4, min_lr=0.0001)\n",
        "\n",
        "epoch_wait = 5\n",
        "# Crear el EarlyStopping callback con la función on_train_end\n",
        "early_stopping = EarlyStopping(monitor='val_loss', mode='min', verbose=1, patience=epoch_wait)\n",
        "\n",
        "# Definimos los callbacks\n",
        "callbacks = [early_stopping, reduce_lr]"
      ]
    },
    {
      "cell_type": "code",
      "execution_count": 19,
      "metadata": {
        "id": "ZBl67bkdLRg-"
      },
      "outputs": [],
      "source": [
        "# Establecer la semilla global\n",
        "seed_value = 42\n",
        "tf.random.set_seed(seed_value)"
      ]
    },
    {
      "cell_type": "code",
      "execution_count": 20,
      "metadata": {
        "id": "v_jh0jR1LRg-",
        "colab": {
          "base_uri": "https://localhost:8080/"
        },
        "outputId": "f28e5555-8934-4ea4-b8a7-b7103de843f2"
      },
      "outputs": [
        {
          "output_type": "stream",
          "name": "stdout",
          "text": [
            "Model: \"sequential\"\n",
            "_________________________________________________________________\n",
            " Layer (type)                Output Shape              Param #   \n",
            "=================================================================\n",
            " conv1d (Conv1D)             (None, 63998, 32)         128       \n",
            "                                                                 \n",
            " max_pooling1d (MaxPooling1  (None, 31999, 32)         0         \n",
            " D)                                                              \n",
            "                                                                 \n",
            " conv1d_1 (Conv1D)           (None, 31997, 16)         1552      \n",
            "                                                                 \n",
            " max_pooling1d_1 (MaxPoolin  (None, 15998, 16)         0         \n",
            " g1D)                                                            \n",
            "                                                                 \n",
            " flatten (Flatten)           (None, 255968)            0         \n",
            "                                                                 \n",
            " dense (Dense)               (None, 32)                8191008   \n",
            "                                                                 \n",
            " dense_1 (Dense)             (None, 6)                 198       \n",
            "                                                                 \n",
            "=================================================================\n",
            "Total params: 8192886 (31.25 MB)\n",
            "Trainable params: 8192886 (31.25 MB)\n",
            "Non-trainable params: 0 (0.00 Byte)\n",
            "_________________________________________________________________\n"
          ]
        }
      ],
      "source": [
        "import tensorflow as tf\n",
        "from tensorflow.keras import Sequential\n",
        "from tensorflow.keras.layers import Dense, Dropout\n",
        "from tensorflow.keras.layers import Conv1D, MaxPooling1D, Flatten\n",
        "\n",
        "model = Sequential([\n",
        "    Conv1D(32, 3, activation='relu', input_shape=(64000, 1)),\n",
        "    MaxPooling1D(2),\n",
        "    Conv1D(16, 3, activation='relu'),\n",
        "    MaxPooling1D(2),\n",
        "    Flatten(),\n",
        "    Dense(32, activation='relu'),\n",
        "    Dense(6, activation='sigmoid')\n",
        "])\n",
        "\n",
        "model.compile(optimizer='adam', loss='binary_crossentropy', metrics=['accuracy'])\n",
        "\n",
        "# Print model summary\n",
        "model.summary()\n",
        "\n",
        "# Train the model\n"
      ]
    },
    {
      "cell_type": "code",
      "execution_count": 21,
      "metadata": {
        "id": "__X9T6ZQLRg-",
        "colab": {
          "base_uri": "https://localhost:8080/"
        },
        "outputId": "1dd7974d-902d-4c3e-9153-a19191e8ab33"
      },
      "outputs": [
        {
          "output_type": "stream",
          "name": "stdout",
          "text": [
            "Epoch 1/100\n",
            "138/138 [==============================] - 91s 280ms/step - loss: 0.3961 - accuracy: 0.4238 - val_loss: 0.3650 - val_accuracy: 0.4719 - lr: 0.0010\n",
            "Epoch 2/100\n",
            "138/138 [==============================] - 38s 276ms/step - loss: 0.3220 - accuracy: 0.5700 - val_loss: 0.3499 - val_accuracy: 0.5180 - lr: 0.0010\n",
            "Epoch 3/100\n",
            "138/138 [==============================] - 36s 259ms/step - loss: 0.2596 - accuracy: 0.6879 - val_loss: 0.3718 - val_accuracy: 0.5192 - lr: 0.0010\n",
            "Epoch 4/100\n",
            "138/138 [==============================] - 36s 262ms/step - loss: 0.1885 - accuracy: 0.8002 - val_loss: 0.4246 - val_accuracy: 0.5233 - lr: 0.0010\n",
            "Epoch 5/100\n",
            "138/138 [==============================] - 36s 260ms/step - loss: 0.1278 - accuracy: 0.8779 - val_loss: 0.5098 - val_accuracy: 0.5091 - lr: 0.0010\n",
            "Epoch 6/100\n",
            "138/138 [==============================] - 36s 259ms/step - loss: 0.0915 - accuracy: 0.9209 - val_loss: 0.6402 - val_accuracy: 0.5007 - lr: 0.0010\n",
            "Epoch 7/100\n",
            "138/138 [==============================] - 36s 262ms/step - loss: 0.0716 - accuracy: 0.9417 - val_loss: 0.6823 - val_accuracy: 0.4957 - lr: 0.0010\n",
            "Epoch 7: early stopping\n"
          ]
        }
      ],
      "source": [
        "history = model.fit(ds_fit, epochs=100, validation_data=ds_val, callbacks=callbacks)"
      ]
    },
    {
      "cell_type": "code",
      "execution_count": 22,
      "metadata": {
        "id": "i0r_yhAALRg_",
        "outputId": "637cbd87-a0ca-4e76-9492-f9deb9c1833f",
        "colab": {
          "base_uri": "https://localhost:8080/"
        }
      },
      "outputs": [
        {
          "output_type": "stream",
          "name": "stdout",
          "text": [
            "33/33 [==============================] - 4s 128ms/step - loss: 0.5566 - accuracy: 0.5885\n",
            "Test accuracy: 0.5884871482849121\n"
          ]
        }
      ],
      "source": [
        "BATCH_SIZE = 128\n",
        "ds_eval = (\n",
        "    ds_test.cache()\n",
        "    .batch(BATCH_SIZE)\n",
        "    .prefetch(AUTOTUNE)\n",
        ")\n",
        "test_loss, test_acc = model.evaluate(ds_eval)\n",
        "\n",
        "print('Test accuracy:', test_acc)"
      ]
    }
  ],
  "metadata": {
    "kernelspec": {
      "display_name": "Python 3",
      "name": "python3"
    },
    "language_info": {
      "codemirror_mode": {
        "name": "ipython",
        "version": 3
      },
      "file_extension": ".py",
      "mimetype": "text/x-python",
      "name": "python",
      "nbconvert_exporter": "python",
      "pygments_lexer": "ipython3",
      "version": "3.11.4"
    },
    "colab": {
      "provenance": [],
      "gpuType": "T4",
      "include_colab_link": true
    },
    "accelerator": "GPU"
  },
  "nbformat": 4,
  "nbformat_minor": 0
}