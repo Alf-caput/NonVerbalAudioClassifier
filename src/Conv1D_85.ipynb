{
  "cells": [
    {
      "cell_type": "markdown",
      "metadata": {
        "id": "view-in-github",
        "colab_type": "text"
      },
      "source": [
        "<a href=\"https://colab.research.google.com/github/Alf-caput/NonVerbalAudioClassifier/blob/dev2/src/Conv1D_85.ipynb\" target=\"_parent\"><img src=\"https://colab.research.google.com/assets/colab-badge.svg\" alt=\"Open In Colab\"/></a>"
      ]
    },
    {
      "cell_type": "code",
      "source": [
        "!wget https://www.dropbox.com/s/fuld3z222j9t1oy/vs_release_16k.zip"
      ],
      "metadata": {
        "id": "Ki3dtfpo5ujf",
        "outputId": "4546b590-b2f6-44ba-dce6-234acecc6e24",
        "colab": {
          "base_uri": "https://localhost:8080/"
        }
      },
      "execution_count": 1,
      "outputs": [
        {
          "output_type": "stream",
          "name": "stdout",
          "text": [
            "--2024-04-25 15:39:15--  https://www.dropbox.com/s/fuld3z222j9t1oy/vs_release_16k.zip\n",
            "Resolving www.dropbox.com (www.dropbox.com)... 162.125.80.18, 2620:100:6035:18::a27d:5512\n",
            "Connecting to www.dropbox.com (www.dropbox.com)|162.125.80.18|:443... connected.\n",
            "HTTP request sent, awaiting response... 302 Found\n",
            "Location: /s/raw/fuld3z222j9t1oy/vs_release_16k.zip [following]\n",
            "--2024-04-25 15:39:16--  https://www.dropbox.com/s/raw/fuld3z222j9t1oy/vs_release_16k.zip\n",
            "Reusing existing connection to www.dropbox.com:443.\n",
            "HTTP request sent, awaiting response... 302 Found\n",
            "Location: https://uc0f331021168e4737b33c0387b8.dl.dropboxusercontent.com/cd/0/inline/CRumjmB0Fy0z6NxbhqbthBMldfQW3yNhAgTBplvzEGE0NQ-Tjx5B-8D9d3RuKLcIu96zRAGUPaPTRgVf8pcW63vtDUbfc7PCNXKhSdhJwU-DhUfRjAt_zjJyvYu8hqme2bjlssaxv6968JaeoJS6n8jg/file# [following]\n",
            "--2024-04-25 15:39:17--  https://uc0f331021168e4737b33c0387b8.dl.dropboxusercontent.com/cd/0/inline/CRumjmB0Fy0z6NxbhqbthBMldfQW3yNhAgTBplvzEGE0NQ-Tjx5B-8D9d3RuKLcIu96zRAGUPaPTRgVf8pcW63vtDUbfc7PCNXKhSdhJwU-DhUfRjAt_zjJyvYu8hqme2bjlssaxv6968JaeoJS6n8jg/file\n",
            "Resolving uc0f331021168e4737b33c0387b8.dl.dropboxusercontent.com (uc0f331021168e4737b33c0387b8.dl.dropboxusercontent.com)... 162.125.80.15, 2620:100:6017:15::a27d:20f\n",
            "Connecting to uc0f331021168e4737b33c0387b8.dl.dropboxusercontent.com (uc0f331021168e4737b33c0387b8.dl.dropboxusercontent.com)|162.125.80.15|:443... connected.\n",
            "HTTP request sent, awaiting response... 302 Found\n",
            "Location: /cd/0/inline2/CRui8PkLzdxFjCm2385-ZGkvlUVPnMWBRSWohNQZyPByzEEyCr4fRj13rsuAL7vAHqjsSV-fFaSbiNJboaw-LY3E6DHr8v3ODe3MjGiTI9p3szD20WGY6c7RkeJ9EhWT-SYsNE_H1g_nNisSQ3huZVcGY5horcJ_T-rWfsWe5zPMNCh6S9GeSZu8qiyGNXxoi638ik0oBkVqscZ-fR3bIdQ9LsHyvtuTuJ7LDp17OwrNBnbFxxx7K39fWi7VgDpjP37YxAjTuaarWeMHvN3Tj_T7omkSOCXyCp5RIovp-Eybvk87qtjZmS6wl9MqudAlSyddiaPm5gnpqWLEeGv7TBXgnyA-tdSMnb28_lXil5lzPX4id6206MoJ3gA5XM9XECw/file [following]\n",
            "--2024-04-25 15:39:18--  https://uc0f331021168e4737b33c0387b8.dl.dropboxusercontent.com/cd/0/inline2/CRui8PkLzdxFjCm2385-ZGkvlUVPnMWBRSWohNQZyPByzEEyCr4fRj13rsuAL7vAHqjsSV-fFaSbiNJboaw-LY3E6DHr8v3ODe3MjGiTI9p3szD20WGY6c7RkeJ9EhWT-SYsNE_H1g_nNisSQ3huZVcGY5horcJ_T-rWfsWe5zPMNCh6S9GeSZu8qiyGNXxoi638ik0oBkVqscZ-fR3bIdQ9LsHyvtuTuJ7LDp17OwrNBnbFxxx7K39fWi7VgDpjP37YxAjTuaarWeMHvN3Tj_T7omkSOCXyCp5RIovp-Eybvk87qtjZmS6wl9MqudAlSyddiaPm5gnpqWLEeGv7TBXgnyA-tdSMnb28_lXil5lzPX4id6206MoJ3gA5XM9XECw/file\n",
            "Reusing existing connection to uc0f331021168e4737b33c0387b8.dl.dropboxusercontent.com:443.\n",
            "HTTP request sent, awaiting response... 200 OK\n",
            "Length: 1775595589 (1.7G) [application/zip]\n",
            "Saving to: ‘vs_release_16k.zip’\n",
            "\n",
            "vs_release_16k.zip  100%[===================>]   1.65G  24.4MB/s    in 66s     \n",
            "\n",
            "2024-04-25 15:40:25 (25.5 MB/s) - ‘vs_release_16k.zip’ saved [1775595589/1775595589]\n",
            "\n"
          ]
        }
      ]
    },
    {
      "cell_type": "code",
      "execution_count": 2,
      "metadata": {
        "id": "ATPf6j4cLRgv"
      },
      "outputs": [],
      "source": [
        "import os\n",
        "\n",
        "zip_filename = 'vs_release_16k.zip'\n",
        "\n",
        "if not os.path.exists(zip_filename):\n",
        "    os.system(\"wget https://www.dropbox.com/s/fuld3z222j9t1oy/vs_release_16k.zip\")"
      ]
    },
    {
      "cell_type": "markdown",
      "metadata": {
        "id": "uR7UfICDLRgx"
      },
      "source": [
        "Dentro de vs_release_16k.zip descomprimimos:  \n",
        "- audio_16k  \n",
        "\n",
        "Nos servimos del módulo zipfile para descomprimir.  "
      ]
    },
    {
      "cell_type": "code",
      "execution_count": 3,
      "metadata": {
        "id": "vyOyxxYdLRgy"
      },
      "outputs": [],
      "source": [
        "import os\n",
        "from zipfile import ZipFile\n",
        "from concurrent.futures import ThreadPoolExecutor\n",
        "\n",
        "zip_filename = 'vs_release_16k.zip'\n",
        "audio_dir = 'audio_16k/'\n",
        "\n",
        "if not os.path.exists(audio_dir):\n",
        "    with ZipFile(zip_filename, 'r') as zf:\n",
        "        with ThreadPoolExecutor() as exe:\n",
        "            for file in zf.namelist():\n",
        "                if file.startswith(audio_dir):\n",
        "                    exe.submit(zf.extract, file)"
      ]
    },
    {
      "cell_type": "code",
      "execution_count": 4,
      "metadata": {
        "id": "ZDNoTcQ-2rR6",
        "outputId": "ab40e6fe-4d17-4fa5-d794-dbd920ccd188",
        "colab": {
          "base_uri": "https://localhost:8080/"
        }
      },
      "outputs": [
        {
          "output_type": "stream",
          "name": "stdout",
          "text": [
            "Total audios: 21024\n",
            "Filenames shape: TensorSpec(shape=(), dtype=tf.string, name=None)\n"
          ]
        }
      ],
      "source": [
        "import tensorflow as tf\n",
        "\n",
        "audio_dir = 'audio_16k/'\n",
        "seed = 42\n",
        "\n",
        "tf.random.set_seed(seed)\n",
        "\n",
        "ds_files = tf.data.Dataset.list_files(audio_dir + '*.wav') # by default shuffle=True\n",
        "\n",
        "print(\"Total audios:\", len(ds_files))\n",
        "print(\"Filenames shape:\", ds_files.element_spec)"
      ]
    },
    {
      "cell_type": "code",
      "execution_count": 5,
      "metadata": {
        "id": "mUEfxSs42rR7",
        "outputId": "b67142a0-44a7-4f43-d3bd-1eaa9cbd68b5",
        "colab": {
          "base_uri": "https://localhost:8080/"
        }
      },
      "outputs": [
        {
          "output_type": "stream",
          "name": "stdout",
          "text": [
            "tf.Tensor(b'audio_16k/f0228_0_sneeze.wav', shape=(), dtype=string)\n",
            "tf.Tensor(b'audio_16k/f0496_0_sneeze.wav', shape=(), dtype=string)\n",
            "tf.Tensor(b'audio_16k/m1948_1_cough.wav', shape=(), dtype=string)\n",
            "tf.Tensor(b'audio_16k/m1478_0_cough.wav', shape=(), dtype=string)\n",
            "tf.Tensor(b'audio_16k/m1513_0_cough.wav', shape=(), dtype=string)\n"
          ]
        }
      ],
      "source": [
        "for elem in ds_files.take(5):\n",
        "    print(elem)"
      ]
    },
    {
      "cell_type": "code",
      "execution_count": 6,
      "metadata": {
        "colab": {
          "base_uri": "https://localhost:8080/"
        },
        "id": "41hDfCPBb4iS",
        "outputId": "b65ef0f1-bcd3-4e92-eedf-c092f0c3e53f"
      },
      "outputs": [
        {
          "output_type": "stream",
          "name": "stdout",
          "text": [
            "Filename Tensor: tf.Tensor(b'audio_16k/m2844_0_sigh.wav', shape=(), dtype=string)\n",
            "Label Tensor: tf.Tensor(2, shape=(), dtype=int64)\n"
          ]
        }
      ],
      "source": [
        "vocal_sounds = ['cough', 'laughter', 'sigh', 'sneeze', 'sniff', 'throatclearing']\n",
        "num_sounds = len(vocal_sounds)\n",
        "\n",
        "for elem in ds_files.take(1):\n",
        "    example_file = elem\n",
        "\n",
        "def get_label(file_path):\n",
        "  label = tf.strings.split(\n",
        "    input=file_path,\n",
        "    sep='_')[-1]\n",
        "\n",
        "  label = tf.strings.split(\n",
        "    input=label,\n",
        "    sep='.')[0]\n",
        "\n",
        "  label = tf.where(label==vocal_sounds)\n",
        "  label = tf.reshape(label, ())\n",
        "  return label\n",
        "\n",
        "print(\"Filename Tensor:\", example_file)\n",
        "print(\"Label Tensor:\", get_label(example_file))"
      ]
    },
    {
      "cell_type": "code",
      "execution_count": 7,
      "metadata": {
        "colab": {
          "base_uri": "https://localhost:8080/"
        },
        "id": "Wt7HzlPLo6gf",
        "outputId": "98a53337-0a45-4671-f610-9135ffdd49c6"
      },
      "outputs": [
        {
          "output_type": "stream",
          "name": "stdout",
          "text": [
            "Filename Tensor: tf.Tensor(b'audio_16k/f1334_0_laughter.wav', shape=(), dtype=string)\n",
            "Signal Tensor: tf.Tensor(\n",
            "[ 3.3569336e-03  4.2419434e-03  1.2207031e-03 ...  9.1552734e-05\n",
            "  0.0000000e+00 -1.8310547e-04], shape=(94208,), dtype=float32)\n"
          ]
        }
      ],
      "source": [
        "for elem in ds_files.take(1):\n",
        "    example_file = elem\n",
        "\n",
        "def get_signal(file_path):\n",
        "\n",
        "  audio_binary = tf.io.read_file(file_path)\n",
        "  signal = tf.audio.decode_wav(audio_binary)[0]\n",
        "\n",
        "  return tf.squeeze(signal, axis=-1)\n",
        "\n",
        "print(\"Filename Tensor:\", example_file)\n",
        "print(\"Signal Tensor:\", get_signal(example_file))"
      ]
    },
    {
      "cell_type": "code",
      "execution_count": 8,
      "metadata": {
        "colab": {
          "base_uri": "https://localhost:8080/"
        },
        "id": "kQMUH4QNbZ3P",
        "outputId": "4f3b0ff8-888f-43ae-ca69-d0b2e608ecf2"
      },
      "outputs": [
        {
          "output_type": "stream",
          "name": "stdout",
          "text": [
            "Total signals: 21024\n",
            "Signals shape: (TensorSpec(shape=(None,), dtype=tf.float32, name=None), TensorSpec(shape=(), dtype=tf.int64, name=None))\n"
          ]
        }
      ],
      "source": [
        "AUTOTUNE = tf.data.AUTOTUNE\n",
        "\n",
        "ds_signals = (\n",
        "    ds_files\n",
        "    .shuffle(len(ds_files))\n",
        "    .cache()\n",
        "    .map(lambda x: (get_signal(x), get_label(x)), num_parallel_calls=AUTOTUNE)\n",
        "    )\n",
        "\n",
        "print(\"Total signals:\", len(ds_signals))\n",
        "print(\"Signals shape:\", ds_signals.element_spec)"
      ]
    },
    {
      "cell_type": "code",
      "execution_count": 9,
      "metadata": {
        "colab": {
          "base_uri": "https://localhost:8080/",
          "height": 452
        },
        "id": "tpy5OW7Fs1Ek",
        "outputId": "3397f5cb-2857-4826-b2f4-41a1161f46c9"
      },
      "outputs": [
        {
          "output_type": "display_data",
          "data": {
            "text/plain": [
              "<Figure size 640x480 with 1 Axes>"
            ],
            "image/png": "[encoded data removed]"
          },
          "metadata": {}
        }
      ],
      "source": [
        "import matplotlib.pyplot as plt\n",
        "for elem in ds_signals.take(1):\n",
        "  signal, label = elem\n",
        "  plt.plot(signal)\n",
        "  plt.title(vocal_sounds[label])"
      ]
    },
    {
      "cell_type": "code",
      "source": [
        "for elem in ds_files:\n",
        "  print(get_signal(elem).shape[0])\n",
        "  break"
      ],
      "metadata": {
        "id": "xWkRExMY7GZd",
        "outputId": "14bc2b8f-29b0-4c96-876e-ff667af76424",
        "colab": {
          "base_uri": "https://localhost:8080/"
        }
      },
      "execution_count": 10,
      "outputs": [
        {
          "output_type": "stream",
          "name": "stdout",
          "text": [
            "17749\n"
          ]
        }
      ]
    },
    {
      "cell_type": "code",
      "source": [
        "ds_files = tf.data.Dataset.list_files(audio_dir + '*.wav') # by default shuffle=True\n",
        "len(ds_files)"
      ],
      "metadata": {
        "id": "nG5Qp9LD7t4X",
        "outputId": "de017a1f-d03d-41ee-93ea-7d4432d821ba",
        "colab": {
          "base_uri": "https://localhost:8080/"
        }
      },
      "execution_count": 11,
      "outputs": [
        {
          "output_type": "execute_result",
          "data": {
            "text/plain": [
              "21024"
            ]
          },
          "metadata": {},
          "execution_count": 11
        }
      ]
    },
    {
      "cell_type": "code",
      "execution_count": 12,
      "metadata": {
        "colab": {
          "base_uri": "https://localhost:8080/"
        },
        "id": "xvcOpKxRtE3d",
        "outputId": "80fd7062-5c5d-42f0-aa2e-8854ecc99372"
      },
      "outputs": [
        {
          "output_type": "stream",
          "name": "stdout",
          "text": [
            "Total audios: 20982\n"
          ]
        }
      ],
      "source": [
        "def remove_shortaudio(file_path, min_len):\n",
        "  if get_signal(file_path).shape[0] < min_len:\n",
        "    tf.io.gfile.remove(file_path)\n",
        "\n",
        "initial_file_count = 21024\n",
        "\n",
        "if len(ds_files) >= initial_file_count:\n",
        "  # Remove less than 0.1s audios (16kHz then 1600 frames)\n",
        "  min_len = 1600\n",
        "  with ThreadPoolExecutor() as exe:\n",
        "    for file in ds_files:\n",
        "      exe.submit(remove_shortaudio, file.numpy(), min_len)\n",
        "\n",
        "  ds_files = tf.data.Dataset.list_files(audio_dir + '*.wav') # by default shuffle=True\n",
        "\n",
        "print('Total audios:', len(ds_files))"
      ]
    },
    {
      "cell_type": "code",
      "execution_count": 13,
      "metadata": {
        "colab": {
          "base_uri": "https://localhost:8080/"
        },
        "id": "y9yA9_bQlv1M",
        "outputId": "8a7c8163-554c-48b3-85cc-cd530c185057"
      },
      "outputs": [
        {
          "output_type": "stream",
          "name": "stdout",
          "text": [
            "(<tf.Tensor: shape=(68267,), dtype=float32, numpy=\n",
            "array([ 5.1879883e-04,  9.7656250e-04,  8.2397461e-04, ...,\n",
            "       -2.1362305e-04, -6.1035156e-05,  6.1035156e-05], dtype=float32)>, <tf.Tensor: shape=(), dtype=int64, numpy=5>)\n"
          ]
        }
      ],
      "source": [
        "ds_signals = ds_files.map(lambda x: (get_signal(x), get_label(x)), num_parallel_calls=AUTOTUNE)\n",
        "for elem in ds_signals.take(1):\n",
        "  print(elem)"
      ]
    },
    {
      "cell_type": "code",
      "execution_count": 14,
      "metadata": {
        "id": "3dST_H_VmB_A",
        "outputId": "c3501ae2-5b38-4e04-a6ff-a527d68eac95",
        "colab": {
          "base_uri": "https://localhost:8080/"
        }
      },
      "outputs": [
        {
          "output_type": "stream",
          "name": "stdout",
          "text": [
            "Tensor(\"strided_slice:0\", shape=(), dtype=int32) Tensor(\"strided_slice_1:0\", shape=(), dtype=int32)\n"
          ]
        }
      ],
      "source": [
        "vocal_sounds = ['cough', 'laughter', 'sigh', 'sneeze', 'sniff', 'throatclearing']\n",
        "num_sounds = len(vocal_sounds)\n",
        "\n",
        "\n",
        "def normalize(signal, label):\n",
        "  # Label to onehot\n",
        "  label = tf.one_hot(label, len(vocal_sounds))\n",
        "\n",
        "  # Signal to standard length\n",
        "  std_len = 64_000 # 4s\n",
        "  curr_len = len(signal)\n",
        "  print(curr_len, len(signal))\n",
        "\n",
        "  if curr_len > std_len:\n",
        "    rand_idx = tf.random.uniform(shape=[], maxval=curr_len-std_len, dtype=tf.int32)\n",
        "    signal = signal[rand_idx:rand_idx+std_len]\n",
        "\n",
        "  else:\n",
        "    left_padding = (std_len - curr_len) // 2\n",
        "    right_padding = std_len - curr_len - left_padding\n",
        "    signal = tf.pad(signal, [[left_padding, right_padding]])\n",
        "\n",
        "  return signal, label\n",
        "\n",
        "ds_signals = ds_signals.map(normalize)"
      ]
    },
    {
      "cell_type": "code",
      "execution_count": 15,
      "metadata": {
        "colab": {
          "base_uri": "https://localhost:8080/"
        },
        "id": "nYTpsGb3MtS_",
        "outputId": "a3a41c0b-98fb-46b8-dfaa-6880e5df18bb"
      },
      "outputs": [
        {
          "output_type": "stream",
          "name": "stdout",
          "text": [
            "(<tf.Tensor: shape=(64000,), dtype=float32, numpy=array([0., 0., 0., ..., 0., 0., 0.], dtype=float32)>, <tf.Tensor: shape=(6,), dtype=float32, numpy=array([0., 0., 0., 1., 0., 0.], dtype=float32)>)\n",
            "(<tf.Tensor: shape=(64000,), dtype=float32, numpy=array([0., 0., 0., ..., 0., 0., 0.], dtype=float32)>, <tf.Tensor: shape=(6,), dtype=float32, numpy=array([0., 0., 0., 0., 1., 0.], dtype=float32)>)\n"
          ]
        }
      ],
      "source": [
        "for elem in ds_signals.take(2):\n",
        "  print(elem)"
      ]
    },
    {
      "cell_type": "code",
      "execution_count": 16,
      "metadata": {
        "colab": {
          "base_uri": "https://localhost:8080/"
        },
        "id": "MntLIWZJcFdb",
        "outputId": "f1da86c9-9342-40ae-feff-b7bfa0a2c534"
      },
      "outputs": [
        {
          "output_type": "execute_result",
          "data": {
            "text/plain": [
              "(TensorSpec(shape=(None,), dtype=tf.float32, name=None),\n",
              " TensorSpec(shape=(6,), dtype=tf.float32, name=None))"
            ]
          },
          "metadata": {},
          "execution_count": 16
        }
      ],
      "source": [
        "ds_signals.element_spec"
      ]
    },
    {
      "cell_type": "code",
      "execution_count": 17,
      "metadata": {
        "id": "AtLbAh6jLRg8"
      },
      "outputs": [],
      "source": [
        "num_train = len(ds_signals)\n",
        "\n",
        "RATIO = 0.2\n",
        "test_size = int(RATIO * num_train)\n",
        "\n",
        "ds_train = ds_signals.skip(test_size)\n",
        "ds_test = ds_signals.take(test_size)"
      ]
    },
    {
      "cell_type": "code",
      "execution_count": 18,
      "metadata": {
        "id": "IwiMw9keLRg8"
      },
      "outputs": [],
      "source": [
        "num_train = len(ds_train)\n",
        "\n",
        "RATIO = 0.2\n",
        "validation_size = int(RATIO * num_train)\n",
        "\n",
        "ds_fit = ds_signals.skip(validation_size)\n",
        "ds_val = ds_signals.take(validation_size)"
      ]
    },
    {
      "cell_type": "code",
      "execution_count": 19,
      "metadata": {
        "id": "fkTw9s3lLRg9"
      },
      "outputs": [],
      "source": [
        "AUTOTUNE = tf.data.AUTOTUNE\n",
        "BATCH_SIZE = 128\n",
        "ds_fit = (\n",
        "    ds_fit\n",
        "    .cache()\n",
        "    .shuffle(len(ds_fit))\n",
        "    .batch(BATCH_SIZE)\n",
        "    .prefetch(AUTOTUNE)\n",
        ")\n",
        "\n",
        "ds_val = (\n",
        "    ds_val\n",
        "    .cache()\n",
        "    .batch(32)\n",
        "    .prefetch(tf.data.AUTOTUNE)\n",
        ")"
      ]
    },
    {
      "cell_type": "code",
      "execution_count": 20,
      "metadata": {
        "id": "cq9rBe_GLRg9"
      },
      "outputs": [],
      "source": [
        "from tensorflow.keras.callbacks import EarlyStopping, ReduceLROnPlateau\n",
        "\n",
        "# Reduce learning rate\n",
        "reduce_lr = ReduceLROnPlateau(monitor='val_accuracy', factor=0.2, patience=4, min_lr=0.0001)\n",
        "\n",
        "epoch_wait = 5\n",
        "# Crear el EarlyStopping callback con la función on_train_end\n",
        "early_stopping = EarlyStopping(monitor='val_loss', mode='min', verbose=1, patience=epoch_wait, restore_best_weights=True)\n",
        "\n",
        "# Definimos los callbacks\n",
        "callbacks = [early_stopping, reduce_lr]"
      ]
    },
    {
      "cell_type": "code",
      "source": [
        "import tensorflow as tf\n",
        "from tensorflow.keras import Sequential\n",
        "from tensorflow.keras.layers import Dense, Dropout\n",
        "from tensorflow.keras.layers import Conv1D, MaxPooling1D, Flatten\n",
        "\n",
        "model = Sequential([\n",
        "    Conv1D(64, 3, activation='relu', input_shape=(64000, 1)),\n",
        "    MaxPooling1D(2),\n",
        "    Conv1D(64, 3, activation='relu'),\n",
        "    MaxPooling1D(6),\n",
        "    Conv1D(64, 3, activation='relu'),\n",
        "    MaxPooling1D(3),\n",
        "    Conv1D(64, 3, activation='relu'),\n",
        "    MaxPooling1D(2),\n",
        "    Conv1D(64, 3, activation='relu'),\n",
        "    MaxPooling1D(4),\n",
        "    Conv1D(128, 3, activation='relu'),\n",
        "    MaxPooling1D(2),\n",
        "    Flatten(),\n",
        "\n",
        "    Dense(64, activation='relu'),\n",
        "    Dense(6, activation='softmax')  # Usar softmax para clasificación multiclase\n",
        "])\n",
        "\n",
        "model.compile(optimizer='adam', loss='binary_crossentropy', metrics=['accuracy'])\n",
        "\n",
        "# Print model summary\n",
        "model.summary()"
      ],
      "metadata": {
        "id": "EZ-6L9Ur3ErO",
        "outputId": "3e3752c7-80fe-4ec5-c743-f308ba09679a",
        "colab": {
          "base_uri": "https://localhost:8080/"
        }
      },
      "execution_count": 23,
      "outputs": [
        {
          "output_type": "stream",
          "name": "stdout",
          "text": [
            "Model: \"sequential_1\"\n",
            "_________________________________________________________________\n",
            " Layer (type)                Output Shape              Param #   \n",
            "=================================================================\n",
            " conv1d_5 (Conv1D)           (None, 63998, 64)         256       \n",
            "                                                                 \n",
            " max_pooling1d_5 (MaxPoolin  (None, 31999, 64)         0         \n",
            " g1D)                                                            \n",
            "                                                                 \n",
            " conv1d_6 (Conv1D)           (None, 31997, 64)         12352     \n",
            "                                                                 \n",
            " max_pooling1d_6 (MaxPoolin  (None, 5332, 64)          0         \n",
            " g1D)                                                            \n",
            "                                                                 \n",
            " conv1d_7 (Conv1D)           (None, 5330, 64)          12352     \n",
            "                                                                 \n",
            " max_pooling1d_7 (MaxPoolin  (None, 1776, 64)          0         \n",
            " g1D)                                                            \n",
            "                                                                 \n",
            " conv1d_8 (Conv1D)           (None, 1774, 64)          12352     \n",
            "                                                                 \n",
            " max_pooling1d_8 (MaxPoolin  (None, 887, 64)           0         \n",
            " g1D)                                                            \n",
            "                                                                 \n",
            " conv1d_9 (Conv1D)           (None, 885, 64)           12352     \n",
            "                                                                 \n",
            " max_pooling1d_9 (MaxPoolin  (None, 221, 64)           0         \n",
            " g1D)                                                            \n",
            "                                                                 \n",
            " conv1d_10 (Conv1D)          (None, 219, 128)          24704     \n",
            "                                                                 \n",
            " max_pooling1d_10 (MaxPooli  (None, 109, 128)          0         \n",
            " ng1D)                                                           \n",
            "                                                                 \n",
            " flatten_1 (Flatten)         (None, 13952)             0         \n",
            "                                                                 \n",
            " dense_2 (Dense)             (None, 64)                892992    \n",
            "                                                                 \n",
            " dense_3 (Dense)             (None, 6)                 390       \n",
            "                                                                 \n",
            "=================================================================\n",
            "Total params: 967750 (3.69 MB)\n",
            "Trainable params: 967750 (3.69 MB)\n",
            "Non-trainable params: 0 (0.00 Byte)\n",
            "_________________________________________________________________\n"
          ]
        }
      ]
    },
    {
      "cell_type": "code",
      "source": [
        "history = model.fit(ds_fit, epochs=100, validation_data=ds_val, callbacks=callbacks)"
      ],
      "metadata": {
        "id": "v-XHjsN844pl",
        "outputId": "8105028d-155b-4410-a29f-14fde6217bd9",
        "colab": {
          "base_uri": "https://localhost:8080/"
        }
      },
      "execution_count": 24,
      "outputs": [
        {
          "output_type": "stream",
          "name": "stdout",
          "text": [
            "Epoch 1/100\n",
            "138/138 [==============================] - 96s 671ms/step - loss: 0.4237 - accuracy: 0.3213 - val_loss: 0.3401 - val_accuracy: 0.5338 - lr: 0.0010\n",
            "Epoch 2/100\n",
            "138/138 [==============================] - 96s 693ms/step - loss: 0.3041 - accuracy: 0.6025 - val_loss: 0.2651 - val_accuracy: 0.6807 - lr: 0.0010\n",
            "Epoch 3/100\n",
            "138/138 [==============================] - 92s 666ms/step - loss: 0.2473 - accuracy: 0.7017 - val_loss: 0.2489 - val_accuracy: 0.6905 - lr: 0.0010\n",
            "Epoch 4/100\n",
            "138/138 [==============================] - 92s 667ms/step - loss: 0.2131 - accuracy: 0.7490 - val_loss: 0.2020 - val_accuracy: 0.7629 - lr: 0.0010\n",
            "Epoch 5/100\n",
            "138/138 [==============================] - 95s 691ms/step - loss: 0.1853 - accuracy: 0.7881 - val_loss: 0.1942 - val_accuracy: 0.7727 - lr: 0.0010\n",
            "Epoch 6/100\n",
            "138/138 [==============================] - 92s 667ms/step - loss: 0.1602 - accuracy: 0.8199 - val_loss: 0.1718 - val_accuracy: 0.8180 - lr: 0.0010\n",
            "Epoch 7/100\n",
            "138/138 [==============================] - 93s 671ms/step - loss: 0.1381 - accuracy: 0.8491 - val_loss: 0.1759 - val_accuracy: 0.8097 - lr: 0.0010\n",
            "Epoch 8/100\n",
            "138/138 [==============================] - 92s 669ms/step - loss: 0.1169 - accuracy: 0.8749 - val_loss: 0.1774 - val_accuracy: 0.8299 - lr: 0.0010\n",
            "Epoch 9/100\n",
            "138/138 [==============================] - 96s 694ms/step - loss: 0.1002 - accuracy: 0.8957 - val_loss: 0.1637 - val_accuracy: 0.8490 - lr: 0.0010\n",
            "Epoch 10/100\n",
            "138/138 [==============================] - 95s 692ms/step - loss: 0.0861 - accuracy: 0.9121 - val_loss: 0.1726 - val_accuracy: 0.8493 - lr: 0.0010\n",
            "Epoch 11/100\n",
            "138/138 [==============================] - 95s 691ms/step - loss: 0.0711 - accuracy: 0.9274 - val_loss: 0.1786 - val_accuracy: 0.8609 - lr: 0.0010\n",
            "Epoch 12/100\n",
            "138/138 [==============================] - 95s 692ms/step - loss: 0.0607 - accuracy: 0.9402 - val_loss: 0.1942 - val_accuracy: 0.8597 - lr: 0.0010\n",
            "Epoch 13/100\n",
            "138/138 [==============================] - 92s 667ms/step - loss: 0.0518 - accuracy: 0.9507 - val_loss: 0.2220 - val_accuracy: 0.8520 - lr: 0.0010\n",
            "Epoch 14/100\n",
            "138/138 [==============================] - ETA: 0s - loss: 0.0450 - accuracy: 0.9600Restoring model weights from the end of the best epoch: 9.\n",
            "138/138 [==============================] - 95s 691ms/step - loss: 0.0450 - accuracy: 0.9600 - val_loss: 0.2599 - val_accuracy: 0.8537 - lr: 0.0010\n",
            "Epoch 14: early stopping\n"
          ]
        }
      ]
    },
    {
      "cell_type": "code",
      "execution_count": 25,
      "metadata": {
        "colab": {
          "base_uri": "https://localhost:8080/"
        },
        "id": "i0r_yhAALRg_",
        "outputId": "f1460bfa-fcc0-463d-f0a0-3da53b27ea4f"
      },
      "outputs": [
        {
          "output_type": "stream",
          "name": "stdout",
          "text": [
            "33/33 [==============================] - 14s 421ms/step - loss: 0.1554 - accuracy: 0.8532\n",
            "Test accuracy: 0.8531935214996338\n"
          ]
        }
      ],
      "source": [
        "BATCH_SIZE = 128\n",
        "ds_eval = (\n",
        "    ds_test.cache()\n",
        "    .batch(BATCH_SIZE)\n",
        "    .prefetch(AUTOTUNE)\n",
        ")\n",
        "test_loss, test_acc = model.evaluate(ds_eval)\n",
        "\n",
        "print('Test accuracy:', test_acc)"
      ]
    },
    {
      "cell_type": "code",
      "source": [
        "# model.save_weights('testnn')\n",
        "model.save('Conv1D_85')"
      ],
      "metadata": {
        "id": "WCB6wgfiEJ2k"
      },
      "execution_count": 32,
      "outputs": []
    },
    {
      "cell_type": "code",
      "source": [
        "# Create a new model instance\n",
        "mymodel = Sequential([\n",
        "    Conv1D(64, 3, activation='relu', input_shape=(64000, 1)),\n",
        "    MaxPooling1D(2),\n",
        "    Conv1D(64, 3, activation='relu'),\n",
        "    MaxPooling1D(6),\n",
        "    Conv1D(64, 3, activation='relu'),\n",
        "    MaxPooling1D(3),\n",
        "    Conv1D(64, 3, activation='relu'),\n",
        "    MaxPooling1D(2),\n",
        "    Conv1D(64, 3, activation='relu'),\n",
        "    MaxPooling1D(4),\n",
        "    Conv1D(128, 3, activation='relu'),\n",
        "    MaxPooling1D(2),\n",
        "    Flatten(),\n",
        "\n",
        "    Dense(64, activation='relu'),\n",
        "    Dense(6, activation='softmax')  # Usar softmax para clasificación multiclase\n",
        "])\n",
        "\n",
        "mymodel.compile(optimizer='adam', loss='binary_crossentropy', metrics=['accuracy'])\n",
        "\n",
        "# Restore the weights\n",
        "mymodel.load_weights('Conv1D_82')\n",
        "\n",
        "BATCH_SIZE = 128\n",
        "ds_eval = (\n",
        "    ds_test.cache()\n",
        "    .batch(BATCH_SIZE)\n",
        "    .prefetch(AUTOTUNE)\n",
        ")\n",
        "test_loss, test_acc = mymodel.evaluate(ds_eval)\n",
        "\n",
        "print('Test accuracy:', test_acc)"
      ],
      "metadata": {
        "id": "LtSeH_dsG7Ar",
        "outputId": "156752df-4f68-44a4-d6cb-15ec0ca4d0ad",
        "colab": {
          "base_uri": "https://localhost:8080/"
        }
      },
      "execution_count": 33,
      "outputs": [
        {
          "output_type": "stream",
          "name": "stdout",
          "text": [
            "33/33 [==============================] - 14s 392ms/step - loss: 0.1635 - accuracy: 0.8510\n",
            "Test accuracy: 0.8510485887527466\n"
          ]
        }
      ]
    },
    {
      "cell_type": "code",
      "source": [
        "!zip -r Conv1D_82.zip Conv1D_82"
      ],
      "metadata": {
        "id": "ui9HDuRAJKQh",
        "outputId": "8492c496-1227-4ac2-ebf5-805b51654b13",
        "colab": {
          "base_uri": "https://localhost:8080/"
        }
      },
      "execution_count": 29,
      "outputs": [
        {
          "output_type": "stream",
          "name": "stdout",
          "text": [
            "  adding: Conv1D_82/ (stored 0%)\n",
            "  adding: Conv1D_82/keras_metadata.pb (deflated 94%)\n",
            "  adding: Conv1D_82/assets/ (stored 0%)\n",
            "  adding: Conv1D_82/saved_model.pb (deflated 89%)\n",
            "  adding: Conv1D_82/variables/ (stored 0%)\n",
            "  adding: Conv1D_82/variables/variables.index (deflated 67%)\n",
            "  adding: Conv1D_82/variables/variables.data-00000-of-00001 (deflated 12%)\n",
            "  adding: Conv1D_82/fingerprint.pb (stored 0%)\n"
          ]
        }
      ]
    }
  ],
  "metadata": {
    "accelerator": "GPU",
    "colab": {
      "gpuType": "T4",
      "provenance": [],
      "include_colab_link": true
    },
    "kernelspec": {
      "display_name": "Python 3",
      "name": "python3"
    },
    "language_info": {
      "codemirror_mode": {
        "name": "ipython",
        "version": 3
      },
      "file_extension": ".py",
      "mimetype": "text/x-python",
      "name": "python",
      "nbconvert_exporter": "python",
      "pygments_lexer": "ipython3",
      "version": "3.12.3"
    }
  },
  "nbformat": 4,
  "nbformat_minor": 0
}