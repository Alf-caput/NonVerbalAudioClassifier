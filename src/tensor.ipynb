{
  "cells": [
    {
      "cell_type": "markdown",
      "metadata": {
        "id": "view-in-github",
        "colab_type": "text"
      },
      "source": [
        "<a href=\"https://colab.research.google.com/github/Alf-caput/NonVerbalAudioClassifier/blob/dev4/src/tensor.ipynb\" target=\"_parent\"><img src=\"https://colab.research.google.com/assets/colab-badge.svg\" alt=\"Open In Colab\"/></a>"
      ]
    },
    {
      "cell_type": "code",
      "source": [
        "!wget https://www.dropbox.com/s/fuld3z222j9t1oy/vs_release_16k.zip"
      ],
      "metadata": {
        "id": "wiLgcXYUuveE",
        "outputId": "608d3b07-c7d0-4bde-fc59-6eb9ca13a6e4",
        "colab": {
          "base_uri": "https://localhost:8080/"
        }
      },
      "execution_count": 1,
      "outputs": [
        {
          "output_type": "stream",
          "name": "stdout",
          "text": [
            "--2024-04-16 12:24:10--  https://www.dropbox.com/s/fuld3z222j9t1oy/vs_release_16k.zip\n",
            "Resolving www.dropbox.com (www.dropbox.com)... 162.125.65.18, 2620:100:6031:18::a27d:5112\n",
            "Connecting to www.dropbox.com (www.dropbox.com)|162.125.65.18|:443... connected.\n",
            "HTTP request sent, awaiting response... 302 Found\n",
            "Location: /s/raw/fuld3z222j9t1oy/vs_release_16k.zip [following]\n",
            "--2024-04-16 12:24:11--  https://www.dropbox.com/s/raw/fuld3z222j9t1oy/vs_release_16k.zip\n",
            "Reusing existing connection to www.dropbox.com:443.\n",
            "HTTP request sent, awaiting response... 302 Found\n",
            "Location: https://uc8bcc41356cc6e947072aba696d.dl.dropboxusercontent.com/cd/0/inline/CRJ_d64L543lluWi7XJniugedXavsMNn6nrqqRWVgBirXAjO33wVEKjUzUZdn0bYiwEyv-ZFNJMdY83Uo9TTjcdKBbFzNzYRpUdinuVRT1zSTwoP_TWxeqXBz8lZAc0QUstOuvkC1r9VS0jHZOag_xr3/file# [following]\n",
            "--2024-04-16 12:24:11--  https://uc8bcc41356cc6e947072aba696d.dl.dropboxusercontent.com/cd/0/inline/CRJ_d64L543lluWi7XJniugedXavsMNn6nrqqRWVgBirXAjO33wVEKjUzUZdn0bYiwEyv-ZFNJMdY83Uo9TTjcdKBbFzNzYRpUdinuVRT1zSTwoP_TWxeqXBz8lZAc0QUstOuvkC1r9VS0jHZOag_xr3/file\n",
            "Resolving uc8bcc41356cc6e947072aba696d.dl.dropboxusercontent.com (uc8bcc41356cc6e947072aba696d.dl.dropboxusercontent.com)... 162.125.81.15, 2620:100:6031:15::a27d:510f\n",
            "Connecting to uc8bcc41356cc6e947072aba696d.dl.dropboxusercontent.com (uc8bcc41356cc6e947072aba696d.dl.dropboxusercontent.com)|162.125.81.15|:443... connected.\n",
            "HTTP request sent, awaiting response... 302 Found\n",
            "Location: /cd/0/inline2/CRI_l4L96xwBIebXmc7mcx2iHGxW9v5Vu8zqy3WHR51ztwPM5cnPV4w1oJHPK-_qU31gofarq18QDDCS5fFTUoTUxRgpDbgUEelijC-YEbcrbzz1xmW_RGH3WnlKPf_J0En7rJaCEpVukCzkrKehX1na_V5ERmrqnn_ZL85srxqTWNF21eXxgdulfgb-zOzxGzzvlh05cgkNB_SEXzYtUJQA29yTlVRhgQ-ZIGaclYQWa3SpGmL_wS5Ac4YCpvj-viSSruoqrvNFgZWJi_8TfrlnRUp17xlXSCSOCQobajugAbfzfuHouP0DrJRyxhOq8sm-bWaP-LvY3bm96dr79WnhpVXcj-kHUVeREKDPFFBHyPEyJX2PIIpSY8Fmmy2akiM/file [following]\n",
            "--2024-04-16 12:24:12--  https://uc8bcc41356cc6e947072aba696d.dl.dropboxusercontent.com/cd/0/inline2/CRI_l4L96xwBIebXmc7mcx2iHGxW9v5Vu8zqy3WHR51ztwPM5cnPV4w1oJHPK-_qU31gofarq18QDDCS5fFTUoTUxRgpDbgUEelijC-YEbcrbzz1xmW_RGH3WnlKPf_J0En7rJaCEpVukCzkrKehX1na_V5ERmrqnn_ZL85srxqTWNF21eXxgdulfgb-zOzxGzzvlh05cgkNB_SEXzYtUJQA29yTlVRhgQ-ZIGaclYQWa3SpGmL_wS5Ac4YCpvj-viSSruoqrvNFgZWJi_8TfrlnRUp17xlXSCSOCQobajugAbfzfuHouP0DrJRyxhOq8sm-bWaP-LvY3bm96dr79WnhpVXcj-kHUVeREKDPFFBHyPEyJX2PIIpSY8Fmmy2akiM/file\n",
            "Reusing existing connection to uc8bcc41356cc6e947072aba696d.dl.dropboxusercontent.com:443.\n",
            "HTTP request sent, awaiting response... 200 OK\n",
            "Length: 1775595589 (1.7G) [application/zip]\n",
            "Saving to: ‘vs_release_16k.zip’\n",
            "\n",
            "vs_release_16k.zip  100%[===================>]   1.65G  17.6MB/s    in 1m 42s  \n",
            "\n",
            "2024-04-16 12:25:55 (16.6 MB/s) - ‘vs_release_16k.zip’ saved [1775595589/1775595589]\n",
            "\n"
          ]
        }
      ]
    },
    {
      "cell_type": "code",
      "execution_count": 2,
      "metadata": {
        "id": "ATPf6j4cLRgv"
      },
      "outputs": [],
      "source": [
        "# import os\n",
        "\n",
        "# zip_filename = 'vs_release_16k.zip'\n",
        "\n",
        "# if not os.path.exists(zip_filename):\n",
        "#     os.system(\"wget https://www.dropbox.com/s/fuld3z222j9t1oy/vs_release_16k.zip\")"
      ]
    },
    {
      "cell_type": "markdown",
      "metadata": {
        "id": "uR7UfICDLRgx"
      },
      "source": [
        "Dentro de vs_release_16k.zip descomprimimos:  \n",
        "- audio_16k  \n",
        "\n",
        "Nos servimos del módulo zipfile para descomprimir.  "
      ]
    },
    {
      "cell_type": "code",
      "execution_count": 2,
      "metadata": {
        "id": "vyOyxxYdLRgy"
      },
      "outputs": [],
      "source": [
        "import os\n",
        "from zipfile import ZipFile\n",
        "from concurrent.futures import ThreadPoolExecutor\n",
        "\n",
        "zip_filename = 'vs_release_16k.zip'\n",
        "audio_dir = 'audio_16k/'\n",
        "\n",
        "if not os.path.exists(audio_dir):\n",
        "    with ZipFile(zip_filename, 'r') as zf:\n",
        "        with ThreadPoolExecutor() as exe:\n",
        "            for file in zf.namelist():\n",
        "                if file.startswith(audio_dir):\n",
        "                    exe.submit(zf.extract, file)"
      ]
    },
    {
      "cell_type": "code",
      "source": [
        "import tensorflow as tf\n",
        "\n",
        "audio_dir = 'audio_16k/'\n",
        "seed = 42\n",
        "\n",
        "tf.random.set_seed(seed)\n",
        "\n",
        "filenames = tf.io.gfile.glob(audio_dir + '*')\n",
        "filenames = tf.random.shuffle(filenames, seed)\n",
        "\n",
        "print('Total audios:', len(filenames))\n",
        "print('Example:', filenames.shape)"
      ],
      "metadata": {
        "colab": {
          "base_uri": "https://localhost:8080/"
        },
        "id": "ypXddMsVZA-M",
        "outputId": "5743415a-a734-48a3-9990-553009d593e9"
      },
      "execution_count": 3,
      "outputs": [
        {
          "output_type": "stream",
          "name": "stdout",
          "text": [
            "Total audios: 21023\n",
            "Example: (21023,)\n"
          ]
        }
      ]
    },
    {
      "cell_type": "code",
      "source": [
        "vocal_sounds = ['cough', 'laughter', 'sigh', 'sneeze', 'sniff', 'throatclearing']\n",
        "num_sounds = len(vocal_sounds)\n",
        "\n",
        "test_file = filenames[0]\n",
        "def get_label(file_path):\n",
        "  label = tf.strings.split(\n",
        "    input=file_path,\n",
        "    sep='_')[-1]\n",
        "\n",
        "  label = tf.strings.split(\n",
        "    input=label,\n",
        "    sep='.')[0]\n",
        "\n",
        "  label = tf.where(label==vocal_sounds)\n",
        "  label = tf.reshape(label, ())\n",
        "  return label\n",
        "\n",
        "get_label(test_file), test_file"
      ],
      "metadata": {
        "colab": {
          "base_uri": "https://localhost:8080/"
        },
        "id": "41hDfCPBb4iS",
        "outputId": "16b9a173-8424-4c01-ab26-e376f4133feb"
      },
      "execution_count": 4,
      "outputs": [
        {
          "output_type": "execute_result",
          "data": {
            "text/plain": [
              "(<tf.Tensor: shape=(), dtype=int64, numpy=3>,\n",
              " <tf.Tensor: shape=(), dtype=string, numpy=b'audio_16k/m3342_0_sneeze.wav'>)"
            ]
          },
          "metadata": {},
          "execution_count": 4
        }
      ]
    },
    {
      "cell_type": "code",
      "source": [
        "std_len = 64000\n",
        "def get_signal(file_path):\n",
        "  audio_binary = tf.io.read_file(file_path)\n",
        "  signal = tf.audio.decode_wav(audio_binary)[0]\n",
        "  signal = signal[:std_len]\n",
        "  signal = tf.pad(signal, [[0, std_len-len(signal)], [0, 0]])\n",
        "  return tf.squeeze(signal, axis=-1)\n",
        "\n",
        "get_signal(test_file), test_file"
      ],
      "metadata": {
        "colab": {
          "base_uri": "https://localhost:8080/"
        },
        "id": "Wt7HzlPLo6gf",
        "outputId": "5803a886-bac1-4b91-c917-4ba36d6692f6"
      },
      "execution_count": 5,
      "outputs": [
        {
          "output_type": "execute_result",
          "data": {
            "text/plain": [
              "(<tf.Tensor: shape=(64000,), dtype=float32, numpy=\n",
              " array([ 3.0517578e-05,  6.1035156e-05, -9.1552734e-05, ...,\n",
              "         0.0000000e+00,  0.0000000e+00,  0.0000000e+00], dtype=float32)>,\n",
              " <tf.Tensor: shape=(), dtype=string, numpy=b'audio_16k/m3342_0_sneeze.wav'>)"
            ]
          },
          "metadata": {},
          "execution_count": 5
        }
      ]
    },
    {
      "cell_type": "code",
      "source": [
        "AUTOTUNE = tf.data.AUTOTUNE\n",
        "ds_files = tf.data.Dataset.from_tensor_slices(filenames)\n",
        "ds_signals = ds_files.map(lambda x: (get_signal(x), get_label(x)), num_parallel_calls=AUTOTUNE)\n",
        "ds_files.element_spec, ds_signals.element_spec"
      ],
      "metadata": {
        "id": "kQMUH4QNbZ3P",
        "colab": {
          "base_uri": "https://localhost:8080/"
        },
        "outputId": "86f0f7a4-0d18-4b1e-dcce-a197e80adeed"
      },
      "execution_count": 6,
      "outputs": [
        {
          "output_type": "execute_result",
          "data": {
            "text/plain": [
              "(TensorSpec(shape=(), dtype=tf.string, name=None),\n",
              " (TensorSpec(shape=(None,), dtype=tf.float32, name=None),\n",
              "  TensorSpec(shape=(), dtype=tf.int64, name=None)))"
            ]
          },
          "metadata": {},
          "execution_count": 6
        }
      ]
    },
    {
      "cell_type": "code",
      "source": [
        "import matplotlib.pyplot as plt\n",
        "for elem in ds_signals.take(1):\n",
        "  signal, label = elem\n",
        "  plt.plot(signal)\n",
        "  plt.title(vocal_sounds[label])"
      ],
      "metadata": {
        "colab": {
          "base_uri": "https://localhost:8080/",
          "height": 452
        },
        "id": "tpy5OW7Fs1Ek",
        "outputId": "0516d691-cfdf-4499-d29b-018c6834c939"
      },
      "execution_count": 7,
      "outputs": [
        {
          "output_type": "display_data",
          "data": {
            "text/plain": [
              "<Figure size 640x480 with 1 Axes>"
            ],
            "image/png": "[encoded data removed]"
          },
          "metadata": {}
        }
      ]
    },
    {
      "cell_type": "code",
      "source": [
        "def remove_shortaudio(filename):\n",
        "  if get_signal(filename).shape[0] < min_len:\n",
        "    tf.io.gfile.remove(filename)\n",
        "\n",
        "initial_file_count = 21024\n",
        "\n",
        "if len(filenames) >= initial_file_count:\n",
        "  # Remove less than 0.1s audios (16kHz then 1600 frames)\n",
        "  min_len = 1600\n",
        "  with ThreadPoolExecutor() as exe:\n",
        "    for file in filenames:\n",
        "      exe.submit(remove_shortaudio, file)\n",
        "\n",
        "  filenames = tf.io.gfile.glob(audio_dir + '*')\n",
        "\n",
        "print('Total audios:', len(filenames))\n"
      ],
      "metadata": {
        "id": "xvcOpKxRtE3d",
        "colab": {
          "base_uri": "https://localhost:8080/"
        },
        "outputId": "2c2e2d7c-47bf-49bc-8fbc-b663824d9412"
      },
      "execution_count": 8,
      "outputs": [
        {
          "output_type": "stream",
          "name": "stdout",
          "text": [
            "Total audios: 21023\n"
          ]
        }
      ]
    },
    {
      "cell_type": "code",
      "source": [
        "ds_files = tf.data.Dataset.from_tensor_slices(filenames)\n",
        "ds_signals = ds_files.map(lambda x: (get_signal(x), get_label(x)), num_parallel_calls=AUTOTUNE)"
      ],
      "metadata": {
        "id": "1Jncnq4ocKsY"
      },
      "execution_count": 9,
      "outputs": []
    },
    {
      "cell_type": "code",
      "source": [
        "for elem in ds_signals.take(1):\n",
        "  print(elem)"
      ],
      "metadata": {
        "colab": {
          "base_uri": "https://localhost:8080/"
        },
        "id": "y9yA9_bQlv1M",
        "outputId": "98947175-5aed-41c7-9957-1e51f07eb53b"
      },
      "execution_count": 10,
      "outputs": [
        {
          "output_type": "stream",
          "name": "stdout",
          "text": [
            "(<tf.Tensor: shape=(64000,), dtype=float32, numpy=\n",
            "array([ 3.0517578e-05,  6.1035156e-05, -9.1552734e-05, ...,\n",
            "        0.0000000e+00,  0.0000000e+00,  0.0000000e+00], dtype=float32)>, <tf.Tensor: shape=(), dtype=int64, numpy=3>)\n"
          ]
        }
      ]
    },
    {
      "cell_type": "code",
      "source": [
        "def normalize(audio, label):\n",
        "  label = tf.one_hot(label, len(vocal_sounds))\n",
        "  return audio, label\n",
        "\n",
        "ds_signals = ds_signals.map(normalize).cache()"
      ],
      "metadata": {
        "id": "3dST_H_VmB_A"
      },
      "execution_count": 11,
      "outputs": []
    },
    {
      "cell_type": "code",
      "source": [
        "for elem in ds_signals.take(1):\n",
        "  print(elem)"
      ],
      "metadata": {
        "colab": {
          "base_uri": "https://localhost:8080/"
        },
        "id": "nYTpsGb3MtS_",
        "outputId": "55cc90af-c4c1-4a69-bf72-916953f843c8"
      },
      "execution_count": 12,
      "outputs": [
        {
          "output_type": "stream",
          "name": "stdout",
          "text": [
            "(<tf.Tensor: shape=(64000,), dtype=float32, numpy=\n",
            "array([ 3.0517578e-05,  6.1035156e-05, -9.1552734e-05, ...,\n",
            "        0.0000000e+00,  0.0000000e+00,  0.0000000e+00], dtype=float32)>, <tf.Tensor: shape=(6,), dtype=float32, numpy=array([0., 0., 0., 1., 0., 0.], dtype=float32)>)\n"
          ]
        }
      ]
    },
    {
      "cell_type": "code",
      "source": [
        "ds_signals.element_spec"
      ],
      "metadata": {
        "id": "MntLIWZJcFdb",
        "outputId": "cb66c4bc-a0bc-4b0b-abe8-f6359c4a337e",
        "colab": {
          "base_uri": "https://localhost:8080/"
        }
      },
      "execution_count": 13,
      "outputs": [
        {
          "output_type": "execute_result",
          "data": {
            "text/plain": [
              "(TensorSpec(shape=(None,), dtype=tf.float32, name=None),\n",
              " TensorSpec(shape=(6,), dtype=tf.float32, name=None))"
            ]
          },
          "metadata": {},
          "execution_count": 13
        }
      ]
    },
    {
      "cell_type": "code",
      "execution_count": 14,
      "metadata": {
        "id": "AtLbAh6jLRg8"
      },
      "outputs": [],
      "source": [
        "num_train = len(ds_signals)\n",
        "\n",
        "RATIO = 0.2\n",
        "test_size = int(RATIO * num_train)\n",
        "\n",
        "ds_train = ds_signals.skip(test_size)\n",
        "ds_test = ds_signals.take(test_size)"
      ]
    },
    {
      "cell_type": "code",
      "execution_count": 15,
      "metadata": {
        "id": "IwiMw9keLRg8"
      },
      "outputs": [],
      "source": [
        "num_train = len(ds_train)\n",
        "\n",
        "RATIO = 0.2\n",
        "validation_size = int(RATIO * num_train)\n",
        "\n",
        "ds_fit = ds_signals.skip(validation_size)\n",
        "ds_val = ds_signals.take(validation_size)"
      ]
    },
    {
      "cell_type": "code",
      "execution_count": 16,
      "metadata": {
        "id": "fkTw9s3lLRg9"
      },
      "outputs": [],
      "source": [
        "AUTOTUNE = tf.data.AUTOTUNE\n",
        "BATCH_SIZE = 1024\n",
        "ds_fit = (\n",
        "    ds_fit\n",
        "    .cache()\n",
        "    .shuffle(len(ds_fit))\n",
        "    .batch(BATCH_SIZE)\n",
        "    .prefetch(AUTOTUNE)\n",
        ")\n",
        "\n",
        "ds_val = (\n",
        "    ds_val\n",
        "    .cache()\n",
        "    .batch(BATCH_SIZE)\n",
        "    .prefetch(tf.data.AUTOTUNE)\n",
        ")"
      ]
    },
    {
      "cell_type": "code",
      "source": [
        "from sklearn.neighbors import KNeighborsClassifier\n",
        "from sklearn.preprocessing import StandardScaler\n",
        "import numpy as np\n",
        "# Define el tamaño del subconjunto que deseas tomar\n",
        "subset_size = 21080\n",
        "\n",
        "# Toma un subconjunto de tu conjunto de datos\n",
        "ds_subset = ds_signals.take(subset_size)\n",
        "\n",
        "# Divide el subconjunto en conjuntos de entrenamiento y prueba\n",
        "num_subset = len(ds_subset)\n",
        "test_size_subset = int(RATIO * num_subset)\n",
        "\n",
        "ds_train_subset = ds_subset.skip(test_size_subset)\n",
        "ds_test_subset = ds_subset.take(test_size_subset)\n",
        "\n",
        "# Realiza la división en conjunto de validación si es necesario\n",
        "num_train_subset = len(ds_train_subset)\n",
        "validation_size_subset = int(RATIO * num_train_subset)\n",
        "\n",
        "ds_fit_subset = ds_train_subset.skip(validation_size_subset)\n",
        "ds_val_subset = ds_train_subset.take(validation_size_subset)\n",
        "\n",
        "# Imprime la cantidad de elementos en cada conjunto\n",
        "print(\"Número de elementos en el conjunto de entrenamiento:\", len(ds_train_subset))\n",
        "print(\"Número de elementos en el conjunto de prueba:\", len(ds_test_subset))\n",
        "print(\"Número de elementos en el conjunto de validación:\", len(ds_val_subset))\n",
        "\n"
      ],
      "metadata": {
        "id": "IqtvHFkjy0Ri",
        "outputId": "b924482a-745c-4d2e-d25b-03527ca20e6c",
        "colab": {
          "base_uri": "https://localhost:8080/"
        }
      },
      "execution_count": 22,
      "outputs": [
        {
          "output_type": "stream",
          "name": "stdout",
          "text": [
            "Número de elementos en el conjunto de entrenamiento: 16819\n",
            "Número de elementos en el conjunto de prueba: 4204\n",
            "Número de elementos en el conjunto de validación: 3363\n"
          ]
        }
      ]
    },
    {
      "cell_type": "code",
      "source": [
        "rom sklearn.neighbors import KNeighborsClassifier\n",
        "from sklearn.preprocessing import StandardScaler\n",
        "from sklearn.metrics import accuracy_score\n",
        "import numpy as np\n",
        "\n",
        "# Define una función generadora para cargar y procesar los datos por lotes\n",
        "def data_generator(dataset, batch_size):\n",
        "    for signal, label in dataset.batch(batch_size):\n",
        "        signal = signal.numpy()\n",
        "        label = label.numpy()\n",
        "        yield signal, label\n",
        "\n",
        "# Definir parámetros\n",
        "batch_size = 1000  # Tamaño del lote\n",
        "num_neighbors = 5  # Número de vecinos para el clasificador KNN\n",
        "\n",
        "# Normalizar los datos de entrenamiento\n",
        "scaler = StandardScaler()\n",
        "\n",
        "# Inicializar el clasificador KNN\n",
        "knn_classifier = KNeighborsClassifier(n_neighbors=num_neighbors)\n",
        "\n",
        "# Entrenar y actualizar el clasificador KNN por lotes\n",
        "for X_batch, y_batch in data_generator(ds_train_subset, batch_size):\n",
        "    X_batch_scaled = scaler.fit_transform(X_batch)\n",
        "    knn_classifier.fit(X_batch_scaled, y_batch)\n",
        "\n",
        "# Evaluar el clasificador KNN en el conjunto de prueba por lotes\n",
        "y_true = []\n",
        "y_pred = []\n",
        "\n",
        "for X_batch, y_batch in data_generator(ds_test_subset, batch_size):\n",
        "    X_batch_scaled = scaler.transform(X_batch)\n",
        "    y_true.extend(y_batch)\n",
        "    y_pred.extend(knn_classifier.predict(X_batch_scaled))\n",
        "\n",
        "# Calcular la precisión del modelo\n",
        "test_accuracy = accuracy_score(y_true, y_pred)\n",
        "print(\"Test accuracy (KNN) using batch processing:\", test_accuracy)"
      ],
      "metadata": {
        "id": "WYbbi4lVAl59"
      },
      "execution_count": null,
      "outputs": []
    },
    {
      "cell_type": "code",
      "execution_count": null,
      "metadata": {
        "id": "cq9rBe_GLRg9"
      },
      "outputs": [],
      "source": [
        "from tensorflow.keras.callbacks import EarlyStopping, ReduceLROnPlateau\n",
        "\n",
        "# Reduce learning rate\n",
        "reduce_lr = ReduceLROnPlateau(monitor='val_accuracy', factor=0.2, patience=4, min_lr=0.0001)\n",
        "\n",
        "epoch_wait = 5\n",
        "# Crear el EarlyStopping callback con la función on_train_end\n",
        "early_stopping = EarlyStopping(monitor='val_loss', mode='min', verbose=1, patience=epoch_wait)\n",
        "\n",
        "# Definimos los callbacks\n",
        "callbacks = [early_stopping, reduce_lr]"
      ]
    },
    {
      "cell_type": "code",
      "execution_count": null,
      "metadata": {
        "id": "ZBl67bkdLRg-"
      },
      "outputs": [],
      "source": [
        "# # Establecer la semilla global\n",
        "# seed_value = 42\n",
        "# tf.random.set_seed(seed_value)"
      ]
    },
    {
      "cell_type": "code",
      "execution_count": null,
      "metadata": {
        "id": "v_jh0jR1LRg-"
      },
      "outputs": [],
      "source": [
        "# import tensorflow as tf\n",
        "# from tensorflow.keras import Sequential\n",
        "# from tensorflow.keras.layers import Dense\n",
        "\n",
        "# # Arquitectura de la red convolucional\n",
        "# model = Sequential([\n",
        "#     Dense(64, activation='relu', input_shape=(64000,)),  # Capa de entrada con 64 neuronas\n",
        "#     Dense(32, activation='relu'),  # Capa oculta con 32 neuronas\n",
        "#     Dense(6, activation='sigmoid')  # Capa de salida con una neurona para clasificación binaria\n",
        "# ])\n",
        "\n",
        "# # Compila el modelo\n",
        "# model.compile(optimizer='adam', loss='binary_crossentropy', metrics=['accuracy'])\n",
        "# # Resumen de la arquitectura del modelo\n",
        "# model.summary()"
      ]
    }
  ],
  "metadata": {
    "kernelspec": {
      "display_name": "Python 3",
      "name": "python3"
    },
    "language_info": {
      "codemirror_mode": {
        "name": "ipython",
        "version": 3
      },
      "file_extension": ".py",
      "mimetype": "text/x-python",
      "name": "python",
      "nbconvert_exporter": "python",
      "pygments_lexer": "ipython3",
      "version": "3.11.4"
    },
    "colab": {
      "provenance": [],
      "gpuType": "T4",
      "include_colab_link": true
    },
    "accelerator": "GPU"
  },
  "nbformat": 4,
  "nbformat_minor": 0
}