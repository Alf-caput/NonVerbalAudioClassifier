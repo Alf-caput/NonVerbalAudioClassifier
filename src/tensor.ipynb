{
  "cells": [
    {
      "cell_type": "markdown",
      "metadata": {
        "id": "view-in-github",
        "colab_type": "text"
      },
      "source": [
        "<a href=\"https://colab.research.google.com/github/Alf-caput/NonVerbalAudioClassifier/blob/dev2/src/tensor.ipynb\" target=\"_parent\"><img src=\"https://colab.research.google.com/assets/colab-badge.svg\" alt=\"Open In Colab\"/></a>"
      ]
    },
    {
      "cell_type": "code",
      "execution_count": null,
      "metadata": {
        "id": "ATPf6j4cLRgv"
      },
      "outputs": [],
      "source": [
        "import os\n",
        "\n",
        "zip_filename = 'vs_release_16k.zip'\n",
        "\n",
        "if not os.path.exists(zip_filename):\n",
        "    os.system(\"wget https://www.dropbox.com/s/fuld3z222j9t1oy/vs_release_16k.zip\")"
      ]
    },
    {
      "cell_type": "markdown",
      "metadata": {
        "id": "uR7UfICDLRgx"
      },
      "source": [
        "Dentro de vs_release_16k.zip descomprimimos:  \n",
        "- audio_16k  \n",
        "\n",
        "Nos servimos del módulo zipfile para descomprimir.  "
      ]
    },
    {
      "cell_type": "code",
      "execution_count": null,
      "metadata": {
        "id": "vyOyxxYdLRgy"
      },
      "outputs": [],
      "source": [
        "import os\n",
        "from zipfile import ZipFile\n",
        "from concurrent.futures import ThreadPoolExecutor\n",
        "\n",
        "audio_dir = 'audio_16k/'\n",
        "\n",
        "if not os.path.exists(audio_dir):\n",
        "    with ZipFile(zip_filename, 'r') as zf:\n",
        "        with ThreadPoolExecutor() as exe:\n",
        "            for file in zf.namelist():\n",
        "                if file.startswith(audio_dir):\n",
        "                    exe.submit(zf.extract, file)"
      ]
    },
    {
      "cell_type": "code",
      "source": [
        "import tensorflow as tf\n",
        "\n",
        "audio_dir = 'audio_16k/'\n",
        "seed = 42\n",
        "\n",
        "tf.random.set_seed(seed)\n",
        "\n",
        "filenames = tf.io.gfile.glob(audio_dir + '*')\n",
        "filenames = tf.random.shuffle(filenames, seed)\n",
        "\n",
        "print('Total audios:', len(filenames))\n",
        "print('Example:', filenames.shape)"
      ],
      "metadata": {
        "colab": {
          "base_uri": "https://localhost:8080/"
        },
        "id": "ypXddMsVZA-M",
        "outputId": "6818f80a-b4dc-42a7-d82a-3e67d2f382e9"
      },
      "execution_count": null,
      "outputs": [
        {
          "output_type": "stream",
          "name": "stdout",
          "text": [
            "Total audios: 21024\n",
            "Example: (21024,)\n"
          ]
        }
      ]
    },
    {
      "cell_type": "code",
      "source": [
        "vocal_sounds = ['cough', 'laughter', 'sigh', 'sneeze', 'sniff', 'throatclearing']\n",
        "num_sounds = len(vocal_sounds)\n",
        "\n",
        "test_file = filenames[0]\n",
        "def get_label(file_path):\n",
        "  label = tf.strings.split(\n",
        "    input=file_path,\n",
        "    sep='_')[-1]\n",
        "\n",
        "  label = tf.strings.split(\n",
        "    input=label,\n",
        "    sep='.')[0]\n",
        "\n",
        "  label = tf.where(label==vocal_sounds)\n",
        "  label = tf.reshape(label, ())\n",
        "  return label\n",
        "\n",
        "get_label(test_file), test_file"
      ],
      "metadata": {
        "colab": {
          "base_uri": "https://localhost:8080/"
        },
        "id": "41hDfCPBb4iS",
        "outputId": "363ddb11-b822-44a2-f16f-c86f5ad803fe"
      },
      "execution_count": null,
      "outputs": [
        {
          "output_type": "execute_result",
          "data": {
            "text/plain": [
              "(<tf.Tensor: shape=(), dtype=int64, numpy=3>,\n",
              " <tf.Tensor: shape=(), dtype=string, numpy=b'audio_16k/f1001_0_sneeze.wav'>)"
            ]
          },
          "metadata": {},
          "execution_count": 4
        }
      ]
    },
    {
      "cell_type": "code",
      "source": [
        "std_len = 64000\n",
        "def get_signal(file_path):\n",
        "  audio_binary = tf.io.read_file(file_path)\n",
        "  signal = tf.audio.decode_wav(audio_binary)[0]\n",
        "  signal = signal[:std_len]\n",
        "  signal = tf.pad(signal, [[0, std_len-len(signal)], [0, 0]])\n",
        "  return tf.squeeze(signal, axis=-1)\n",
        "\n",
        "get_signal(test_file), test_file"
      ],
      "metadata": {
        "colab": {
          "base_uri": "https://localhost:8080/"
        },
        "id": "Wt7HzlPLo6gf",
        "outputId": "3fc65a71-732a-4bf1-d3a4-711383c0ba39"
      },
      "execution_count": null,
      "outputs": [
        {
          "output_type": "execute_result",
          "data": {
            "text/plain": [
              "(<tf.Tensor: shape=(64000,), dtype=float32, numpy=\n",
              " array([-1.2207031e-04, -9.1552734e-05, -3.0517578e-05, ...,\n",
              "        -1.2207031e-04, -6.1035156e-05, -9.1552734e-05], dtype=float32)>,\n",
              " <tf.Tensor: shape=(), dtype=string, numpy=b'audio_16k/f1001_0_sneeze.wav'>)"
            ]
          },
          "metadata": {},
          "execution_count": 5
        }
      ]
    },
    {
      "cell_type": "code",
      "source": [
        "AUTOTUNE = tf.data.AUTOTUNE\n",
        "ds_files = tf.data.Dataset.from_tensor_slices(filenames)\n",
        "ds_signals = ds_files.map(lambda x: (get_signal(x), get_label(x)), num_parallel_calls=AUTOTUNE)\n",
        "ds_files.element_spec, ds_signals.element_spec"
      ],
      "metadata": {
        "id": "kQMUH4QNbZ3P",
        "colab": {
          "base_uri": "https://localhost:8080/"
        },
        "outputId": "a0c1a401-da04-46b9-950b-6bff369885c6"
      },
      "execution_count": null,
      "outputs": [
        {
          "output_type": "execute_result",
          "data": {
            "text/plain": [
              "(TensorSpec(shape=(), dtype=tf.string, name=None),\n",
              " (TensorSpec(shape=(None,), dtype=tf.float32, name=None),\n",
              "  TensorSpec(shape=(), dtype=tf.int64, name=None)))"
            ]
          },
          "metadata": {},
          "execution_count": 6
        }
      ]
    },
    {
      "cell_type": "code",
      "source": [
        "import matplotlib.pyplot as plt\n",
        "for elem in ds_signals.take(1):\n",
        "  signal, label = elem\n",
        "  plt.plot(signal)\n",
        "  plt.title(vocal_sounds[label])"
      ],
      "metadata": {
        "colab": {
          "base_uri": "https://localhost:8080/",
          "height": 452
        },
        "id": "tpy5OW7Fs1Ek",
        "outputId": "f1e88231-45ec-4fee-fee8-6fc48931b501"
      },
      "execution_count": null,
      "outputs": [
        {
          "output_type": "display_data",
          "data": {
            "text/plain": [
              "<Figure size 640x480 with 1 Axes>"
            ],
            "image/png": "[encoded data removed]"
          },
          "metadata": {}
        }
      ]
    },
    {
      "cell_type": "code",
      "source": [
        "def remove_shortaudio(filename):\n",
        "  if get_signal(filename).shape[0] < min_len:\n",
        "    tf.io.gfile.remove(filename)\n",
        "\n",
        "initial_file_count = 21024\n",
        "\n",
        "if len(filenames) >= initial_file_count:\n",
        "  # Remove less than 0.1s audios (16kHz then 1600 frames)\n",
        "  min_len = 1600\n",
        "  with ThreadPoolExecutor() as exe:\n",
        "    for file in filenames:\n",
        "      exe.submit(remove_shortaudio, file)\n",
        "\n",
        "  filenames = tf.io.gfile.glob(audio_dir + '*')\n",
        "\n",
        "print('Total audios:', len(filenames))\n"
      ],
      "metadata": {
        "id": "xvcOpKxRtE3d",
        "colab": {
          "base_uri": "https://localhost:8080/"
        },
        "outputId": "88789cea-8629-406b-85a1-eccccf96dad5"
      },
      "execution_count": null,
      "outputs": [
        {
          "output_type": "stream",
          "name": "stdout",
          "text": [
            "Total audios: 21024\n"
          ]
        }
      ]
    },
    {
      "cell_type": "code",
      "source": [
        "ds_files = tf.data.Dataset.from_tensor_slices(filenames)\n",
        "ds_signals = ds_files.map(lambda x: (get_signal(x), get_label(x)), num_parallel_calls=AUTOTUNE)"
      ],
      "metadata": {
        "id": "1Jncnq4ocKsY"
      },
      "execution_count": null,
      "outputs": []
    },
    {
      "cell_type": "code",
      "source": [
        "for elem in ds_signals.take(1):\n",
        "  print(elem)"
      ],
      "metadata": {
        "colab": {
          "base_uri": "https://localhost:8080/"
        },
        "id": "y9yA9_bQlv1M",
        "outputId": "f7822268-7a4c-40c8-b1d1-f2e41149c4ed"
      },
      "execution_count": null,
      "outputs": [
        {
          "output_type": "stream",
          "name": "stdout",
          "text": [
            "(<tf.Tensor: shape=(64000,), dtype=float32, numpy=\n",
            "array([-3.0517578e-05,  3.0517578e-05,  0.0000000e+00, ...,\n",
            "        0.0000000e+00,  0.0000000e+00,  0.0000000e+00], dtype=float32)>, <tf.Tensor: shape=(), dtype=int64, numpy=0>)\n"
          ]
        }
      ]
    },
    {
      "cell_type": "code",
      "source": [
        "def normalize(audio, label):\n",
        "  label = tf.one_hot(label, len(vocal_sounds))\n",
        "  return audio, label\n",
        "\n",
        "ds_signals = ds_signals.map(normalize).cache()"
      ],
      "metadata": {
        "id": "3dST_H_VmB_A"
      },
      "execution_count": null,
      "outputs": []
    },
    {
      "cell_type": "code",
      "source": [
        "for elem in ds_signals.take(1):\n",
        "  print(elem)"
      ],
      "metadata": {
        "colab": {
          "base_uri": "https://localhost:8080/"
        },
        "id": "nYTpsGb3MtS_",
        "outputId": "f5567a54-2d55-4543-ccf5-e804636a3bc0"
      },
      "execution_count": null,
      "outputs": [
        {
          "output_type": "stream",
          "name": "stdout",
          "text": [
            "(<tf.Tensor: shape=(64000,), dtype=float32, numpy=\n",
            "array([-3.0517578e-05,  3.0517578e-05,  0.0000000e+00, ...,\n",
            "        0.0000000e+00,  0.0000000e+00,  0.0000000e+00], dtype=float32)>, <tf.Tensor: shape=(6,), dtype=float32, numpy=array([1., 0., 0., 0., 0., 0.], dtype=float32)>)\n"
          ]
        }
      ]
    },
    {
      "cell_type": "code",
      "source": [
        "ds_signals.element_spec"
      ],
      "metadata": {
        "id": "MntLIWZJcFdb",
        "outputId": "7306e65a-3fe3-4792-9231-7082a97113b0",
        "colab": {
          "base_uri": "https://localhost:8080/"
        }
      },
      "execution_count": null,
      "outputs": [
        {
          "output_type": "execute_result",
          "data": {
            "text/plain": [
              "(TensorSpec(shape=(None,), dtype=tf.float32, name=None),\n",
              " TensorSpec(shape=(6,), dtype=tf.float32, name=None))"
            ]
          },
          "metadata": {},
          "execution_count": 24
        }
      ]
    },
    {
      "cell_type": "code",
      "execution_count": null,
      "metadata": {
        "id": "AtLbAh6jLRg8"
      },
      "outputs": [],
      "source": [
        "num_train = len(ds_signals)\n",
        "\n",
        "RATIO = 0.2\n",
        "test_size = int(RATIO * num_train)\n",
        "\n",
        "ds_train = ds_signals.skip(test_size)\n",
        "ds_test = ds_signals.take(test_size)"
      ]
    },
    {
      "cell_type": "code",
      "execution_count": null,
      "metadata": {
        "id": "IwiMw9keLRg8"
      },
      "outputs": [],
      "source": [
        "num_train = len(ds_train)\n",
        "\n",
        "RATIO = 0.2\n",
        "validation_size = int(RATIO * num_train)\n",
        "\n",
        "ds_fit = ds_signals.skip(validation_size)\n",
        "ds_val = ds_signals.take(validation_size)"
      ]
    },
    {
      "cell_type": "code",
      "execution_count": null,
      "metadata": {
        "id": "fkTw9s3lLRg9"
      },
      "outputs": [],
      "source": [
        "AUTOTUNE = tf.data.AUTOTUNE\n",
        "BATCH_SIZE = 1024\n",
        "ds_fit = (\n",
        "    ds_fit\n",
        "    .cache()\n",
        "    .shuffle(len(ds_fit))\n",
        "    .batch(BATCH_SIZE)\n",
        "    .prefetch(AUTOTUNE)\n",
        ")\n",
        "\n",
        "ds_val = (\n",
        "    ds_val\n",
        "    .cache()\n",
        "    .batch(BATCH_SIZE)\n",
        "    .prefetch(tf.data.AUTOTUNE)\n",
        ")"
      ]
    },
    {
      "cell_type": "code",
      "execution_count": null,
      "metadata": {
        "id": "cq9rBe_GLRg9"
      },
      "outputs": [],
      "source": [
        "from tensorflow.keras.callbacks import EarlyStopping, ReduceLROnPlateau\n",
        "\n",
        "# Reduce learning rate\n",
        "reduce_lr = ReduceLROnPlateau(monitor='val_accuracy', factor=0.2, patience=4, min_lr=0.0001)\n",
        "\n",
        "epoch_wait = 5\n",
        "# Crear el EarlyStopping callback con la función on_train_end\n",
        "early_stopping = EarlyStopping(monitor='val_loss', mode='min', verbose=1, patience=epoch_wait)\n",
        "\n",
        "# Definimos los callbacks\n",
        "callbacks = [early_stopping, reduce_lr]"
      ]
    },
    {
      "cell_type": "code",
      "execution_count": null,
      "metadata": {
        "id": "ZBl67bkdLRg-"
      },
      "outputs": [],
      "source": [
        "# Establecer la semilla global\n",
        "seed_value = 42\n",
        "tf.random.set_seed(seed_value)"
      ]
    },
    {
      "cell_type": "code",
      "execution_count": null,
      "metadata": {
        "id": "v_jh0jR1LRg-",
        "colab": {
          "base_uri": "https://localhost:8080/"
        },
        "outputId": "178a628e-f268-4378-ebd7-b7fcf021f300"
      },
      "outputs": [
        {
          "output_type": "stream",
          "name": "stdout",
          "text": [
            "Model: \"sequential_1\"\n",
            "_________________________________________________________________\n",
            " Layer (type)                Output Shape              Param #   \n",
            "=================================================================\n",
            " dense_3 (Dense)             (None, 64)                4096064   \n",
            "                                                                 \n",
            " dense_4 (Dense)             (None, 32)                2080      \n",
            "                                                                 \n",
            " dense_5 (Dense)             (None, 6)                 198       \n",
            "                                                                 \n",
            "=================================================================\n",
            "Total params: 4098342 (15.63 MB)\n",
            "Trainable params: 4098342 (15.63 MB)\n",
            "Non-trainable params: 0 (0.00 Byte)\n",
            "_________________________________________________________________\n"
          ]
        }
      ],
      "source": [
        "import tensorflow as tf\n",
        "from tensorflow.keras import Sequential\n",
        "from tensorflow.keras.layers import Dense\n",
        "\n",
        "# Arquitectura de la red convolucional\n",
        "model = Sequential([\n",
        "    Dense(64, activation='relu', input_shape=(64000,)),  # Capa de entrada con 64 neuronas\n",
        "    Dense(32, activation='relu'),  # Capa oculta con 32 neuronas\n",
        "    Dense(6, activation='sigmoid')  # Capa de salida con una neurona para clasificación binaria\n",
        "])\n",
        "\n",
        "# Compila el modelo\n",
        "model.compile(optimizer='adam', loss='binary_crossentropy', metrics=['accuracy'])\n",
        "# Resumen de la arquitectura del modelo\n",
        "model.summary()"
      ]
    },
    {
      "cell_type": "code",
      "execution_count": null,
      "metadata": {
        "id": "__X9T6ZQLRg-",
        "colab": {
          "base_uri": "https://localhost:8080/"
        },
        "outputId": "4f5d4860-dcf2-4b8b-9e59-cd9f7521d44f"
      },
      "outputs": [
        {
          "output_type": "stream",
          "name": "stdout",
          "text": [
            "Epoch 1/100\n",
            "18/18 [==============================] - 58s 350ms/step - loss: 0.6633 - accuracy: 0.1754 - val_loss: 0.6180 - val_accuracy: 0.1778 - lr: 0.0010\n",
            "Epoch 2/100\n",
            "18/18 [==============================] - 4s 227ms/step - loss: 0.4994 - accuracy: 0.4534 - val_loss: 0.5420 - val_accuracy: 0.1837 - lr: 0.0010\n",
            "Epoch 3/100\n",
            "18/18 [==============================] - 6s 340ms/step - loss: 0.3891 - accuracy: 0.5998 - val_loss: 0.5194 - val_accuracy: 0.1855 - lr: 0.0010\n",
            "Epoch 4/100\n",
            "18/18 [==============================] - 4s 220ms/step - loss: 0.3058 - accuracy: 0.7141 - val_loss: 0.5253 - val_accuracy: 0.2042 - lr: 0.0010\n",
            "Epoch 5/100\n",
            "18/18 [==============================] - 5s 254ms/step - loss: 0.2364 - accuracy: 0.8309 - val_loss: 0.5450 - val_accuracy: 0.2310 - lr: 0.0010\n",
            "Epoch 6/100\n",
            "18/18 [==============================] - 8s 446ms/step - loss: 0.1792 - accuracy: 0.8934 - val_loss: 0.5772 - val_accuracy: 0.2393 - lr: 0.0010\n",
            "Epoch 7/100\n",
            "18/18 [==============================] - 5s 243ms/step - loss: 0.1351 - accuracy: 0.9284 - val_loss: 0.6187 - val_accuracy: 0.2441 - lr: 0.0010\n",
            "Epoch 8/100\n",
            "18/18 [==============================] - 4s 213ms/step - loss: 0.1032 - accuracy: 0.9473 - val_loss: 0.6634 - val_accuracy: 0.2527 - lr: 0.0010\n",
            "Epoch 8: early stopping\n"
          ]
        }
      ],
      "source": [
        "history = model.fit(ds_fit, epochs=100, validation_data=ds_val, callbacks=callbacks)"
      ]
    },
    {
      "cell_type": "code",
      "execution_count": null,
      "metadata": {
        "id": "WkUnbrUSLRg_",
        "outputId": "133774e4-e07e-4299-bfb2-2ada5256a7b8",
        "colab": {
          "base_uri": "https://localhost:8080/"
        }
      },
      "outputs": [
        {
          "output_type": "stream",
          "name": "stdout",
          "text": [
            "Model: \"sequential_2\"\n",
            "_________________________________________________________________\n",
            " Layer (type)                Output Shape              Param #   \n",
            "=================================================================\n",
            " dense_6 (Dense)             (None, 1024)              65537024  \n",
            "                                                                 \n",
            " dense_7 (Dense)             (None, 512)               524800    \n",
            "                                                                 \n",
            " dense_8 (Dense)             (None, 512)               262656    \n",
            "                                                                 \n",
            " dense_9 (Dense)             (None, 6)                 3078      \n",
            "                                                                 \n",
            "=================================================================\n",
            "Total params: 66327558 (253.02 MB)\n",
            "Trainable params: 66327558 (253.02 MB)\n",
            "Non-trainable params: 0 (0.00 Byte)\n",
            "_________________________________________________________________\n",
            "Epoch 1/100\n",
            "18/18 [==============================] - 8s 367ms/step - loss: 0.5389 - accuracy: 0.1727 - val_loss: 0.5055 - val_accuracy: 0.1825 - lr: 0.0010\n",
            "Epoch 2/100\n",
            "18/18 [==============================] - 7s 396ms/step - loss: 0.3751 - accuracy: 0.5626 - val_loss: 0.6247 - val_accuracy: 0.2542 - lr: 0.0010\n",
            "Epoch 3/100\n",
            "18/18 [==============================] - 4s 237ms/step - loss: 0.1692 - accuracy: 0.8288 - val_loss: 0.9056 - val_accuracy: 0.2562 - lr: 0.0010\n",
            "Epoch 4/100\n",
            "18/18 [==============================] - 5s 245ms/step - loss: 0.0932 - accuracy: 0.9204 - val_loss: 1.0228 - val_accuracy: 0.2554 - lr: 0.0010\n",
            "Epoch 5/100\n",
            "18/18 [==============================] - 6s 340ms/step - loss: 0.0649 - accuracy: 0.9470 - val_loss: 1.1899 - val_accuracy: 0.2485 - lr: 0.0010\n",
            "Epoch 6/100\n",
            "18/18 [==============================] - 5s 243ms/step - loss: 0.0416 - accuracy: 0.9647 - val_loss: 1.4536 - val_accuracy: 0.2402 - lr: 0.0010\n",
            "Epoch 6: early stopping\n"
          ]
        }
      ],
      "source": [
        "import tensorflow as tf\n",
        "from tensorflow.keras import Sequential\n",
        "from tensorflow.keras.layers import Dense\n",
        "\n",
        "# Arquitectura de la red convolucional\n",
        "model = Sequential([\n",
        "    Dense(1024, activation='relu', input_shape=(64000,)),  # Capa de entrada con 1024 neuronas\n",
        "    Dense(512, activation='relu'),  # Capa oculta con 512 neuronas\n",
        "    Dense(512, activation='relu'),  # Capa oculta con 512 neuronas\n",
        "    Dense(6, activation='sigmoid')  # Capa de salida con una neurona para clasificación binaria\n",
        "])\n",
        "\n",
        "# Compila el modelo\n",
        "model.compile(optimizer='adam', loss='binary_crossentropy', metrics=['accuracy'])\n",
        "# Resumen de la arquitectura del modelo\n",
        "model.summary()\n",
        "\n",
        "history = model.fit(ds_fit, epochs=100, validation_data=ds_val, callbacks=callbacks)"
      ]
    },
    {
      "cell_type": "code",
      "execution_count": null,
      "metadata": {
        "id": "i0r_yhAALRg_",
        "outputId": "87dd4531-e635-4261-d8c8-31113fdf4ae8",
        "colab": {
          "base_uri": "https://localhost:8080/"
        }
      },
      "outputs": [
        {
          "output_type": "stream",
          "name": "stdout",
          "text": [
            "33/33 [==============================] - 1s 22ms/step - loss: 1.1692 - accuracy: 0.3865\n",
            "Test accuracy: 0.3865366280078888\n"
          ]
        }
      ],
      "source": [
        "BATCH_SIZE = 128\n",
        "ds_eval = (\n",
        "    ds_test.cache()\n",
        "    .batch(BATCH_SIZE)\n",
        "    .prefetch(AUTOTUNE)\n",
        ")\n",
        "test_loss, test_acc = model.evaluate(ds_eval)\n",
        "\n",
        "print('Test accuracy:', test_acc)"
      ]
    }
  ],
  "metadata": {
    "kernelspec": {
      "display_name": "Python 3",
      "name": "python3"
    },
    "language_info": {
      "codemirror_mode": {
        "name": "ipython",
        "version": 3
      },
      "file_extension": ".py",
      "mimetype": "text/x-python",
      "name": "python",
      "nbconvert_exporter": "python",
      "pygments_lexer": "ipython3",
      "version": "3.11.4"
    },
    "colab": {
      "provenance": [],
      "gpuType": "T4",
      "include_colab_link": true
    },
    "accelerator": "GPU"
  },
  "nbformat": 4,
  "nbformat_minor": 0
}