{
 "cells": [
  {
   "cell_type": "markdown",
   "metadata": {},
   "source": [
    "Dentro de vs_release_16k.zip descomprimimos dos carpetas:  \n",
    "- audio_16k  \n",
    "- meta  \n",
    "\n",
    "Nos servimos del módulo zipfile para descomprimir y adicionalmente del módulo concurrent para utilizar threads agilizando la descompresión.  \n",
    "https://superfastpython.com/multithreaded-unzip-files/#Unzip_Files_Concurrently_with_Processes"
   ]
  },
  {
   "cell_type": "code",
   "execution_count": 1,
   "metadata": {},
   "outputs": [
    {
     "name": "stdout",
     "output_type": "stream",
     "text": [
      "['audio_16k', 'meta']\n"
     ]
    }
   ],
   "source": [
    "import os\n",
    "from zipfile import ZipFile\n",
    "\n",
    "zip_file_name = \"vs_release_16k.zip\"\n",
    "dirs_to_extract = [\"audio_16k\", \"meta\"]\n",
    "output_dir = \"data\"\n",
    "\n",
    "if not os.path.exists(output_dir):\n",
    "    with ZipFile(zip_file_name, 'r') as zf:\n",
    "        files_to_extract = [file for file in zf.namelist()\n",
    "                            if any(file.startswith(dir) for dir in dirs_to_extract)]\n",
    "        zf.extractall(path=output_dir, members=files_to_extract)\n",
    "\n",
    "print(os.listdir(output_dir))"
   ]
  },
  {
   "cell_type": "markdown",
   "metadata": {},
   "source": [
    "Ahora pasamos los datos a numpy arrays para poder trabajar con ellos:"
   ]
  },
  {
   "cell_type": "code",
   "execution_count": 4,
   "metadata": {},
   "outputs": [
    {
     "data": {
      "text/plain": [
       "[('m2231_0_throatclearing',\n",
       "  array([ 18,  38,  16, ..., 135,  95, 101], dtype=int16)),\n",
       " ('m2007_0_cough', array([-2, -1, -2, ...,  7, 11, 15], dtype=int16)),\n",
       " ('f0086_0_sneeze', array([ 1, -1,  0, ...,  0,  0, -1], dtype=int16)),\n",
       " ('m2479_0_laughter', array([ 0,  9, 12, ...,  1,  3,  2], dtype=int16)),\n",
       " ('m1980_0_sniff',\n",
       "  array([ 118, -148,  114, ...,   51,   36, -113], dtype=int16))]"
      ]
     },
     "execution_count": 4,
     "metadata": {},
     "output_type": "execute_result"
    }
   ],
   "source": [
    "import os\n",
    "import wave\n",
    "import numpy as np\n",
    "from concurrent.futures import ThreadPoolExecutor\n",
    "from concurrent.futures import ProcessPoolExecutor\n",
    "\n",
    "def read_wav_file(wav_file):\n",
    "    with wave.open(wav_file, 'rb') as wf:\n",
    "        num_frames = wf.getnframes()\n",
    "        frames = wf.readframes(num_frames)\n",
    "        wave_array = np.frombuffer(frames, dtype=np.int16)\n",
    "        wave_name = os.path.basename(wav_file)\n",
    "        wave_name = os.path.splitext(wave_name)[0]\n",
    "    return wave_name, wave_array\n",
    "\n",
    "base_dir = \"data\"\n",
    "dir = \"audio_16k\"\n",
    "\n",
    "audio_dir = os.path.join(base_dir, dir)\n",
    "audios = os.listdir(audio_dir)\n",
    "audio_paths = [os.path.join(audio_dir, file) for file in audios]\n",
    "\n",
    "with ThreadPoolExecutor() as exe:\n",
    "    results = list(exe.map(read_wav_file, audio_paths))\n",
    "\n",
    "results[0:5]"
   ]
  },
  {
   "cell_type": "markdown",
   "metadata": {},
   "source": [
    "Observación: Nuestros threads acceden a elementos distintos por tanto no hay problemas de race condition."
   ]
  },
  {
   "cell_type": "markdown",
   "metadata": {},
   "source": [
    "f0003_0_cough.wav  \n",
    "f -> female  \n",
    "(o -> old? check transcripted)  \n",
    "cough -> one of the 6 labels  \n",
    "0 -> index of that cough (individuals may have more than 1 cough registered)"
   ]
  },
  {
   "cell_type": "code",
   "execution_count": 3,
   "metadata": {},
   "outputs": [
    {
     "data": {
      "image/png": "[encoded data removed]",
      "text/plain": [
       "<Figure size 640x480 with 1 Axes>"
      ]
     },
     "metadata": {},
     "output_type": "display_data"
    }
   ],
   "source": [
    "import matplotlib.pyplot as plt\n",
    "name, arr = results[0]\n",
    "plt.plot(arr)\n",
    "plt.title(name)\n",
    "plt.show()"
   ]
  },
  {
   "cell_type": "code",
   "execution_count": 5,
   "metadata": {},
   "outputs": [
    {
     "data": {
      "text/html": [
       "<div>\n",
       "<style scoped>\n",
       "    .dataframe tbody tr th:only-of-type {\n",
       "        vertical-align: middle;\n",
       "    }\n",
       "\n",
       "    .dataframe tbody tr th {\n",
       "        vertical-align: top;\n",
       "    }\n",
       "\n",
       "    .dataframe thead th {\n",
       "        text-align: right;\n",
       "    }\n",
       "</style>\n",
       "<table border=\"1\" class=\"dataframe\">\n",
       "  <thead>\n",
       "    <tr style=\"text-align: right;\">\n",
       "      <th></th>\n",
       "      <th>id</th>\n",
       "      <th>data</th>\n",
       "    </tr>\n",
       "  </thead>\n",
       "  <tbody>\n",
       "    <tr>\n",
       "      <th>0</th>\n",
       "      <td>m2231_0_throatclearing</td>\n",
       "      <td>[18, 38, 16, -1, 6, -5, -22, -7, -4, 2, 7, -3,...</td>\n",
       "    </tr>\n",
       "    <tr>\n",
       "      <th>1</th>\n",
       "      <td>m2007_0_cough</td>\n",
       "      <td>[-2, -1, -2, -1, 1, 1, 5, 3, 5, 1, 2, 1, -2, 3...</td>\n",
       "    </tr>\n",
       "    <tr>\n",
       "      <th>2</th>\n",
       "      <td>f0086_0_sneeze</td>\n",
       "      <td>[1, -1, 0, 0, 0, 0, 0, 1, 0, 0, 0, 1, 0, 0, 0,...</td>\n",
       "    </tr>\n",
       "    <tr>\n",
       "      <th>3</th>\n",
       "      <td>m2479_0_laughter</td>\n",
       "      <td>[0, 9, 12, 7, 3, 0, -2, -8, -19, -14, -14, -20...</td>\n",
       "    </tr>\n",
       "    <tr>\n",
       "      <th>4</th>\n",
       "      <td>m1980_0_sniff</td>\n",
       "      <td>[118, -148, 114, -58, -3, 40, -21, 67, 4, 72, ...</td>\n",
       "    </tr>\n",
       "  </tbody>\n",
       "</table>\n",
       "</div>"
      ],
      "text/plain": [
       "                       id                                               data\n",
       "0  m2231_0_throatclearing  [18, 38, 16, -1, 6, -5, -22, -7, -4, 2, 7, -3,...\n",
       "1           m2007_0_cough  [-2, -1, -2, -1, 1, 1, 5, 3, 5, 1, 2, 1, -2, 3...\n",
       "2          f0086_0_sneeze  [1, -1, 0, 0, 0, 0, 0, 1, 0, 0, 0, 1, 0, 0, 0,...\n",
       "3        m2479_0_laughter  [0, 9, 12, 7, 3, 0, -2, -8, -19, -14, -14, -20...\n",
       "4           m1980_0_sniff  [118, -148, 114, -58, -3, 40, -21, 67, 4, 72, ..."
      ]
     },
     "execution_count": 5,
     "metadata": {},
     "output_type": "execute_result"
    }
   ],
   "source": [
    "import pandas as pd\n",
    "df = pd.DataFrame(results, columns=['id', 'data'])\n",
    "df.head()"
   ]
  },
  {
   "cell_type": "code",
   "execution_count": 6,
   "metadata": {},
   "outputs": [
    {
     "data": {
      "text/plain": [
       "0        [m2231, 0, throatclearing]\n",
       "1                 [m2007, 0, cough]\n",
       "2                [f0086, 0, sneeze]\n",
       "3              [m2479, 0, laughter]\n",
       "4                 [m1980, 0, sniff]\n",
       "                    ...            \n",
       "21019          [f1369, 0, laughter]\n",
       "21020              [m2016, 0, sigh]\n",
       "21021    [m2565, 1, throatclearing]\n",
       "21022            [m0266, 0, sneeze]\n",
       "21023             [f3235, 0, sniff]\n",
       "Name: id, Length: 21024, dtype: object"
      ]
     },
     "execution_count": 6,
     "metadata": {},
     "output_type": "execute_result"
    }
   ],
   "source": [
    "df.loc[:, 'id'].str.split('_')"
   ]
  }
 ],
 "metadata": {
  "kernelspec": {
   "display_name": ".venv",
   "language": "python",
   "name": "python3"
  },
  "language_info": {
   "codemirror_mode": {
    "name": "ipython",
    "version": 3
   },
   "file_extension": ".py",
   "mimetype": "text/x-python",
   "name": "python",
   "nbconvert_exporter": "python",
   "pygments_lexer": "ipython3",
   "version": "3.11.8"
  }
 },
 "nbformat": 4,
 "nbformat_minor": 2
}
