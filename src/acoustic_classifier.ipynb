{
 "cells": [
  {
   "cell_type": "markdown",
   "metadata": {},
   "source": [
    "Dentro de vs_release_16k.zip descomprimimos dos carpetas:  \n",
    "- audio_16k  \n",
    "- meta  \n",
    "\n",
    "Nos servimos del módulo zipfile para descomprimir y adicionalmente del módulo concurrent para utilizar threads agilizando la descompresión.  \n",
    "https://superfastpython.com/multithreaded-unzip-files/#Unzip_Files_Concurrently_with_Processes"
   ]
  },
  {
   "cell_type": "code",
   "execution_count": 1,
   "metadata": {},
   "outputs": [
    {
     "name": "stdout",
     "output_type": "stream",
     "text": [
      "['meta', 'audio_16k']\n"
     ]
    }
   ],
   "source": [
    "import os\n",
    "from zipfile import ZipFile\n",
    "\n",
    "zip_file_name = \"vs_release_16k.zip\"\n",
    "dirs_to_extract = [\"audio_16k\", \"meta\"]\n",
    "output_dir = \"data\"\n",
    "\n",
    "if not os.path.exists(output_dir):\n",
    "    with ZipFile(zip_file_name, 'r') as zf:\n",
    "        files_to_extract = [file for file in zf.namelist()\n",
    "                            if any(file.startswith(dir) for dir in dirs_to_extract)]\n",
    "        zf.extractall(path=output_dir, members=files_to_extract)\n",
    "\n",
    "print(os.listdir(output_dir))"
   ]
  },
  {
   "cell_type": "markdown",
   "metadata": {},
   "source": [
    "Ahora pasamos los datos a numpy arrays para poder trabajar con ellos:"
   ]
  },
  {
   "cell_type": "code",
   "execution_count": 2,
   "metadata": {},
   "outputs": [
    {
     "data": {
      "text/plain": [
       "[('f0788_0_sneeze', array([ 4, -1,  9, ..., -5, -4, -5], dtype=int16)),\n",
       " ('m0068_0_sneeze', array([-12, -22, -24, ..., -12, -11, -13], dtype=int16)),\n",
       " ('f0927_0_sniff', array([ 0,  0,  1, ...,  0, -1,  0], dtype=int16)),\n",
       " ('f0850_0_laughter',\n",
       "  array([ -79, -125, -105, ...,   -4,   -6,  -10], dtype=int16)),\n",
       " ('m1749_0_sneeze', array([ 0,  0,  0, ...,  1,  0, -1], dtype=int16))]"
      ]
     },
     "execution_count": 2,
     "metadata": {},
     "output_type": "execute_result"
    }
   ],
   "source": [
    "import os\n",
    "import wave\n",
    "import numpy as np\n",
    "from concurrent.futures import ThreadPoolExecutor\n",
    "from concurrent.futures import ProcessPoolExecutor\n",
    "\n",
    "def read_wav_file(wav_file):\n",
    "    with wave.open(wav_file, 'rb') as wf:\n",
    "        num_frames = wf.getnframes()\n",
    "        frames = wf.readframes(num_frames)\n",
    "        wave_array = np.frombuffer(frames, dtype=np.int16)\n",
    "        wave_name = os.path.basename(wav_file)\n",
    "        wave_name = os.path.splitext(wave_name)[0]\n",
    "    return wave_name, wave_array\n",
    "\n",
    "base_dir = \"data\"\n",
    "dir = \"audio_16k\"\n",
    "\n",
    "audio_dir = os.path.join(base_dir, dir)\n",
    "audios = os.listdir(audio_dir)\n",
    "audio_paths = [os.path.join(audio_dir, file) for file in audios]\n",
    "\n",
    "with ThreadPoolExecutor() as exe:\n",
    "    results = list(exe.map(read_wav_file, audio_paths))\n",
    "\n",
    "results[0:5]"
   ]
  },
  {
   "cell_type": "markdown",
   "metadata": {},
   "source": [
    "Observación: Nuestros threads acceden a elementos distintos por tanto no hay problemas de race condition."
   ]
  },
  {
   "cell_type": "markdown",
   "metadata": {},
   "source": [
    "f0003_0_cough.wav  \n",
    "f -> female  \n",
    "(o -> old? check transcripted)  \n",
    "cough -> one of the 6 labels  \n",
    "0 -> index of that cough (individuals may have more than 1 cough registered)"
   ]
  },
  {
   "cell_type": "code",
   "execution_count": 3,
   "metadata": {},
   "outputs": [
    {
     "data": {
      "image/png": "[encoded data removed]",
      "text/plain": [
       "<Figure size 640x480 with 1 Axes>"
      ]
     },
     "metadata": {},
     "output_type": "display_data"
    }
   ],
   "source": [
    "import matplotlib.pyplot as plt\n",
    "name, arr = results[0]\n",
    "plt.plot(arr)\n",
    "plt.title(name)\n",
    "plt.show()"
   ]
  },
  {
   "cell_type": "code",
   "execution_count": 4,
   "metadata": {},
   "outputs": [
    {
     "data": {
      "text/html": [
       "<div>\n",
       "<style scoped>\n",
       "    .dataframe tbody tr th:only-of-type {\n",
       "        vertical-align: middle;\n",
       "    }\n",
       "\n",
       "    .dataframe tbody tr th {\n",
       "        vertical-align: top;\n",
       "    }\n",
       "\n",
       "    .dataframe thead th {\n",
       "        text-align: right;\n",
       "    }\n",
       "</style>\n",
       "<table border=\"1\" class=\"dataframe\">\n",
       "  <thead>\n",
       "    <tr style=\"text-align: right;\">\n",
       "      <th></th>\n",
       "      <th>id</th>\n",
       "      <th>data</th>\n",
       "    </tr>\n",
       "  </thead>\n",
       "  <tbody>\n",
       "    <tr>\n",
       "      <th>0</th>\n",
       "      <td>f0788_0_sneeze</td>\n",
       "      <td>[4, -1, 9, -10, 2, 16, 14, 15, -5, 8, 18, 23, ...</td>\n",
       "    </tr>\n",
       "    <tr>\n",
       "      <th>1</th>\n",
       "      <td>m0068_0_sneeze</td>\n",
       "      <td>[-12, -22, -24, -37, -26, -24, -34, -40, -42, ...</td>\n",
       "    </tr>\n",
       "    <tr>\n",
       "      <th>2</th>\n",
       "      <td>f0927_0_sniff</td>\n",
       "      <td>[0, 0, 1, 0, 0, -1, 0, 0, 0, 0, 0, -1, 0, 0, 0...</td>\n",
       "    </tr>\n",
       "    <tr>\n",
       "      <th>3</th>\n",
       "      <td>f0850_0_laughter</td>\n",
       "      <td>[-79, -125, -105, -106, -84, -74, -56, -41, -1...</td>\n",
       "    </tr>\n",
       "    <tr>\n",
       "      <th>4</th>\n",
       "      <td>m1749_0_sneeze</td>\n",
       "      <td>[0, 0, 0, 0, 1, 1, 0, 0, -1, 1, 0, -2, -1, 0, ...</td>\n",
       "    </tr>\n",
       "  </tbody>\n",
       "</table>\n",
       "</div>"
      ],
      "text/plain": [
       "                 id                                               data\n",
       "0    f0788_0_sneeze  [4, -1, 9, -10, 2, 16, 14, 15, -5, 8, 18, 23, ...\n",
       "1    m0068_0_sneeze  [-12, -22, -24, -37, -26, -24, -34, -40, -42, ...\n",
       "2     f0927_0_sniff  [0, 0, 1, 0, 0, -1, 0, 0, 0, 0, 0, -1, 0, 0, 0...\n",
       "3  f0850_0_laughter  [-79, -125, -105, -106, -84, -74, -56, -41, -1...\n",
       "4    m1749_0_sneeze  [0, 0, 0, 0, 1, 1, 0, 0, -1, 1, 0, -2, -1, 0, ..."
      ]
     },
     "execution_count": 4,
     "metadata": {},
     "output_type": "execute_result"
    }
   ],
   "source": [
    "import pandas as pd\n",
    "df = pd.DataFrame(results, columns=['id', 'data'])\n",
    "df.head()"
   ]
  },
  {
   "cell_type": "code",
   "execution_count": 6,
   "metadata": {},
   "outputs": [
    {
     "data": {
      "text/html": [
       "<div>\n",
       "<style scoped>\n",
       "    .dataframe tbody tr th:only-of-type {\n",
       "        vertical-align: middle;\n",
       "    }\n",
       "\n",
       "    .dataframe tbody tr th {\n",
       "        vertical-align: top;\n",
       "    }\n",
       "\n",
       "    .dataframe thead th {\n",
       "        text-align: right;\n",
       "    }\n",
       "</style>\n",
       "<table border=\"1\" class=\"dataframe\">\n",
       "  <thead>\n",
       "    <tr style=\"text-align: right;\">\n",
       "      <th></th>\n",
       "      <th>id</th>\n",
       "      <th>data</th>\n",
       "      <th>sex</th>\n",
       "      <th>index</th>\n",
       "      <th>class</th>\n",
       "    </tr>\n",
       "  </thead>\n",
       "  <tbody>\n",
       "    <tr>\n",
       "      <th>0</th>\n",
       "      <td>0788</td>\n",
       "      <td>[4, -1, 9, -10, 2, 16, 14, 15, -5, 8, 18, 23, ...</td>\n",
       "      <td>f</td>\n",
       "      <td>0</td>\n",
       "      <td>sneeze</td>\n",
       "    </tr>\n",
       "    <tr>\n",
       "      <th>1</th>\n",
       "      <td>0068</td>\n",
       "      <td>[-12, -22, -24, -37, -26, -24, -34, -40, -42, ...</td>\n",
       "      <td>m</td>\n",
       "      <td>0</td>\n",
       "      <td>sneeze</td>\n",
       "    </tr>\n",
       "    <tr>\n",
       "      <th>2</th>\n",
       "      <td>0927</td>\n",
       "      <td>[0, 0, 1, 0, 0, -1, 0, 0, 0, 0, 0, -1, 0, 0, 0...</td>\n",
       "      <td>f</td>\n",
       "      <td>0</td>\n",
       "      <td>sniff</td>\n",
       "    </tr>\n",
       "    <tr>\n",
       "      <th>3</th>\n",
       "      <td>0850</td>\n",
       "      <td>[-79, -125, -105, -106, -84, -74, -56, -41, -1...</td>\n",
       "      <td>f</td>\n",
       "      <td>0</td>\n",
       "      <td>laughter</td>\n",
       "    </tr>\n",
       "    <tr>\n",
       "      <th>4</th>\n",
       "      <td>1749</td>\n",
       "      <td>[0, 0, 0, 0, 1, 1, 0, 0, -1, 1, 0, -2, -1, 0, ...</td>\n",
       "      <td>m</td>\n",
       "      <td>0</td>\n",
       "      <td>sneeze</td>\n",
       "    </tr>\n",
       "  </tbody>\n",
       "</table>\n",
       "</div>"
      ],
      "text/plain": [
       "     id                                               data sex index     class\n",
       "0  0788  [4, -1, 9, -10, 2, 16, 14, 15, -5, 8, 18, 23, ...   f     0    sneeze\n",
       "1  0068  [-12, -22, -24, -37, -26, -24, -34, -40, -42, ...   m     0    sneeze\n",
       "2  0927  [0, 0, 1, 0, 0, -1, 0, 0, 0, 0, 0, -1, 0, 0, 0...   f     0     sniff\n",
       "3  0850  [-79, -125, -105, -106, -84, -74, -56, -41, -1...   f     0  laughter\n",
       "4  1749  [0, 0, 0, 0, 1, 1, 0, 0, -1, 1, 0, -2, -1, 0, ...   m     0    sneeze"
      ]
     },
     "execution_count": 6,
     "metadata": {},
     "output_type": "execute_result"
    }
   ],
   "source": [
    "import re\n",
    "\n",
    "pattern = r'([mf])(\\d+)_(\\d+)_(\\w+)'\n",
    "\n",
    "def extract_info(string):\n",
    "    match = re.match(pattern, string)\n",
    "    if match:\n",
    "        sex = match.group(1)\n",
    "        id = match.group(2)\n",
    "        index = match.group(3)\n",
    "        class_name = match.group(4)\n",
    "        return pd.Series([sex, id, index, class_name])\n",
    "    else:\n",
    "        return pd.Series([None, None, None, None])\n",
    "df_std = df.copy()\n",
    "df_std[['sex', 'id', 'index', 'class']] = df_std['id'].apply(extract_info)\n",
    "df_std.head()"
   ]
  }
 ],
 "metadata": {
  "kernelspec": {
   "display_name": ".venv",
   "language": "python",
   "name": "python3"
  },
  "language_info": {
   "codemirror_mode": {
    "name": "ipython",
    "version": 3
   },
   "file_extension": ".py",
   "mimetype": "text/x-python",
   "name": "python",
   "nbconvert_exporter": "python",
   "pygments_lexer": "ipython3",
   "version": "3.12.2"
  }
 },
 "nbformat": 4,
 "nbformat_minor": 2
}
