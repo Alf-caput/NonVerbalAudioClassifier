{
 "cells": [
  {
   "cell_type": "markdown",
   "metadata": {},
   "source": [
    "audio_16k contiene los audios en formato .wav"
   ]
  },
  {
   "cell_type": "code",
   "execution_count": 15,
   "metadata": {},
   "outputs": [],
   "source": [
    "import zipfile\n",
    "import os\n",
    "\n",
    "zip_file_path = \"vs_release_16k.zip\"\n",
    "destination_directory = \"data/\"\n",
    "folders_to_extract = [\"audio_16k/\", \"meta/\"]\n",
    "\n",
    "if not os.path.exists(destination_directory):\n",
    "    with zipfile.ZipFile(zip_file_path, 'r') as zf:\n",
    "        for file in zf.namelist():\n",
    "            if any(file.startswith(folder) for folder in folders_to_extract):\n",
    "                zf.extract(file, destination_directory)"
   ]
  },
  {
   "cell_type": "markdown",
   "metadata": {},
   "source": [
    "m0188_0_cough.wav  \n",
    "m -> male  \n",
    "cough -> cough  \n",
    "0 -> index of that cough (individuals may have more than 1 cough registered)"
   ]
  },
  {
   "cell_type": "markdown",
   "metadata": {},
   "source": []
  }
 ],
 "metadata": {
  "kernelspec": {
   "display_name": ".venv",
   "language": "python",
   "name": "python3"
  },
  "language_info": {
   "codemirror_mode": {
    "name": "ipython",
    "version": 3
   },
   "file_extension": ".py",
   "mimetype": "text/x-python",
   "name": "python",
   "nbconvert_exporter": "python",
   "pygments_lexer": "ipython3",
   "version": "3.11.4"
  }
 },
 "nbformat": 4,
 "nbformat_minor": 2
}
