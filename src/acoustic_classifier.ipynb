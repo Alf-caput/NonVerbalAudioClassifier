{
 "cells": [
  {
   "cell_type": "markdown",
   "metadata": {},
   "source": [
    "Dentro de vs_release_16k.zip descomprimimos dos carpetas:  \n",
    "- audio_16k  \n",
    "- meta  \n",
    "\n",
    "Nos servimos del módulo zipfile para descomprimir.  "
   ]
  },
  {
   "cell_type": "code",
   "execution_count": 3,
   "metadata": {},
   "outputs": [
    {
     "name": "stdout",
     "output_type": "stream",
     "text": [
      "['audio_16k', 'meta']\n"
     ]
    }
   ],
   "source": [
    "import os\n",
    "from zipfile import ZipFile\n",
    "\n",
    "zip_file_name = \"vs_release_16k.zip\"\n",
    "dirs_to_extract = [\"audio_16k\", \"meta\"]\n",
    "output_dir = \"data\"\n",
    "\n",
    "if not os.path.exists(output_dir):\n",
    "    with ZipFile(zip_file_name, 'r') as zf:\n",
    "        files_to_extract = [file for file in zf.namelist()\n",
    "                            if any(file.startswith(dir) for dir in dirs_to_extract)]\n",
    "        zf.extractall(path=output_dir, members=files_to_extract)\n",
    "\n",
    "print(os.listdir(output_dir))"
   ]
  },
  {
   "cell_type": "markdown",
   "metadata": {},
   "source": [
    "Ahora pasamos los datos a numpy arrays para poder trabajar con ellos:"
   ]
  },
  {
   "cell_type": "code",
   "execution_count": 30,
   "metadata": {},
   "outputs": [
    {
     "data": {
      "text/html": [
       "<div>\n",
       "<style scoped>\n",
       "    .dataframe tbody tr th:only-of-type {\n",
       "        vertical-align: middle;\n",
       "    }\n",
       "\n",
       "    .dataframe tbody tr th {\n",
       "        vertical-align: top;\n",
       "    }\n",
       "\n",
       "    .dataframe thead th {\n",
       "        text-align: right;\n",
       "    }\n",
       "</style>\n",
       "<table border=\"1\" class=\"dataframe\">\n",
       "  <thead>\n",
       "    <tr style=\"text-align: right;\">\n",
       "      <th></th>\n",
       "      <th>id</th>\n",
       "      <th>signal</th>\n",
       "      <th>frames</th>\n",
       "    </tr>\n",
       "  </thead>\n",
       "  <tbody>\n",
       "    <tr>\n",
       "      <th>0</th>\n",
       "      <td>f0003_0_cough</td>\n",
       "      <td>[38, 53, 50, 49, -6, -15, -26, -32, -6, -1, 36...</td>\n",
       "      <td>66873</td>\n",
       "    </tr>\n",
       "    <tr>\n",
       "      <th>1</th>\n",
       "      <td>f0003_0_laughter</td>\n",
       "      <td>[-29, 71, 161, 211, 192, 49, -13, -173, -207, ...</td>\n",
       "      <td>72818</td>\n",
       "    </tr>\n",
       "    <tr>\n",
       "      <th>2</th>\n",
       "      <td>f0003_0_sigh</td>\n",
       "      <td>[15, 49, 19, 22, -14, -19, 13, -13, 24, 12, 24...</td>\n",
       "      <td>56471</td>\n",
       "    </tr>\n",
       "    <tr>\n",
       "      <th>3</th>\n",
       "      <td>f0003_0_sneeze</td>\n",
       "      <td>[49, 16, -69, 146, -76, 132, -22, 86, 66, 6, 6...</td>\n",
       "      <td>54985</td>\n",
       "    </tr>\n",
       "    <tr>\n",
       "      <th>4</th>\n",
       "      <td>f0003_0_sniff</td>\n",
       "      <td>[-37, -64, -58, -72, -70, -68, -66, -70, -68, ...</td>\n",
       "      <td>54985</td>\n",
       "    </tr>\n",
       "  </tbody>\n",
       "</table>\n",
       "</div>"
      ],
      "text/plain": [
       "                 id                                             signal  frames\n",
       "0     f0003_0_cough  [38, 53, 50, 49, -6, -15, -26, -32, -6, -1, 36...   66873\n",
       "1  f0003_0_laughter  [-29, 71, 161, 211, 192, 49, -13, -173, -207, ...   72818\n",
       "2      f0003_0_sigh  [15, 49, 19, 22, -14, -19, 13, -13, 24, 12, 24...   56471\n",
       "3    f0003_0_sneeze  [49, 16, -69, 146, -76, 132, -22, 86, 66, 6, 6...   54985\n",
       "4     f0003_0_sniff  [-37, -64, -58, -72, -70, -68, -66, -70, -68, ...   54985"
      ]
     },
     "execution_count": 30,
     "metadata": {},
     "output_type": "execute_result"
    }
   ],
   "source": [
    "import os\n",
    "import wave\n",
    "import numpy as np\n",
    "from concurrent.futures import ThreadPoolExecutor\n",
    "import pandas as pd\n",
    "\n",
    "def read_wav_file(wav_file):\n",
    "    wave_name = os.path.basename(wav_file)\n",
    "    wave_name = os.path.splitext(wave_name)[0]\n",
    "\n",
    "    with wave.open(wav_file, 'rb') as wf:\n",
    "        num_frames = wf.getnframes()\n",
    "        frames = wf.readframes(num_frames)\n",
    "\n",
    "    wave_array = np.frombuffer(frames, dtype=np.int16)\n",
    "\n",
    "    return wave_name, wave_array, num_frames\n",
    "\n",
    "base_dir = \"data\"\n",
    "dir = \"audio_16k\"\n",
    "\n",
    "audio_dir = os.path.join(base_dir, dir)\n",
    "audios = os.listdir(audio_dir)\n",
    "audio_paths = [os.path.join(audio_dir, file) for file in audios]\n",
    "\n",
    "with ThreadPoolExecutor() as exe:\n",
    "    df = pd.DataFrame(exe.map(read_wav_file, audio_paths), columns=['id', 'signal', 'frames'])\n",
    "\n",
    "df.head()"
   ]
  },
  {
   "cell_type": "markdown",
   "metadata": {},
   "source": [
    "Observación: Nuestros threads acceden a elementos distintos por tanto no hay problemas de race condition."
   ]
  },
  {
   "cell_type": "markdown",
   "metadata": {},
   "source": [
    "Mostramos un resultado con matplotlib:"
   ]
  },
  {
   "cell_type": "code",
   "execution_count": 32,
   "metadata": {},
   "outputs": [
    {
     "data": {
      "image/png": "[encoded data removed]",
      "text/plain": [
       "<Figure size 640x480 with 1 Axes>"
      ]
     },
     "metadata": {},
     "output_type": "display_data"
    }
   ],
   "source": [
    "import matplotlib.pyplot as plt\n",
    "\n",
    "name, signal, frames = df.iloc[0]\n",
    "\n",
    "sample_rate = 16_000\n",
    "duration = frames / sample_rate\n",
    "\n",
    "x = np.linspace(0, duration, frames)\n",
    "y = signal\n",
    "\n",
    "plt.plot(x, y)\n",
    "plt.title(name)\n",
    "plt.xlabel('Time [s]')\n",
    "plt.ylabel('Amplitude')\n",
    "plt.show()"
   ]
  },
  {
   "cell_type": "markdown",
   "metadata": {},
   "source": [
    "Los nombres del archivo presentan una estructura:  \n",
    "[sex] [id] \\_ [index] \\_ [class]  \n",
    "\n",
    "- sex: m(male), f(female), o(other)  \n",
    "- id: identificador del sujeto  \n",
    "- index: índice, para un sujeto se puede tener más de una observación de la clase (class)  \n",
    "(Ejemplo: si un sujeto tiene dos cough asociadas tendrán índices 0 y 1)  \n",
    "- class: sonido vocal reproducido  \n",
    "    - cough  \n",
    "    - sniff  \n",
    "    - sneeze  \n",
    "    - sigh  \n",
    "    - laughter  \n",
    "    - throatclearing  "
   ]
  },
  {
   "cell_type": "markdown",
   "metadata": {},
   "source": [
    "Crearemos nuevas columnas a partir de esta identificación de audio:"
   ]
  },
  {
   "cell_type": "code",
   "execution_count": 33,
   "metadata": {},
   "outputs": [
    {
     "data": {
      "text/html": [
       "<div>\n",
       "<style scoped>\n",
       "    .dataframe tbody tr th:only-of-type {\n",
       "        vertical-align: middle;\n",
       "    }\n",
       "\n",
       "    .dataframe tbody tr th {\n",
       "        vertical-align: top;\n",
       "    }\n",
       "\n",
       "    .dataframe thead th {\n",
       "        text-align: right;\n",
       "    }\n",
       "</style>\n",
       "<table border=\"1\" class=\"dataframe\">\n",
       "  <thead>\n",
       "    <tr style=\"text-align: right;\">\n",
       "      <th></th>\n",
       "      <th>id</th>\n",
       "      <th>signal</th>\n",
       "      <th>frames</th>\n",
       "      <th>sex</th>\n",
       "      <th>index</th>\n",
       "      <th>label</th>\n",
       "    </tr>\n",
       "  </thead>\n",
       "  <tbody>\n",
       "    <tr>\n",
       "      <th>0</th>\n",
       "      <td>0003</td>\n",
       "      <td>[38, 53, 50, 49, -6, -15, -26, -32, -6, -1, 36...</td>\n",
       "      <td>66873</td>\n",
       "      <td>f</td>\n",
       "      <td>0</td>\n",
       "      <td>cough</td>\n",
       "    </tr>\n",
       "    <tr>\n",
       "      <th>1</th>\n",
       "      <td>0003</td>\n",
       "      <td>[-29, 71, 161, 211, 192, 49, -13, -173, -207, ...</td>\n",
       "      <td>72818</td>\n",
       "      <td>f</td>\n",
       "      <td>0</td>\n",
       "      <td>laughter</td>\n",
       "    </tr>\n",
       "    <tr>\n",
       "      <th>2</th>\n",
       "      <td>0003</td>\n",
       "      <td>[15, 49, 19, 22, -14, -19, 13, -13, 24, 12, 24...</td>\n",
       "      <td>56471</td>\n",
       "      <td>f</td>\n",
       "      <td>0</td>\n",
       "      <td>sigh</td>\n",
       "    </tr>\n",
       "    <tr>\n",
       "      <th>3</th>\n",
       "      <td>0003</td>\n",
       "      <td>[49, 16, -69, 146, -76, 132, -22, 86, 66, 6, 6...</td>\n",
       "      <td>54985</td>\n",
       "      <td>f</td>\n",
       "      <td>0</td>\n",
       "      <td>sneeze</td>\n",
       "    </tr>\n",
       "    <tr>\n",
       "      <th>4</th>\n",
       "      <td>0003</td>\n",
       "      <td>[-37, -64, -58, -72, -70, -68, -66, -70, -68, ...</td>\n",
       "      <td>54985</td>\n",
       "      <td>f</td>\n",
       "      <td>0</td>\n",
       "      <td>sniff</td>\n",
       "    </tr>\n",
       "  </tbody>\n",
       "</table>\n",
       "</div>"
      ],
      "text/plain": [
       "     id                                             signal  frames sex index  \\\n",
       "0  0003  [38, 53, 50, 49, -6, -15, -26, -32, -6, -1, 36...   66873   f     0   \n",
       "1  0003  [-29, 71, 161, 211, 192, 49, -13, -173, -207, ...   72818   f     0   \n",
       "2  0003  [15, 49, 19, 22, -14, -19, 13, -13, 24, 12, 24...   56471   f     0   \n",
       "3  0003  [49, 16, -69, 146, -76, 132, -22, 86, 66, 6, 6...   54985   f     0   \n",
       "4  0003  [-37, -64, -58, -72, -70, -68, -66, -70, -68, ...   54985   f     0   \n",
       "\n",
       "      label  \n",
       "0     cough  \n",
       "1  laughter  \n",
       "2      sigh  \n",
       "3    sneeze  \n",
       "4     sniff  "
      ]
     },
     "execution_count": 33,
     "metadata": {},
     "output_type": "execute_result"
    }
   ],
   "source": [
    "import re\n",
    "\n",
    "pattern = r'([mfo])(\\d+)_(\\d+)_(\\w+)'\n",
    "\n",
    "def extract_info(string):\n",
    "    match = re.match(pattern, string)\n",
    "    \n",
    "    sex = match.group(1)\n",
    "    id = match.group(2)\n",
    "    index = match.group(3)\n",
    "    label = match.group(4)\n",
    "\n",
    "    return pd.Series([sex, id, index, label])\n",
    "\n",
    "df_std = df.copy()\n",
    "df_std[['sex', 'id', 'index', 'label']] = df_std['id'].apply(extract_info)\n",
    "df_std.head()"
   ]
  },
  {
   "cell_type": "markdown",
   "metadata": {},
   "source": [
    "Tenemos 3504 observaciones de cada clase"
   ]
  },
  {
   "cell_type": "code",
   "execution_count": 7,
   "metadata": {},
   "outputs": [
    {
     "data": {
      "text/html": [
       "<div>\n",
       "<style scoped>\n",
       "    .dataframe tbody tr th:only-of-type {\n",
       "        vertical-align: middle;\n",
       "    }\n",
       "\n",
       "    .dataframe tbody tr th {\n",
       "        vertical-align: top;\n",
       "    }\n",
       "\n",
       "    .dataframe thead th {\n",
       "        text-align: right;\n",
       "    }\n",
       "</style>\n",
       "<table border=\"1\" class=\"dataframe\">\n",
       "  <thead>\n",
       "    <tr style=\"text-align: right;\">\n",
       "      <th></th>\n",
       "      <th>count</th>\n",
       "    </tr>\n",
       "    <tr>\n",
       "      <th>label</th>\n",
       "      <th></th>\n",
       "    </tr>\n",
       "  </thead>\n",
       "  <tbody>\n",
       "    <tr>\n",
       "      <th>cough</th>\n",
       "      <td>3504</td>\n",
       "    </tr>\n",
       "    <tr>\n",
       "      <th>laughter</th>\n",
       "      <td>3504</td>\n",
       "    </tr>\n",
       "    <tr>\n",
       "      <th>sigh</th>\n",
       "      <td>3504</td>\n",
       "    </tr>\n",
       "    <tr>\n",
       "      <th>sneeze</th>\n",
       "      <td>3504</td>\n",
       "    </tr>\n",
       "    <tr>\n",
       "      <th>sniff</th>\n",
       "      <td>3504</td>\n",
       "    </tr>\n",
       "    <tr>\n",
       "      <th>throatclearing</th>\n",
       "      <td>3504</td>\n",
       "    </tr>\n",
       "  </tbody>\n",
       "</table>\n",
       "</div>"
      ],
      "text/plain": [
       "                count\n",
       "label                \n",
       "cough            3504\n",
       "laughter         3504\n",
       "sigh             3504\n",
       "sneeze           3504\n",
       "sniff            3504\n",
       "throatclearing   3504"
      ]
     },
     "execution_count": 7,
     "metadata": {},
     "output_type": "execute_result"
    }
   ],
   "source": [
    "df_std.groupby('label').size().to_frame(name='count')"
   ]
  },
  {
   "cell_type": "markdown",
   "metadata": {},
   "source": [
    "Podemos también comprobar de media "
   ]
  },
  {
   "cell_type": "code",
   "execution_count": 34,
   "metadata": {},
   "outputs": [
    {
     "data": {
      "text/html": [
       "<div>\n",
       "<style scoped>\n",
       "    .dataframe tbody tr th:only-of-type {\n",
       "        vertical-align: middle;\n",
       "    }\n",
       "\n",
       "    .dataframe tbody tr th {\n",
       "        vertical-align: top;\n",
       "    }\n",
       "\n",
       "    .dataframe thead th {\n",
       "        text-align: right;\n",
       "    }\n",
       "</style>\n",
       "<table border=\"1\" class=\"dataframe\">\n",
       "  <thead>\n",
       "    <tr style=\"text-align: right;\">\n",
       "      <th></th>\n",
       "      <th>avg_length(seconds)</th>\n",
       "    </tr>\n",
       "    <tr>\n",
       "      <th>label</th>\n",
       "      <th></th>\n",
       "    </tr>\n",
       "  </thead>\n",
       "  <tbody>\n",
       "    <tr>\n",
       "      <th>cough</th>\n",
       "      <td>4.571497</td>\n",
       "    </tr>\n",
       "    <tr>\n",
       "      <th>laughter</th>\n",
       "      <td>4.233145</td>\n",
       "    </tr>\n",
       "    <tr>\n",
       "      <th>sigh</th>\n",
       "      <td>4.562301</td>\n",
       "    </tr>\n",
       "    <tr>\n",
       "      <th>sneeze</th>\n",
       "      <td>3.848751</td>\n",
       "    </tr>\n",
       "    <tr>\n",
       "      <th>sniff</th>\n",
       "      <td>3.983074</td>\n",
       "    </tr>\n",
       "    <tr>\n",
       "      <th>throatclearing</th>\n",
       "      <td>3.843606</td>\n",
       "    </tr>\n",
       "  </tbody>\n",
       "</table>\n",
       "</div>"
      ],
      "text/plain": [
       "                avg_length(seconds)\n",
       "label                              \n",
       "cough                      4.571497\n",
       "laughter                   4.233145\n",
       "sigh                       4.562301\n",
       "sneeze                     3.848751\n",
       "sniff                      3.983074\n",
       "throatclearing             3.843606"
      ]
     },
     "execution_count": 34,
     "metadata": {},
     "output_type": "execute_result"
    }
   ],
   "source": [
    "sample_rate = 16_000\n",
    "avg_length = df_std.groupby('label')['frames'].mean().to_frame()\n",
    "avg_length = (avg_length / sample_rate).rename(columns={'frames': 'avg_length(seconds)'})\n",
    "avg_length"
   ]
  },
  {
   "cell_type": "code",
   "execution_count": 35,
   "metadata": {},
   "outputs": [
    {
     "data": {
      "image/png": "[encoded data removed]",
      "text/plain": [
       "<Figure size 640x480 with 1 Axes>"
      ]
     },
     "metadata": {},
     "output_type": "display_data"
    }
   ],
   "source": [
    "import matplotlib.pyplot as plt\n",
    "\n",
    "label, signal = df_std[['label', 'signal']].iloc[0]\n",
    "spectrum = np.fft.fft(signal)\n",
    "spectrum = abs(spectrum) # magnitude for complex values\n",
    "left_spectrum = spectrum[:int(len(spectrum) / 2)]\n",
    "\n",
    "plt.plot(left_spectrum)\n",
    "plt.title(label)\n",
    "plt.xlabel('Frequency [Hz]')\n",
    "plt.ylabel('Magnitude')\n",
    "plt.show()"
   ]
  },
  {
   "cell_type": "code",
   "execution_count": 41,
   "metadata": {},
   "outputs": [
    {
     "name": "stdout",
     "output_type": "stream",
     "text": [
      "\n",
      "Longitud media de los audios después del proceso:\n",
      "0.0\n",
      "\n",
      "Tabla que demuestra la nueva longitud de algunos valores:\n",
      "                label  new_length\n",
      "20861  throatclearing           0\n",
      "18584            sigh           0\n",
      "6682            sniff           0\n",
      "6483           sneeze           0\n",
      "12135          sneeze           0\n",
      "14390            sigh           0\n",
      "15297          sneeze           0\n",
      "10037  throatclearing           0\n",
      "7427   throatclearing           0\n",
      "11943          sneeze           0\n",
      "12977  throatclearing           0\n",
      "5436            cough           0\n",
      "17760           cough           0\n",
      "18708           cough           0\n",
      "687            sneeze           0\n",
      "9537           sneeze           0\n",
      "19390           sniff           0\n",
      "9051           sneeze           0\n",
      "10776           cough           0\n",
      "16866           cough           0\n"
     ]
    }
   ],
   "source": [
    "\n"
   ]
  }
 ],
 "metadata": {
  "kernelspec": {
   "display_name": ".venv",
   "language": "python",
   "name": "python3"
  },
  "language_info": {
   "codemirror_mode": {
    "name": "ipython",
    "version": 3
   },
   "file_extension": ".py",
   "mimetype": "text/x-python",
   "name": "python",
   "nbconvert_exporter": "python",
   "pygments_lexer": "ipython3",
   "version": "3.11.9"
  }
 },
 "nbformat": 4,
 "nbformat_minor": 2
}
