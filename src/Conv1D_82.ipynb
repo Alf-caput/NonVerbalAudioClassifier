{
  "cells": [
    {
      "cell_type": "markdown",
      "metadata": {
        "colab_type": "text",
        "id": "view-in-github"
      },
      "source": [
        "<a href=\"https://colab.research.google.com/github/Alf-caput/NonVerbalAudioClassifier/blob/dev3/src/Conv1D_82.ipynb\" target=\"_parent\"><img src=\"https://colab.research.google.com/assets/colab-badge.svg\" alt=\"Open In Colab\"/></a>"
      ]
    },
    {
      "cell_type": "code",
      "execution_count": 1,
      "metadata": {
        "colab": {
          "base_uri": "https://localhost:8080/"
        },
        "id": "Ki3dtfpo5ujf",
        "outputId": "02ede555-f37b-4035-c6d1-2803d3241d6d"
      },
      "outputs": [
        {
          "name": "stderr",
          "output_type": "stream",
          "text": [
            "'wget' is not recognized as an internal or external command,\n",
            "operable program or batch file.\n"
          ]
        }
      ],
      "source": [
        "!wget https://www.dropbox.com/s/fuld3z222j9t1oy/vs_release_16k.zip"
      ]
    },
    {
      "cell_type": "code",
      "execution_count": 2,
      "metadata": {
        "id": "ATPf6j4cLRgv"
      },
      "outputs": [],
      "source": [
        "import os\n",
        "\n",
        "zip_filename = 'vs_release_16k.zip'\n",
        "\n",
        "if not os.path.exists(zip_filename):\n",
        "    os.system(\"wget https://www.dropbox.com/s/fuld3z222j9t1oy/vs_release_16k.zip\")"
      ]
    },
    {
      "cell_type": "markdown",
      "metadata": {
        "id": "uR7UfICDLRgx"
      },
      "source": [
        "Dentro de vs_release_16k.zip descomprimimos:  \n",
        "- audio_16k  \n",
        "\n",
        "Nos servimos del módulo zipfile para descomprimir.  "
      ]
    },
    {
      "cell_type": "code",
      "execution_count": 3,
      "metadata": {
        "id": "vyOyxxYdLRgy"
      },
      "outputs": [],
      "source": [
        "import os\n",
        "from zipfile import ZipFile\n",
        "from concurrent.futures import ThreadPoolExecutor\n",
        "\n",
        "zip_filename = 'vs_release_16k.zip'\n",
        "audio_dir = 'audio_16k/'\n",
        "\n",
        "if not os.path.exists(audio_dir):\n",
        "    with ZipFile(zip_filename, 'r') as zf:\n",
        "        with ThreadPoolExecutor() as exe:\n",
        "            for file in zf.namelist():\n",
        "                if file.startswith(audio_dir):\n",
        "                    exe.submit(zf.extract, file)"
      ]
    },
    {
      "cell_type": "code",
      "execution_count": 4,
      "metadata": {
        "colab": {
          "base_uri": "https://localhost:8080/"
        },
        "id": "ZDNoTcQ-2rR6",
        "outputId": "7987d21e-e7c7-4460-d9b7-c5143bdc2d7b"
      },
      "outputs": [
        {
          "name": "stdout",
          "output_type": "stream",
          "text": [
            "Total audios: 20502\n",
            "Filenames shape: TensorSpec(shape=(), dtype=tf.string, name=None)\n"
          ]
        }
      ],
      "source": [
        "import tensorflow as tf\n",
        "\n",
        "audio_dir = 'audio_16k/'\n",
        "seed = 42\n",
        "\n",
        "tf.random.set_seed(seed)\n",
        "\n",
        "ds_files = tf.data.Dataset.list_files(audio_dir + '*.wav') # by default shuffle=True\n",
        "\n",
        "print(\"Total audios:\", len(ds_files))\n",
        "print(\"Filenames shape:\", ds_files.element_spec)"
      ]
    },
    {
      "cell_type": "code",
      "execution_count": 5,
      "metadata": {
        "colab": {
          "base_uri": "https://localhost:8080/"
        },
        "id": "mUEfxSs42rR7",
        "outputId": "e914dbc3-a5a5-4bd8-810d-b74c493f58e5"
      },
      "outputs": [
        {
          "name": "stdout",
          "output_type": "stream",
          "text": [
            "tf.Tensor(b'audio_16k\\\\m1788_0_sneeze.wav', shape=(), dtype=string)\n",
            "tf.Tensor(b'audio_16k\\\\m1594_0_laughter.wav', shape=(), dtype=string)\n",
            "tf.Tensor(b'audio_16k\\\\m2453_0_cough.wav', shape=(), dtype=string)\n",
            "tf.Tensor(b'audio_16k\\\\m2737_0_sigh.wav', shape=(), dtype=string)\n",
            "tf.Tensor(b'audio_16k\\\\m0801_0_sneeze.wav', shape=(), dtype=string)\n"
          ]
        }
      ],
      "source": [
        "for elem in ds_files.take(5):\n",
        "    print(elem)"
      ]
    },
    {
      "cell_type": "code",
      "execution_count": 6,
      "metadata": {
        "colab": {
          "base_uri": "https://localhost:8080/"
        },
        "id": "41hDfCPBb4iS",
        "outputId": "5f2a0c83-1c7d-404f-f62b-d71c3fc50c26"
      },
      "outputs": [
        {
          "name": "stdout",
          "output_type": "stream",
          "text": [
            "Filename Tensor: tf.Tensor(b'audio_16k\\\\o2139_0_sigh.wav', shape=(), dtype=string)\n",
            "Label Tensor: tf.Tensor(2, shape=(), dtype=int64)\n"
          ]
        }
      ],
      "source": [
        "vocal_sounds = ['cough', 'laughter', 'sigh', 'sneeze', 'sniff', 'throatclearing']\n",
        "num_sounds = len(vocal_sounds)\n",
        "\n",
        "for elem in ds_files.take(1):\n",
        "    example_file = elem\n",
        "\n",
        "def get_label(file_path):\n",
        "  label = tf.strings.split(\n",
        "    input=file_path,\n",
        "    sep='_')[-1]\n",
        "\n",
        "  label = tf.strings.split(\n",
        "    input=label,\n",
        "    sep='.')[0]\n",
        "\n",
        "  label = tf.where(label==vocal_sounds)\n",
        "  label = tf.reshape(label, ())\n",
        "  return label\n",
        "\n",
        "print(\"Filename Tensor:\", example_file)\n",
        "print(\"Label Tensor:\", get_label(example_file))"
      ]
    },
    {
      "cell_type": "code",
      "execution_count": 7,
      "metadata": {
        "colab": {
          "base_uri": "https://localhost:8080/"
        },
        "id": "Wt7HzlPLo6gf",
        "outputId": "c7192b5d-a94d-4eac-f635-7821f2b44b34"
      },
      "outputs": [
        {
          "name": "stdout",
          "output_type": "stream",
          "text": [
            "Filename Tensor: tf.Tensor(b'audio_16k\\\\m0131_0_cough.wav', shape=(), dtype=string)\n"
          ]
        },
        {
          "name": "stdout",
          "output_type": "stream",
          "text": [
            "Signal Tensor: tf.Tensor(\n",
            "[3.0517578e-05 3.0517578e-05 0.0000000e+00 ... 4.2724609e-04 4.5776367e-04\n",
            " 3.3569336e-04], shape=(36864,), dtype=float32)\n"
          ]
        }
      ],
      "source": [
        "for elem in ds_files.take(1):\n",
        "    example_file = elem\n",
        "\n",
        "def get_signal(file_path):\n",
        "\n",
        "  audio_binary = tf.io.read_file(file_path)\n",
        "  signal = tf.audio.decode_wav(audio_binary)[0]\n",
        "\n",
        "  return tf.squeeze(signal, axis=-1)\n",
        "\n",
        "print(\"Filename Tensor:\", example_file)\n",
        "print(\"Signal Tensor:\", get_signal(example_file))"
      ]
    },
    {
      "cell_type": "code",
      "execution_count": 8,
      "metadata": {
        "colab": {
          "base_uri": "https://localhost:8080/"
        },
        "id": "kQMUH4QNbZ3P",
        "outputId": "b85c571a-df24-4071-b785-42287be10c65"
      },
      "outputs": [
        {
          "name": "stdout",
          "output_type": "stream",
          "text": [
            "Total signals: 20502\n",
            "Signals shape: (TensorSpec(shape=(None,), dtype=tf.float32, name=None), TensorSpec(shape=(), dtype=tf.int64, name=None))\n"
          ]
        }
      ],
      "source": [
        "AUTOTUNE = tf.data.AUTOTUNE\n",
        "\n",
        "ds_signals = (\n",
        "    ds_files\n",
        "    .shuffle(len(ds_files))\n",
        "    .cache()\n",
        "    .map(lambda x: (get_signal(x), get_label(x)), num_parallel_calls=AUTOTUNE)\n",
        "    )\n",
        "\n",
        "print(\"Total signals:\", len(ds_signals))\n",
        "print(\"Signals shape:\", ds_signals.element_spec)"
      ]
    },
    {
      "cell_type": "code",
      "execution_count": 9,
      "metadata": {
        "colab": {
          "base_uri": "https://localhost:8080/",
          "height": 452
        },
        "id": "tpy5OW7Fs1Ek",
        "outputId": "8807642b-af37-46c7-beb2-9f560df6eaa0"
      },
      "outputs": [
        {
          "data": {
            "image/png": "[encoded data removed]",
            "text/plain": [
              "<Figure size 640x480 with 1 Axes>"
            ]
          },
          "metadata": {},
          "output_type": "display_data"
        }
      ],
      "source": [
        "import matplotlib.pyplot as plt\n",
        "for elem in ds_signals.take(1):\n",
        "  signal, label = elem\n",
        "  plt.plot(signal)\n",
        "  plt.title(vocal_sounds[label])"
      ]
    },
    {
      "cell_type": "code",
      "execution_count": 10,
      "metadata": {
        "colab": {
          "base_uri": "https://localhost:8080/"
        },
        "id": "xWkRExMY7GZd",
        "outputId": "8d301931-6a88-4b59-c647-56a46656f012"
      },
      "outputs": [
        {
          "name": "stdout",
          "output_type": "stream",
          "text": [
            "62805\n"
          ]
        }
      ],
      "source": [
        "for elem in ds_files:\n",
        "  print(get_signal(elem).shape[0])\n",
        "  break"
      ]
    },
    {
      "cell_type": "code",
      "execution_count": 11,
      "metadata": {
        "colab": {
          "base_uri": "https://localhost:8080/"
        },
        "id": "nG5Qp9LD7t4X",
        "outputId": "6b7b7a48-945c-4b69-c8ae-0d234ea015cd"
      },
      "outputs": [
        {
          "data": {
            "text/plain": [
              "20502"
            ]
          },
          "execution_count": 11,
          "metadata": {},
          "output_type": "execute_result"
        }
      ],
      "source": [
        "ds_files = tf.data.Dataset.list_files(audio_dir + '*.wav') # by default shuffle=True\n",
        "len(ds_files)"
      ]
    },
    {
      "cell_type": "code",
      "execution_count": 12,
      "metadata": {
        "colab": {
          "base_uri": "https://localhost:8080/"
        },
        "id": "xvcOpKxRtE3d",
        "outputId": "0a8c27e2-0836-4f6f-b265-bc1c7eef167c"
      },
      "outputs": [
        {
          "name": "stdout",
          "output_type": "stream",
          "text": [
            "Total audios: 20502\n"
          ]
        }
      ],
      "source": [
        "def remove_shortaudio(file_path, min_len):\n",
        "  if get_signal(file_path).shape[0] < min_len:\n",
        "    tf.io.gfile.remove(file_path)\n",
        "\n",
        "initial_file_count = 21024\n",
        "\n",
        "if len(ds_files) >= initial_file_count:\n",
        "  # Remove less than 0.1s audios (16kHz then 1600 frames)\n",
        "  min_len = 1600\n",
        "  with ThreadPoolExecutor() as exe:\n",
        "    for file in ds_files:\n",
        "      exe.submit(remove_shortaudio, file.numpy(), min_len)\n",
        "\n",
        "  ds_files = tf.data.Dataset.list_files(audio_dir + '*.wav') # by default shuffle=True\n",
        "\n",
        "print('Total audios:', len(ds_files))"
      ]
    },
    {
      "cell_type": "code",
      "execution_count": 13,
      "metadata": {
        "colab": {
          "base_uri": "https://localhost:8080/"
        },
        "id": "y9yA9_bQlv1M",
        "outputId": "4f77273c-8c7d-4cde-d915-b5e9c2433c0d"
      },
      "outputs": [
        {
          "name": "stdout",
          "output_type": "stream",
          "text": [
            "(<tf.Tensor: shape=(87381,), dtype=float32, numpy=\n",
            "array([ 1.8310547e-04,  1.5258789e-04,  1.2207031e-04, ...,\n",
            "       -3.0517578e-05, -9.1552734e-05,  0.0000000e+00], dtype=float32)>, <tf.Tensor: shape=(), dtype=int64, numpy=2>)\n"
          ]
        }
      ],
      "source": [
        "ds_signals = ds_files.map(lambda x: (get_signal(x), get_label(x)), num_parallel_calls=AUTOTUNE)\n",
        "for elem in ds_signals.take(1):\n",
        "  print(elem)"
      ]
    },
    {
      "cell_type": "code",
      "execution_count": 14,
      "metadata": {
        "colab": {
          "base_uri": "https://localhost:8080/"
        },
        "id": "3dST_H_VmB_A",
        "outputId": "aa0a97be-b343-4def-df3e-0f2bfa77e4c4"
      },
      "outputs": [
        {
          "name": "stdout",
          "output_type": "stream",
          "text": [
            "Tensor(\"strided_slice:0\", shape=(), dtype=int32) Tensor(\"strided_slice_1:0\", shape=(), dtype=int32)\n"
          ]
        }
      ],
      "source": [
        "vocal_sounds = ['cough', 'laughter', 'sigh', 'sneeze', 'sniff', 'throatclearing']\n",
        "num_sounds = len(vocal_sounds)\n",
        "\n",
        "\n",
        "def normalize(signal, label):\n",
        "  # Label to onehot\n",
        "  label = tf.one_hot(label, len(vocal_sounds))\n",
        "\n",
        "  # Signal to standard length\n",
        "  std_len = 64_000 # 4s\n",
        "  curr_len = len(signal)\n",
        "  print(curr_len, len(signal))\n",
        "\n",
        "  if curr_len > std_len:\n",
        "    rand_idx = tf.random.uniform(shape=[], maxval=curr_len-std_len, dtype=tf.int32)\n",
        "    signal = signal[rand_idx:rand_idx+std_len]\n",
        "\n",
        "  else:\n",
        "    left_padding = (std_len - curr_len) // 2\n",
        "    right_padding = std_len - curr_len - left_padding\n",
        "    signal = tf.pad(signal, [[left_padding, right_padding]])\n",
        "\n",
        "  return signal, label\n",
        "\n",
        "ds_signals = ds_signals.map(normalize)"
      ]
    },
    {
      "cell_type": "code",
      "execution_count": 15,
      "metadata": {
        "colab": {
          "base_uri": "https://localhost:8080/"
        },
        "id": "nYTpsGb3MtS_",
        "outputId": "425be643-92c9-4c1d-9692-bc9a244243f8"
      },
      "outputs": [
        {
          "name": "stdout",
          "output_type": "stream",
          "text": [
            "(<tf.Tensor: shape=(64000,), dtype=float32, numpy=\n",
            "array([-2.8991699e-03, -2.8991699e-03, -2.1667480e-03, ...,\n",
            "       -9.1552734e-05, -6.1035156e-05,  3.0517578e-05], dtype=float32)>, <tf.Tensor: shape=(6,), dtype=float32, numpy=array([0., 0., 0., 0., 0., 1.], dtype=float32)>)\n",
            "(<tf.Tensor: shape=(64000,), dtype=float32, numpy=array([0., 0., 0., ..., 0., 0., 0.], dtype=float32)>, <tf.Tensor: shape=(6,), dtype=float32, numpy=array([0., 0., 0., 1., 0., 0.], dtype=float32)>)\n"
          ]
        }
      ],
      "source": [
        "for elem in ds_signals.take(2):\n",
        "  print(elem)"
      ]
    },
    {
      "cell_type": "code",
      "execution_count": 16,
      "metadata": {
        "colab": {
          "base_uri": "https://localhost:8080/"
        },
        "id": "MntLIWZJcFdb",
        "outputId": "86e15a43-98c2-4ea1-a485-936c2c2ba8fb"
      },
      "outputs": [
        {
          "data": {
            "text/plain": [
              "(TensorSpec(shape=(None,), dtype=tf.float32, name=None),\n",
              " TensorSpec(shape=(6,), dtype=tf.float32, name=None))"
            ]
          },
          "execution_count": 16,
          "metadata": {},
          "output_type": "execute_result"
        }
      ],
      "source": [
        "ds_signals.element_spec"
      ]
    },
    {
      "cell_type": "code",
      "execution_count": 17,
      "metadata": {
        "id": "AtLbAh6jLRg8"
      },
      "outputs": [],
      "source": [
        "num_train = len(ds_signals)\n",
        "\n",
        "RATIO = 0.2\n",
        "test_size = int(RATIO * num_train)\n",
        "\n",
        "ds_train = ds_signals.skip(test_size)\n",
        "ds_test = ds_signals.take(test_size)"
      ]
    },
    {
      "cell_type": "code",
      "execution_count": 18,
      "metadata": {
        "id": "IwiMw9keLRg8"
      },
      "outputs": [],
      "source": [
        "num_train = len(ds_train)\n",
        "\n",
        "RATIO = 0.2\n",
        "validation_size = int(RATIO * num_train)\n",
        "\n",
        "ds_fit = ds_signals.skip(validation_size)\n",
        "ds_val = ds_signals.take(validation_size)"
      ]
    },
    {
      "cell_type": "code",
      "execution_count": 19,
      "metadata": {
        "id": "fkTw9s3lLRg9"
      },
      "outputs": [],
      "source": [
        "AUTOTUNE = tf.data.AUTOTUNE\n",
        "BATCH_SIZE = 128\n",
        "ds_fit = (\n",
        "    ds_fit\n",
        "    .cache()\n",
        "    .shuffle(len(ds_fit))\n",
        "    .batch(BATCH_SIZE)\n",
        "    .prefetch(AUTOTUNE)\n",
        ")\n",
        "\n",
        "ds_val = (\n",
        "    ds_val\n",
        "    .cache()\n",
        "    .batch(32)\n",
        "    .prefetch(tf.data.AUTOTUNE)\n",
        ")"
      ]
    },
    {
      "cell_type": "code",
      "execution_count": 20,
      "metadata": {
        "id": "cq9rBe_GLRg9"
      },
      "outputs": [],
      "source": [
        "from tensorflow.keras.callbacks import EarlyStopping, ReduceLROnPlateau\n",
        "\n",
        "# Reduce learning rate\n",
        "reduce_lr = ReduceLROnPlateau(monitor='val_accuracy', factor=0.2, patience=4, min_lr=0.0001)\n",
        "\n",
        "epoch_wait = 5\n",
        "# Crear el EarlyStopping callback con la función on_train_end\n",
        "early_stopping = EarlyStopping(monitor='val_loss', mode='min', verbose=1, patience=epoch_wait, restore_best_weights=True)\n",
        "\n",
        "# Definimos los callbacks\n",
        "callbacks = [early_stopping, reduce_lr]"
      ]
    },
    {
      "cell_type": "code",
      "execution_count": 21,
      "metadata": {
        "colab": {
          "base_uri": "https://localhost:8080/"
        },
        "id": "EZ-6L9Ur3ErO",
        "outputId": "937ca0d5-d80b-4381-a97c-a7723c0cf240"
      },
      "outputs": [
        {
          "name": "stderr",
          "output_type": "stream",
          "text": [
            "c:\\Users\\alfre\\Desktop\\Utils\\ProyectoIntegradorIII\\NonVerbalAudioClassifier\\.venv\\Lib\\site-packages\\keras\\src\\layers\\convolutional\\base_conv.py:99: UserWarning: Do not pass an `input_shape`/`input_dim` argument to a layer. When using Sequential models, prefer using an `Input(shape)` object as the first layer in the model instead.\n",
            "  super().__init__(\n"
          ]
        },
        {
          "data": {
            "text/html": [
              "<pre style=\"white-space:pre;overflow-x:auto;line-height:normal;font-family:Menlo,'DejaVu Sans Mono',consolas,'Courier New',monospace\"><span style=\"font-weight: bold\">Model: \"sequential\"</span>\n",
              "</pre>\n"
            ],
            "text/plain": [
              "\u001b[1mModel: \"sequential\"\u001b[0m\n"
            ]
          },
          "metadata": {},
          "output_type": "display_data"
        },
        {
          "data": {
            "text/html": [
              "<pre style=\"white-space:pre;overflow-x:auto;line-height:normal;font-family:Menlo,'DejaVu Sans Mono',consolas,'Courier New',monospace\">┏━━━━━━━━━━━━━━━━━━━━━━━━━━━━━━━━━┳━━━━━━━━━━━━━━━━━━━━━━━━┳━━━━━━━━━━━━━━━┓\n",
              "┃<span style=\"font-weight: bold\"> Layer (type)                    </span>┃<span style=\"font-weight: bold\"> Output Shape           </span>┃<span style=\"font-weight: bold\">       Param # </span>┃\n",
              "┡━━━━━━━━━━━━━━━━━━━━━━━━━━━━━━━━━╇━━━━━━━━━━━━━━━━━━━━━━━━╇━━━━━━━━━━━━━━━┩\n",
              "│ conv1d (<span style=\"color: #0087ff; text-decoration-color: #0087ff\">Conv1D</span>)                 │ (<span style=\"color: #00d7ff; text-decoration-color: #00d7ff\">None</span>, <span style=\"color: #00af00; text-decoration-color: #00af00\">63998</span>, <span style=\"color: #00af00; text-decoration-color: #00af00\">64</span>)      │           <span style=\"color: #00af00; text-decoration-color: #00af00\">256</span> │\n",
              "├─────────────────────────────────┼────────────────────────┼───────────────┤\n",
              "│ max_pooling1d (<span style=\"color: #0087ff; text-decoration-color: #0087ff\">MaxPooling1D</span>)    │ (<span style=\"color: #00d7ff; text-decoration-color: #00d7ff\">None</span>, <span style=\"color: #00af00; text-decoration-color: #00af00\">31999</span>, <span style=\"color: #00af00; text-decoration-color: #00af00\">64</span>)      │             <span style=\"color: #00af00; text-decoration-color: #00af00\">0</span> │\n",
              "├─────────────────────────────────┼────────────────────────┼───────────────┤\n",
              "│ conv1d_1 (<span style=\"color: #0087ff; text-decoration-color: #0087ff\">Conv1D</span>)               │ (<span style=\"color: #00d7ff; text-decoration-color: #00d7ff\">None</span>, <span style=\"color: #00af00; text-decoration-color: #00af00\">31997</span>, <span style=\"color: #00af00; text-decoration-color: #00af00\">64</span>)      │        <span style=\"color: #00af00; text-decoration-color: #00af00\">12,352</span> │\n",
              "├─────────────────────────────────┼────────────────────────┼───────────────┤\n",
              "│ max_pooling1d_1 (<span style=\"color: #0087ff; text-decoration-color: #0087ff\">MaxPooling1D</span>)  │ (<span style=\"color: #00d7ff; text-decoration-color: #00d7ff\">None</span>, <span style=\"color: #00af00; text-decoration-color: #00af00\">5332</span>, <span style=\"color: #00af00; text-decoration-color: #00af00\">64</span>)       │             <span style=\"color: #00af00; text-decoration-color: #00af00\">0</span> │\n",
              "├─────────────────────────────────┼────────────────────────┼───────────────┤\n",
              "│ conv1d_2 (<span style=\"color: #0087ff; text-decoration-color: #0087ff\">Conv1D</span>)               │ (<span style=\"color: #00d7ff; text-decoration-color: #00d7ff\">None</span>, <span style=\"color: #00af00; text-decoration-color: #00af00\">5330</span>, <span style=\"color: #00af00; text-decoration-color: #00af00\">64</span>)       │        <span style=\"color: #00af00; text-decoration-color: #00af00\">12,352</span> │\n",
              "├─────────────────────────────────┼────────────────────────┼───────────────┤\n",
              "│ max_pooling1d_2 (<span style=\"color: #0087ff; text-decoration-color: #0087ff\">MaxPooling1D</span>)  │ (<span style=\"color: #00d7ff; text-decoration-color: #00d7ff\">None</span>, <span style=\"color: #00af00; text-decoration-color: #00af00\">1776</span>, <span style=\"color: #00af00; text-decoration-color: #00af00\">64</span>)       │             <span style=\"color: #00af00; text-decoration-color: #00af00\">0</span> │\n",
              "├─────────────────────────────────┼────────────────────────┼───────────────┤\n",
              "│ conv1d_3 (<span style=\"color: #0087ff; text-decoration-color: #0087ff\">Conv1D</span>)               │ (<span style=\"color: #00d7ff; text-decoration-color: #00d7ff\">None</span>, <span style=\"color: #00af00; text-decoration-color: #00af00\">1774</span>, <span style=\"color: #00af00; text-decoration-color: #00af00\">64</span>)       │        <span style=\"color: #00af00; text-decoration-color: #00af00\">12,352</span> │\n",
              "├─────────────────────────────────┼────────────────────────┼───────────────┤\n",
              "│ max_pooling1d_3 (<span style=\"color: #0087ff; text-decoration-color: #0087ff\">MaxPooling1D</span>)  │ (<span style=\"color: #00d7ff; text-decoration-color: #00d7ff\">None</span>, <span style=\"color: #00af00; text-decoration-color: #00af00\">443</span>, <span style=\"color: #00af00; text-decoration-color: #00af00\">64</span>)        │             <span style=\"color: #00af00; text-decoration-color: #00af00\">0</span> │\n",
              "├─────────────────────────────────┼────────────────────────┼───────────────┤\n",
              "│ conv1d_4 (<span style=\"color: #0087ff; text-decoration-color: #0087ff\">Conv1D</span>)               │ (<span style=\"color: #00d7ff; text-decoration-color: #00d7ff\">None</span>, <span style=\"color: #00af00; text-decoration-color: #00af00\">441</span>, <span style=\"color: #00af00; text-decoration-color: #00af00\">128</span>)       │        <span style=\"color: #00af00; text-decoration-color: #00af00\">24,704</span> │\n",
              "├─────────────────────────────────┼────────────────────────┼───────────────┤\n",
              "│ max_pooling1d_4 (<span style=\"color: #0087ff; text-decoration-color: #0087ff\">MaxPooling1D</span>)  │ (<span style=\"color: #00d7ff; text-decoration-color: #00d7ff\">None</span>, <span style=\"color: #00af00; text-decoration-color: #00af00\">220</span>, <span style=\"color: #00af00; text-decoration-color: #00af00\">128</span>)       │             <span style=\"color: #00af00; text-decoration-color: #00af00\">0</span> │\n",
              "├─────────────────────────────────┼────────────────────────┼───────────────┤\n",
              "│ flatten (<span style=\"color: #0087ff; text-decoration-color: #0087ff\">Flatten</span>)               │ (<span style=\"color: #00d7ff; text-decoration-color: #00d7ff\">None</span>, <span style=\"color: #00af00; text-decoration-color: #00af00\">28160</span>)          │             <span style=\"color: #00af00; text-decoration-color: #00af00\">0</span> │\n",
              "├─────────────────────────────────┼────────────────────────┼───────────────┤\n",
              "│ dense (<span style=\"color: #0087ff; text-decoration-color: #0087ff\">Dense</span>)                   │ (<span style=\"color: #00d7ff; text-decoration-color: #00d7ff\">None</span>, <span style=\"color: #00af00; text-decoration-color: #00af00\">64</span>)             │     <span style=\"color: #00af00; text-decoration-color: #00af00\">1,802,304</span> │\n",
              "├─────────────────────────────────┼────────────────────────┼───────────────┤\n",
              "│ dense_1 (<span style=\"color: #0087ff; text-decoration-color: #0087ff\">Dense</span>)                 │ (<span style=\"color: #00d7ff; text-decoration-color: #00d7ff\">None</span>, <span style=\"color: #00af00; text-decoration-color: #00af00\">6</span>)              │           <span style=\"color: #00af00; text-decoration-color: #00af00\">390</span> │\n",
              "└─────────────────────────────────┴────────────────────────┴───────────────┘\n",
              "</pre>\n"
            ],
            "text/plain": [
              "┏━━━━━━━━━━━━━━━━━━━━━━━━━━━━━━━━━┳━━━━━━━━━━━━━━━━━━━━━━━━┳━━━━━━━━━━━━━━━┓\n",
              "┃\u001b[1m \u001b[0m\u001b[1mLayer (type)                   \u001b[0m\u001b[1m \u001b[0m┃\u001b[1m \u001b[0m\u001b[1mOutput Shape          \u001b[0m\u001b[1m \u001b[0m┃\u001b[1m \u001b[0m\u001b[1m      Param #\u001b[0m\u001b[1m \u001b[0m┃\n",
              "┡━━━━━━━━━━━━━━━━━━━━━━━━━━━━━━━━━╇━━━━━━━━━━━━━━━━━━━━━━━━╇━━━━━━━━━━━━━━━┩\n",
              "│ conv1d (\u001b[38;5;33mConv1D\u001b[0m)                 │ (\u001b[38;5;45mNone\u001b[0m, \u001b[38;5;34m63998\u001b[0m, \u001b[38;5;34m64\u001b[0m)      │           \u001b[38;5;34m256\u001b[0m │\n",
              "├─────────────────────────────────┼────────────────────────┼───────────────┤\n",
              "│ max_pooling1d (\u001b[38;5;33mMaxPooling1D\u001b[0m)    │ (\u001b[38;5;45mNone\u001b[0m, \u001b[38;5;34m31999\u001b[0m, \u001b[38;5;34m64\u001b[0m)      │             \u001b[38;5;34m0\u001b[0m │\n",
              "├─────────────────────────────────┼────────────────────────┼───────────────┤\n",
              "│ conv1d_1 (\u001b[38;5;33mConv1D\u001b[0m)               │ (\u001b[38;5;45mNone\u001b[0m, \u001b[38;5;34m31997\u001b[0m, \u001b[38;5;34m64\u001b[0m)      │        \u001b[38;5;34m12,352\u001b[0m │\n",
              "├─────────────────────────────────┼────────────────────────┼───────────────┤\n",
              "│ max_pooling1d_1 (\u001b[38;5;33mMaxPooling1D\u001b[0m)  │ (\u001b[38;5;45mNone\u001b[0m, \u001b[38;5;34m5332\u001b[0m, \u001b[38;5;34m64\u001b[0m)       │             \u001b[38;5;34m0\u001b[0m │\n",
              "├─────────────────────────────────┼────────────────────────┼───────────────┤\n",
              "│ conv1d_2 (\u001b[38;5;33mConv1D\u001b[0m)               │ (\u001b[38;5;45mNone\u001b[0m, \u001b[38;5;34m5330\u001b[0m, \u001b[38;5;34m64\u001b[0m)       │        \u001b[38;5;34m12,352\u001b[0m │\n",
              "├─────────────────────────────────┼────────────────────────┼───────────────┤\n",
              "│ max_pooling1d_2 (\u001b[38;5;33mMaxPooling1D\u001b[0m)  │ (\u001b[38;5;45mNone\u001b[0m, \u001b[38;5;34m1776\u001b[0m, \u001b[38;5;34m64\u001b[0m)       │             \u001b[38;5;34m0\u001b[0m │\n",
              "├─────────────────────────────────┼────────────────────────┼───────────────┤\n",
              "│ conv1d_3 (\u001b[38;5;33mConv1D\u001b[0m)               │ (\u001b[38;5;45mNone\u001b[0m, \u001b[38;5;34m1774\u001b[0m, \u001b[38;5;34m64\u001b[0m)       │        \u001b[38;5;34m12,352\u001b[0m │\n",
              "├─────────────────────────────────┼────────────────────────┼───────────────┤\n",
              "│ max_pooling1d_3 (\u001b[38;5;33mMaxPooling1D\u001b[0m)  │ (\u001b[38;5;45mNone\u001b[0m, \u001b[38;5;34m443\u001b[0m, \u001b[38;5;34m64\u001b[0m)        │             \u001b[38;5;34m0\u001b[0m │\n",
              "├─────────────────────────────────┼────────────────────────┼───────────────┤\n",
              "│ conv1d_4 (\u001b[38;5;33mConv1D\u001b[0m)               │ (\u001b[38;5;45mNone\u001b[0m, \u001b[38;5;34m441\u001b[0m, \u001b[38;5;34m128\u001b[0m)       │        \u001b[38;5;34m24,704\u001b[0m │\n",
              "├─────────────────────────────────┼────────────────────────┼───────────────┤\n",
              "│ max_pooling1d_4 (\u001b[38;5;33mMaxPooling1D\u001b[0m)  │ (\u001b[38;5;45mNone\u001b[0m, \u001b[38;5;34m220\u001b[0m, \u001b[38;5;34m128\u001b[0m)       │             \u001b[38;5;34m0\u001b[0m │\n",
              "├─────────────────────────────────┼────────────────────────┼───────────────┤\n",
              "│ flatten (\u001b[38;5;33mFlatten\u001b[0m)               │ (\u001b[38;5;45mNone\u001b[0m, \u001b[38;5;34m28160\u001b[0m)          │             \u001b[38;5;34m0\u001b[0m │\n",
              "├─────────────────────────────────┼────────────────────────┼───────────────┤\n",
              "│ dense (\u001b[38;5;33mDense\u001b[0m)                   │ (\u001b[38;5;45mNone\u001b[0m, \u001b[38;5;34m64\u001b[0m)             │     \u001b[38;5;34m1,802,304\u001b[0m │\n",
              "├─────────────────────────────────┼────────────────────────┼───────────────┤\n",
              "│ dense_1 (\u001b[38;5;33mDense\u001b[0m)                 │ (\u001b[38;5;45mNone\u001b[0m, \u001b[38;5;34m6\u001b[0m)              │           \u001b[38;5;34m390\u001b[0m │\n",
              "└─────────────────────────────────┴────────────────────────┴───────────────┘\n"
            ]
          },
          "metadata": {},
          "output_type": "display_data"
        },
        {
          "data": {
            "text/html": [
              "<pre style=\"white-space:pre;overflow-x:auto;line-height:normal;font-family:Menlo,'DejaVu Sans Mono',consolas,'Courier New',monospace\"><span style=\"font-weight: bold\"> Total params: </span><span style=\"color: #00af00; text-decoration-color: #00af00\">1,864,710</span> (7.11 MB)\n",
              "</pre>\n"
            ],
            "text/plain": [
              "\u001b[1m Total params: \u001b[0m\u001b[38;5;34m1,864,710\u001b[0m (7.11 MB)\n"
            ]
          },
          "metadata": {},
          "output_type": "display_data"
        },
        {
          "data": {
            "text/html": [
              "<pre style=\"white-space:pre;overflow-x:auto;line-height:normal;font-family:Menlo,'DejaVu Sans Mono',consolas,'Courier New',monospace\"><span style=\"font-weight: bold\"> Trainable params: </span><span style=\"color: #00af00; text-decoration-color: #00af00\">1,864,710</span> (7.11 MB)\n",
              "</pre>\n"
            ],
            "text/plain": [
              "\u001b[1m Trainable params: \u001b[0m\u001b[38;5;34m1,864,710\u001b[0m (7.11 MB)\n"
            ]
          },
          "metadata": {},
          "output_type": "display_data"
        },
        {
          "data": {
            "text/html": [
              "<pre style=\"white-space:pre;overflow-x:auto;line-height:normal;font-family:Menlo,'DejaVu Sans Mono',consolas,'Courier New',monospace\"><span style=\"font-weight: bold\"> Non-trainable params: </span><span style=\"color: #00af00; text-decoration-color: #00af00\">0</span> (0.00 B)\n",
              "</pre>\n"
            ],
            "text/plain": [
              "\u001b[1m Non-trainable params: \u001b[0m\u001b[38;5;34m0\u001b[0m (0.00 B)\n"
            ]
          },
          "metadata": {},
          "output_type": "display_data"
        }
      ],
      "source": [
        "import tensorflow as tf\n",
        "from tensorflow.keras import Sequential\n",
        "from tensorflow.keras.layers import Dense, Dropout\n",
        "from tensorflow.keras.layers import Conv1D, MaxPooling1D, Flatten\n",
        "\n",
        "model = Sequential([\n",
        "    Conv1D(64, 3, activation='relu', input_shape=(64000, 1)),\n",
        "    MaxPooling1D(2),\n",
        "    Conv1D(64, 3, activation='relu'),\n",
        "    MaxPooling1D(6),\n",
        "    Conv1D(64, 3, activation='relu'),\n",
        "    MaxPooling1D(3),\n",
        "    Conv1D(64, 3, activation='relu'),\n",
        "    MaxPooling1D(4),\n",
        "    Conv1D(128, 3, activation='relu'),\n",
        "    MaxPooling1D(2),\n",
        "    Flatten(),\n",
        "\n",
        "    Dense(64, activation='relu'),\n",
        "    Dense(6, activation='softmax')  # Usar softmax para clasificación multiclase\n",
        "])\n",
        "\n",
        "model.compile(optimizer='adam', loss='binary_crossentropy', metrics=['accuracy'])\n",
        "\n",
        "# Print model summary\n",
        "model.summary()"
      ]
    },
    {
      "cell_type": "code",
      "execution_count": 21,
      "metadata": {
        "colab": {
          "base_uri": "https://localhost:8080/"
        },
        "id": "v-XHjsN844pl",
        "outputId": "3bb66199-c1ea-44bf-dcbb-9a3f815d9877"
      },
      "outputs": [
        {
          "name": "stdout",
          "output_type": "stream",
          "text": [
            "Epoch 1/100\n",
            "138/138 [==============================] - 146s 690ms/step - loss: 0.4007 - accuracy: 0.3894 - val_loss: 0.3153 - val_accuracy: 0.5895 - lr: 0.0010\n",
            "Epoch 2/100\n",
            "138/138 [==============================] - 89s 648ms/step - loss: 0.2903 - accuracy: 0.6335 - val_loss: 0.2637 - val_accuracy: 0.6682 - lr: 0.0010\n",
            "Epoch 3/100\n",
            "138/138 [==============================] - 90s 650ms/step - loss: 0.2428 - accuracy: 0.7100 - val_loss: 0.2278 - val_accuracy: 0.7319 - lr: 0.0010\n",
            "Epoch 4/100\n",
            "138/138 [==============================] - 89s 646ms/step - loss: 0.2085 - accuracy: 0.7593 - val_loss: 0.2173 - val_accuracy: 0.7382 - lr: 0.0010\n",
            "Epoch 5/100\n",
            "138/138 [==============================] - 93s 676ms/step - loss: 0.1753 - accuracy: 0.8071 - val_loss: 0.1829 - val_accuracy: 0.7995 - lr: 0.0010\n",
            "Epoch 6/100\n",
            "138/138 [==============================] - 93s 674ms/step - loss: 0.1485 - accuracy: 0.8391 - val_loss: 0.1766 - val_accuracy: 0.8105 - lr: 0.0010\n",
            "Epoch 7/100\n",
            "138/138 [==============================] - 90s 649ms/step - loss: 0.1218 - accuracy: 0.8736 - val_loss: 0.1703 - val_accuracy: 0.8350 - lr: 0.0010\n",
            "Epoch 8/100\n",
            "138/138 [==============================] - 90s 652ms/step - loss: 0.0960 - accuracy: 0.9039 - val_loss: 0.1812 - val_accuracy: 0.8338 - lr: 0.0010\n",
            "Epoch 9/100\n",
            "138/138 [==============================] - 91s 657ms/step - loss: 0.0770 - accuracy: 0.9262 - val_loss: 0.1913 - val_accuracy: 0.8427 - lr: 0.0010\n",
            "Epoch 10/100\n",
            "138/138 [==============================] - 90s 648ms/step - loss: 0.0659 - accuracy: 0.9381 - val_loss: 0.2127 - val_accuracy: 0.8397 - lr: 0.0010\n",
            "Epoch 11/100\n",
            "138/138 [==============================] - 89s 646ms/step - loss: 0.0510 - accuracy: 0.9538 - val_loss: 0.2174 - val_accuracy: 0.8499 - lr: 0.0010\n",
            "Epoch 12/100\n",
            "138/138 [==============================] - ETA: 0s - loss: 0.0394 - accuracy: 0.9665Restoring model weights from the end of the best epoch: 7.\n",
            "138/138 [==============================] - 93s 676ms/step - loss: 0.0394 - accuracy: 0.9665 - val_loss: 0.2590 - val_accuracy: 0.8502 - lr: 0.0010\n",
            "Epoch 12: early stopping\n"
          ]
        }
      ],
      "source": [
        "history = model.fit(ds_fit, epochs=100, validation_data=ds_val, callbacks=callbacks)"
      ]
    },
    {
      "cell_type": "code",
      "execution_count": 22,
      "metadata": {
        "colab": {
          "base_uri": "https://localhost:8080/"
        },
        "id": "i0r_yhAALRg_",
        "outputId": "3247bdf2-e6e9-420f-c516-c2a69d3ac993"
      },
      "outputs": [
        {
          "name": "stdout",
          "output_type": "stream",
          "text": [
            "33/33 [==============================] - 13s 393ms/step - loss: 0.1752 - accuracy: 0.8222\n",
            "Test accuracy: 0.8222116231918335\n"
          ]
        }
      ],
      "source": [
        "BATCH_SIZE = 128\n",
        "ds_eval = (\n",
        "    ds_test.cache()\n",
        "    .batch(BATCH_SIZE)\n",
        "    .prefetch(AUTOTUNE)\n",
        ")\n",
        "test_loss, test_acc = model.evaluate(ds_eval)\n",
        "\n",
        "print('Test accuracy:', test_acc)"
      ]
    },
    {
      "cell_type": "code",
      "execution_count": 34,
      "metadata": {
        "id": "WCB6wgfiEJ2k"
      },
      "outputs": [],
      "source": [
        "# model.save_weights('testnn')\n",
        "model.save('Conv1D_82')"
      ]
    },
    {
      "cell_type": "code",
      "execution_count": 32,
      "metadata": {},
      "outputs": [],
      "source": [
        "loaded_model = tf.saved_model.load('Conv1D_85')\n"
      ]
    },
    {
      "cell_type": "code",
      "execution_count": 30,
      "metadata": {
        "colab": {
          "base_uri": "https://localhost:8080/"
        },
        "id": "LtSeH_dsG7Ar",
        "outputId": "3613253f-76c7-4bbc-cc84-19815a28b086"
      },
      "outputs": [
        {
          "ename": "ValueError",
          "evalue": "File format not supported: filepath=Conv1D_82. Keras 3 only supports V3 `.keras` files and legacy H5 format files (`.h5` extension). Note that the legacy SavedModel format is not supported by `load_model()` in Keras 3. In order to reload a TensorFlow SavedModel as an inference-only layer in Keras 3, use `keras.layers.TFSMLayer(Conv1D_82, call_endpoint='serving_default')` (note that your `call_endpoint` might have a different name).",
          "output_type": "error",
          "traceback": [
            "\u001b[1;31m---------------------------------------------------------------------------\u001b[0m",
            "\u001b[1;31mValueError\u001b[0m                                Traceback (most recent call last)",
            "Cell \u001b[1;32mIn[30], line 24\u001b[0m\n\u001b[0;32m      1\u001b[0m \u001b[38;5;66;03m# # Create a new model instance\u001b[39;00m\n\u001b[0;32m      2\u001b[0m \u001b[38;5;66;03m# mymodel = Sequential([\u001b[39;00m\n\u001b[0;32m      3\u001b[0m \u001b[38;5;66;03m#     Conv1D(64, 3, activation='relu', input_shape=(64000, 1)),\u001b[39;00m\n\u001b[1;32m   (...)\u001b[0m\n\u001b[0;32m     20\u001b[0m \n\u001b[0;32m     21\u001b[0m \u001b[38;5;66;03m# Restore the weights\u001b[39;00m\n\u001b[1;32m---> 24\u001b[0m new_model \u001b[38;5;241m=\u001b[39m \u001b[43mtf\u001b[49m\u001b[38;5;241;43m.\u001b[39;49m\u001b[43mkeras\u001b[49m\u001b[38;5;241;43m.\u001b[39;49m\u001b[43mmodels\u001b[49m\u001b[38;5;241;43m.\u001b[39;49m\u001b[43mload_model\u001b[49m\u001b[43m(\u001b[49m\u001b[38;5;124;43m'\u001b[39;49m\u001b[38;5;124;43mConv1D_82\u001b[39;49m\u001b[38;5;124;43m'\u001b[39;49m\u001b[43m)\u001b[49m\n\u001b[0;32m     25\u001b[0m \u001b[38;5;66;03m# mymodel.load_weights('Conv1D_82')\u001b[39;00m\n\u001b[0;32m     27\u001b[0m BATCH_SIZE \u001b[38;5;241m=\u001b[39m \u001b[38;5;241m128\u001b[39m\n",
            "File \u001b[1;32mc:\\Users\\alfre\\Desktop\\Utils\\ProyectoIntegradorIII\\NonVerbalAudioClassifier\\.venv\\Lib\\site-packages\\keras\\src\\saving\\saving_api.py:191\u001b[0m, in \u001b[0;36mload_model\u001b[1;34m(filepath, custom_objects, compile, safe_mode)\u001b[0m\n\u001b[0;32m    185\u001b[0m     \u001b[38;5;28;01mraise\u001b[39;00m \u001b[38;5;167;01mValueError\u001b[39;00m(\n\u001b[0;32m    186\u001b[0m         \u001b[38;5;124mf\u001b[39m\u001b[38;5;124m\"\u001b[39m\u001b[38;5;124mFile not found: filepath=\u001b[39m\u001b[38;5;132;01m{\u001b[39;00mfilepath\u001b[38;5;132;01m}\u001b[39;00m\u001b[38;5;124m. \u001b[39m\u001b[38;5;124m\"\u001b[39m\n\u001b[0;32m    187\u001b[0m         \u001b[38;5;124m\"\u001b[39m\u001b[38;5;124mPlease ensure the file is an accessible `.keras` \u001b[39m\u001b[38;5;124m\"\u001b[39m\n\u001b[0;32m    188\u001b[0m         \u001b[38;5;124m\"\u001b[39m\u001b[38;5;124mzip file.\u001b[39m\u001b[38;5;124m\"\u001b[39m\n\u001b[0;32m    189\u001b[0m     )\n\u001b[0;32m    190\u001b[0m \u001b[38;5;28;01melse\u001b[39;00m:\n\u001b[1;32m--> 191\u001b[0m     \u001b[38;5;28;01mraise\u001b[39;00m \u001b[38;5;167;01mValueError\u001b[39;00m(\n\u001b[0;32m    192\u001b[0m         \u001b[38;5;124mf\u001b[39m\u001b[38;5;124m\"\u001b[39m\u001b[38;5;124mFile format not supported: filepath=\u001b[39m\u001b[38;5;132;01m{\u001b[39;00mfilepath\u001b[38;5;132;01m}\u001b[39;00m\u001b[38;5;124m. \u001b[39m\u001b[38;5;124m\"\u001b[39m\n\u001b[0;32m    193\u001b[0m         \u001b[38;5;124m\"\u001b[39m\u001b[38;5;124mKeras 3 only supports V3 `.keras` files and \u001b[39m\u001b[38;5;124m\"\u001b[39m\n\u001b[0;32m    194\u001b[0m         \u001b[38;5;124m\"\u001b[39m\u001b[38;5;124mlegacy H5 format files (`.h5` extension). \u001b[39m\u001b[38;5;124m\"\u001b[39m\n\u001b[0;32m    195\u001b[0m         \u001b[38;5;124m\"\u001b[39m\u001b[38;5;124mNote that the legacy SavedModel format is not \u001b[39m\u001b[38;5;124m\"\u001b[39m\n\u001b[0;32m    196\u001b[0m         \u001b[38;5;124m\"\u001b[39m\u001b[38;5;124msupported by `load_model()` in Keras 3. In \u001b[39m\u001b[38;5;124m\"\u001b[39m\n\u001b[0;32m    197\u001b[0m         \u001b[38;5;124m\"\u001b[39m\u001b[38;5;124morder to reload a TensorFlow SavedModel as an \u001b[39m\u001b[38;5;124m\"\u001b[39m\n\u001b[0;32m    198\u001b[0m         \u001b[38;5;124m\"\u001b[39m\u001b[38;5;124minference-only layer in Keras 3, use \u001b[39m\u001b[38;5;124m\"\u001b[39m\n\u001b[0;32m    199\u001b[0m         \u001b[38;5;124m\"\u001b[39m\u001b[38;5;124m`keras.layers.TFSMLayer(\u001b[39m\u001b[38;5;124m\"\u001b[39m\n\u001b[0;32m    200\u001b[0m         \u001b[38;5;124mf\u001b[39m\u001b[38;5;124m\"\u001b[39m\u001b[38;5;132;01m{\u001b[39;00mfilepath\u001b[38;5;132;01m}\u001b[39;00m\u001b[38;5;124m, call_endpoint=\u001b[39m\u001b[38;5;124m'\u001b[39m\u001b[38;5;124mserving_default\u001b[39m\u001b[38;5;124m'\u001b[39m\u001b[38;5;124m)` \u001b[39m\u001b[38;5;124m\"\u001b[39m\n\u001b[0;32m    201\u001b[0m         \u001b[38;5;124m\"\u001b[39m\u001b[38;5;124m(note that your `call_endpoint` \u001b[39m\u001b[38;5;124m\"\u001b[39m\n\u001b[0;32m    202\u001b[0m         \u001b[38;5;124m\"\u001b[39m\u001b[38;5;124mmight have a different name).\u001b[39m\u001b[38;5;124m\"\u001b[39m\n\u001b[0;32m    203\u001b[0m     )\n",
            "\u001b[1;31mValueError\u001b[0m: File format not supported: filepath=Conv1D_82. Keras 3 only supports V3 `.keras` files and legacy H5 format files (`.h5` extension). Note that the legacy SavedModel format is not supported by `load_model()` in Keras 3. In order to reload a TensorFlow SavedModel as an inference-only layer in Keras 3, use `keras.layers.TFSMLayer(Conv1D_82, call_endpoint='serving_default')` (note that your `call_endpoint` might have a different name)."
          ]
        }
      ],
      "source": [
        "# # Create a new model instance\n",
        "# mymodel = Sequential([\n",
        "#     Conv1D(64, 3, activation='relu', input_shape=(64000, 1)),\n",
        "#     MaxPooling1D(2),\n",
        "#     Conv1D(64, 3, activation='relu'),\n",
        "#     MaxPooling1D(6),\n",
        "#     Conv1D(64, 3, activation='relu'),\n",
        "#     MaxPooling1D(3),\n",
        "#     Conv1D(64, 3, activation='relu'),\n",
        "#     MaxPooling1D(4),\n",
        "#     Conv1D(128, 3, activation='relu'),\n",
        "#     MaxPooling1D(2),\n",
        "#     Flatten(),\n",
        "\n",
        "#     Dense(64, activation='relu'),\n",
        "#     Dense(6, activation='softmax')  # Usar softmax para clasificación multiclase\n",
        "# ])\n",
        "\n",
        "# mymodel.compile(optimizer='adam', loss='binary_crossentropy', metrics=['accuracy'])\n",
        "\n",
        "# Restore the weights\n",
        "\n",
        "\n",
        "new_model = tf.keras.models.load_model('Conv1D_82')\n",
        "# mymodel.load_weights('Conv1D_82')\n",
        "\n",
        "BATCH_SIZE = 128\n",
        "ds_eval = (\n",
        "    ds_test.cache()\n",
        "    .batch(BATCH_SIZE)\n",
        "    .prefetch(AUTOTUNE)\n",
        ")\n",
        "test_loss, test_acc = new_model.evaluate(ds_eval)\n",
        "\n",
        "print('Test accuracy:', test_acc)"
      ]
    },
    {
      "cell_type": "code",
      "execution_count": 37,
      "metadata": {
        "colab": {
          "base_uri": "https://localhost:8080/"
        },
        "id": "ui9HDuRAJKQh",
        "outputId": "ff7febad-0878-4bd4-cbbc-58498d8db21e"
      },
      "outputs": [
        {
          "name": "stdout",
          "output_type": "stream",
          "text": [
            "  adding: Conv1D_82/ (stored 0%)\n",
            "  adding: Conv1D_82/variables/ (stored 0%)\n",
            "  adding: Conv1D_82/variables/variables.data-00000-of-00001 (deflated 16%)\n",
            "  adding: Conv1D_82/variables/variables.index (deflated 66%)\n",
            "  adding: Conv1D_82/keras_metadata.pb (deflated 93%)\n",
            "  adding: Conv1D_82/saved_model.pb (deflated 88%)\n",
            "  adding: Conv1D_82/fingerprint.pb (stored 0%)\n",
            "  adding: Conv1D_82/assets/ (stored 0%)\n"
          ]
        }
      ],
      "source": [
        "!zip -r Conv1D_82.zip Conv1D_82"
      ]
    }
  ],
  "metadata": {
    "accelerator": "GPU",
    "colab": {
      "gpuType": "T4",
      "include_colab_link": true,
      "provenance": []
    },
    "kernelspec": {
      "display_name": "Python 3",
      "name": "python3"
    },
    "language_info": {
      "codemirror_mode": {
        "name": "ipython",
        "version": 3
      },
      "file_extension": ".py",
      "mimetype": "text/x-python",
      "name": "python",
      "nbconvert_exporter": "python",
      "pygments_lexer": "ipython3",
      "version": "3.12.3"
    }
  },
  "nbformat": 4,
  "nbformat_minor": 0
}
