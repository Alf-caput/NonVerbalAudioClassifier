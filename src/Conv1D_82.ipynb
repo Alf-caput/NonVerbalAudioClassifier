{
  "cells": [
    {
      "cell_type": "markdown",
      "metadata": {
        "id": "view-in-github",
        "colab_type": "text"
      },
      "source": [
        "<a href=\"https://colab.research.google.com/github/Alf-caput/NonVerbalAudioClassifier/blob/main/src/Conv1D_82.ipynb\" target=\"_parent\"><img src=\"https://colab.research.google.com/assets/colab-badge.svg\" alt=\"Open In Colab\"/></a>"
      ]
    },
    {
      "cell_type": "code",
      "source": [
        "!wget https://www.dropbox.com/s/fuld3z222j9t1oy/vs_release_16k.zip"
      ],
      "metadata": {
        "id": "Ki3dtfpo5ujf",
        "outputId": "02ede555-f37b-4035-c6d1-2803d3241d6d",
        "colab": {
          "base_uri": "https://localhost:8080/"
        }
      },
      "execution_count": 25,
      "outputs": [
        {
          "output_type": "stream",
          "name": "stdout",
          "text": [
            "--2024-04-22 22:22:08--  https://www.dropbox.com/s/fuld3z222j9t1oy/vs_release_16k.zip\n",
            "Resolving www.dropbox.com (www.dropbox.com)... 162.125.3.18, 2620:100:6018:18::a27d:312\n",
            "Connecting to www.dropbox.com (www.dropbox.com)|162.125.3.18|:443... connected.\n",
            "HTTP request sent, awaiting response... 302 Found\n",
            "Location: /s/raw/fuld3z222j9t1oy/vs_release_16k.zip [following]\n",
            "--2024-04-22 22:22:08--  https://www.dropbox.com/s/raw/fuld3z222j9t1oy/vs_release_16k.zip\n",
            "Reusing existing connection to www.dropbox.com:443.\n",
            "HTTP request sent, awaiting response... 302 Found\n",
            "Location: https://ucff4bc9485ddec1ca755ef32424.dl.dropboxusercontent.com/cd/0/inline/CRhc7Ef4VYB9zssuBOiHy1KLgAUKzO7Ad7Lxa8jqOlZEFPG7f5oS08a3jLURz8P8q4HDK5fs6_Fe7qufCJHthOpv6jIz9o7OLVT9Eb3iopaJ3R1VUuzPlfrQ8MXEhDM5vG_136sES0N34V-KXT6RYurq/file# [following]\n",
            "--2024-04-22 22:22:09--  https://ucff4bc9485ddec1ca755ef32424.dl.dropboxusercontent.com/cd/0/inline/CRhc7Ef4VYB9zssuBOiHy1KLgAUKzO7Ad7Lxa8jqOlZEFPG7f5oS08a3jLURz8P8q4HDK5fs6_Fe7qufCJHthOpv6jIz9o7OLVT9Eb3iopaJ3R1VUuzPlfrQ8MXEhDM5vG_136sES0N34V-KXT6RYurq/file\n",
            "Resolving ucff4bc9485ddec1ca755ef32424.dl.dropboxusercontent.com (ucff4bc9485ddec1ca755ef32424.dl.dropboxusercontent.com)... 162.125.4.15, 2620:100:6018:15::a27d:30f\n",
            "Connecting to ucff4bc9485ddec1ca755ef32424.dl.dropboxusercontent.com (ucff4bc9485ddec1ca755ef32424.dl.dropboxusercontent.com)|162.125.4.15|:443... connected.\n",
            "HTTP request sent, awaiting response... 302 Found\n",
            "Location: /cd/0/inline2/CRiFG-FhSaO_szdo-47TuVezzahdxvm7Wg69RojNjYy0jV4lVPsBwWwht_2QpXZJlSB_KhYxT4jqr3-fgZYkHSB0SwCkoPAQ0jYNXaWqbrtOGmYz7TJoN9gkgJGaMGHv6jGHtcXLiu0obJaLmnjOYuuzr8aeloVxUVdsKHuWmTUx911Ylf32YeGk01O4PujdUf_I9lskdNQyPUPut6YBBleajjxEZmbtqnfH9ReObTVFNQKPjxv2LevHjY_xgQVV4dtgyejcwK0i1GyOhGub0c11_xv1HROZGBPjmHQ4dt4a_IvclRKjHqDbzqtAzVIK7cxUJffUKV3UP-vEnYcbj1LLeqOfUYO-kMfDqQnEwf1KLbSvJ8iy5k-AUW31oPMuXoc/file [following]\n",
            "--2024-04-22 22:22:10--  https://ucff4bc9485ddec1ca755ef32424.dl.dropboxusercontent.com/cd/0/inline2/CRiFG-FhSaO_szdo-47TuVezzahdxvm7Wg69RojNjYy0jV4lVPsBwWwht_2QpXZJlSB_KhYxT4jqr3-fgZYkHSB0SwCkoPAQ0jYNXaWqbrtOGmYz7TJoN9gkgJGaMGHv6jGHtcXLiu0obJaLmnjOYuuzr8aeloVxUVdsKHuWmTUx911Ylf32YeGk01O4PujdUf_I9lskdNQyPUPut6YBBleajjxEZmbtqnfH9ReObTVFNQKPjxv2LevHjY_xgQVV4dtgyejcwK0i1GyOhGub0c11_xv1HROZGBPjmHQ4dt4a_IvclRKjHqDbzqtAzVIK7cxUJffUKV3UP-vEnYcbj1LLeqOfUYO-kMfDqQnEwf1KLbSvJ8iy5k-AUW31oPMuXoc/file\n",
            "Reusing existing connection to ucff4bc9485ddec1ca755ef32424.dl.dropboxusercontent.com:443.\n",
            "HTTP request sent, awaiting response... 200 OK\n",
            "Length: 1775595589 (1.7G) [application/zip]\n",
            "Saving to: ‘vs_release_16k.zip’\n",
            "\n",
            "vs_release_16k.zip  100%[===================>]   1.65G  48.1MB/s    in 36s     \n",
            "\n",
            "2024-04-22 22:22:46 (47.4 MB/s) - ‘vs_release_16k.zip’ saved [1775595589/1775595589]\n",
            "\n"
          ]
        }
      ]
    },
    {
      "cell_type": "code",
      "execution_count": 1,
      "metadata": {
        "id": "ATPf6j4cLRgv"
      },
      "outputs": [],
      "source": [
        "import os\n",
        "\n",
        "zip_filename = 'vs_release_16k.zip'\n",
        "\n",
        "if not os.path.exists(zip_filename):\n",
        "    os.system(\"wget https://www.dropbox.com/s/fuld3z222j9t1oy/vs_release_16k.zip\")"
      ]
    },
    {
      "cell_type": "markdown",
      "metadata": {
        "id": "uR7UfICDLRgx"
      },
      "source": [
        "Dentro de vs_release_16k.zip descomprimimos:  \n",
        "- audio_16k  \n",
        "\n",
        "Nos servimos del módulo zipfile para descomprimir.  "
      ]
    },
    {
      "cell_type": "code",
      "execution_count": 2,
      "metadata": {
        "id": "vyOyxxYdLRgy"
      },
      "outputs": [],
      "source": [
        "import os\n",
        "from zipfile import ZipFile\n",
        "from concurrent.futures import ThreadPoolExecutor\n",
        "\n",
        "zip_filename = 'vs_release_16k.zip'\n",
        "audio_dir = 'audio_16k/'\n",
        "\n",
        "if not os.path.exists(audio_dir):\n",
        "    with ZipFile(zip_filename, 'r') as zf:\n",
        "        with ThreadPoolExecutor() as exe:\n",
        "            for file in zf.namelist():\n",
        "                if file.startswith(audio_dir):\n",
        "                    exe.submit(zf.extract, file)"
      ]
    },
    {
      "cell_type": "code",
      "execution_count": 3,
      "metadata": {
        "id": "ZDNoTcQ-2rR6",
        "outputId": "7987d21e-e7c7-4460-d9b7-c5143bdc2d7b",
        "colab": {
          "base_uri": "https://localhost:8080/"
        }
      },
      "outputs": [
        {
          "output_type": "stream",
          "name": "stdout",
          "text": [
            "Total audios: 20982\n",
            "Filenames shape: TensorSpec(shape=(), dtype=tf.string, name=None)\n"
          ]
        }
      ],
      "source": [
        "import tensorflow as tf\n",
        "\n",
        "audio_dir = 'audio_16k/'\n",
        "seed = 42\n",
        "\n",
        "tf.random.set_seed(seed)\n",
        "\n",
        "ds_files = tf.data.Dataset.list_files(audio_dir + '*.wav') # by default shuffle=True\n",
        "\n",
        "print(\"Total audios:\", len(ds_files))\n",
        "print(\"Filenames shape:\", ds_files.element_spec)"
      ]
    },
    {
      "cell_type": "code",
      "execution_count": 4,
      "metadata": {
        "id": "mUEfxSs42rR7",
        "outputId": "e914dbc3-a5a5-4bd8-810d-b74c493f58e5",
        "colab": {
          "base_uri": "https://localhost:8080/"
        }
      },
      "outputs": [
        {
          "output_type": "stream",
          "name": "stdout",
          "text": [
            "tf.Tensor(b'audio_16k/f3216_0_sigh.wav', shape=(), dtype=string)\n",
            "tf.Tensor(b'audio_16k/f1885_0_laughter.wav', shape=(), dtype=string)\n",
            "tf.Tensor(b'audio_16k/f3008_0_throatclearing.wav', shape=(), dtype=string)\n",
            "tf.Tensor(b'audio_16k/f3053_0_throatclearing.wav', shape=(), dtype=string)\n",
            "tf.Tensor(b'audio_16k/f1488_0_laughter.wav', shape=(), dtype=string)\n"
          ]
        }
      ],
      "source": [
        "for elem in ds_files.take(5):\n",
        "    print(elem)"
      ]
    },
    {
      "cell_type": "code",
      "execution_count": 5,
      "metadata": {
        "colab": {
          "base_uri": "https://localhost:8080/"
        },
        "id": "41hDfCPBb4iS",
        "outputId": "5f2a0c83-1c7d-404f-f62b-d71c3fc50c26"
      },
      "outputs": [
        {
          "output_type": "stream",
          "name": "stdout",
          "text": [
            "Filename Tensor: tf.Tensor(b'audio_16k/m3281_0_sigh.wav', shape=(), dtype=string)\n",
            "Label Tensor: tf.Tensor(2, shape=(), dtype=int64)\n"
          ]
        }
      ],
      "source": [
        "vocal_sounds = ['cough', 'laughter', 'sigh', 'sneeze', 'sniff', 'throatclearing']\n",
        "num_sounds = len(vocal_sounds)\n",
        "\n",
        "for elem in ds_files.take(1):\n",
        "    example_file = elem\n",
        "\n",
        "def get_label(file_path):\n",
        "  label = tf.strings.split(\n",
        "    input=file_path,\n",
        "    sep='_')[-1]\n",
        "\n",
        "  label = tf.strings.split(\n",
        "    input=label,\n",
        "    sep='.')[0]\n",
        "\n",
        "  label = tf.where(label==vocal_sounds)\n",
        "  label = tf.reshape(label, ())\n",
        "  return label\n",
        "\n",
        "print(\"Filename Tensor:\", example_file)\n",
        "print(\"Label Tensor:\", get_label(example_file))"
      ]
    },
    {
      "cell_type": "code",
      "execution_count": 6,
      "metadata": {
        "colab": {
          "base_uri": "https://localhost:8080/"
        },
        "id": "Wt7HzlPLo6gf",
        "outputId": "c7192b5d-a94d-4eac-f635-7821f2b44b34"
      },
      "outputs": [
        {
          "output_type": "stream",
          "name": "stdout",
          "text": [
            "Filename Tensor: tf.Tensor(b'audio_16k/m0063_0_cough.wav', shape=(), dtype=string)\n",
            "Signal Tensor: tf.Tensor(\n",
            "[-0.0022583  -0.00546265 -0.00534058 ... -0.00775146 -0.00839233\n",
            " -0.00744629], shape=(139264,), dtype=float32)\n"
          ]
        }
      ],
      "source": [
        "for elem in ds_files.take(1):\n",
        "    example_file = elem\n",
        "\n",
        "def get_signal(file_path):\n",
        "\n",
        "  audio_binary = tf.io.read_file(file_path)\n",
        "  signal = tf.audio.decode_wav(audio_binary)[0]\n",
        "\n",
        "  return tf.squeeze(signal, axis=-1)\n",
        "\n",
        "print(\"Filename Tensor:\", example_file)\n",
        "print(\"Signal Tensor:\", get_signal(example_file))"
      ]
    },
    {
      "cell_type": "code",
      "execution_count": 7,
      "metadata": {
        "colab": {
          "base_uri": "https://localhost:8080/"
        },
        "id": "kQMUH4QNbZ3P",
        "outputId": "b85c571a-df24-4071-b785-42287be10c65"
      },
      "outputs": [
        {
          "output_type": "stream",
          "name": "stdout",
          "text": [
            "Total signals: 20982\n",
            "Signals shape: (TensorSpec(shape=(None,), dtype=tf.float32, name=None), TensorSpec(shape=(), dtype=tf.int64, name=None))\n"
          ]
        }
      ],
      "source": [
        "AUTOTUNE = tf.data.AUTOTUNE\n",
        "\n",
        "ds_signals = (\n",
        "    ds_files\n",
        "    .shuffle(len(ds_files))\n",
        "    .cache()\n",
        "    .map(lambda x: (get_signal(x), get_label(x)), num_parallel_calls=AUTOTUNE)\n",
        "    )\n",
        "\n",
        "print(\"Total signals:\", len(ds_signals))\n",
        "print(\"Signals shape:\", ds_signals.element_spec)"
      ]
    },
    {
      "cell_type": "code",
      "execution_count": 8,
      "metadata": {
        "colab": {
          "base_uri": "https://localhost:8080/",
          "height": 452
        },
        "id": "tpy5OW7Fs1Ek",
        "outputId": "8807642b-af37-46c7-beb2-9f560df6eaa0"
      },
      "outputs": [
        {
          "output_type": "display_data",
          "data": {
            "text/plain": [
              "<Figure size 640x480 with 1 Axes>"
            ],
            "image/png": "[encoded data removed]"
          },
          "metadata": {}
        }
      ],
      "source": [
        "import matplotlib.pyplot as plt\n",
        "for elem in ds_signals.take(1):\n",
        "  signal, label = elem\n",
        "  plt.plot(signal)\n",
        "  plt.title(vocal_sounds[label])"
      ]
    },
    {
      "cell_type": "code",
      "source": [
        "for elem in ds_files:\n",
        "  print(get_signal(elem).shape[0])\n",
        "  break"
      ],
      "metadata": {
        "id": "xWkRExMY7GZd",
        "outputId": "8d301931-6a88-4b59-c647-56a46656f012",
        "colab": {
          "base_uri": "https://localhost:8080/"
        }
      },
      "execution_count": 9,
      "outputs": [
        {
          "output_type": "stream",
          "name": "stdout",
          "text": [
            "75093\n"
          ]
        }
      ]
    },
    {
      "cell_type": "code",
      "source": [
        "ds_files = tf.data.Dataset.list_files(audio_dir + '*.wav') # by default shuffle=True\n",
        "len(ds_files)"
      ],
      "metadata": {
        "id": "nG5Qp9LD7t4X",
        "outputId": "6b7b7a48-945c-4b69-c8ae-0d234ea015cd",
        "colab": {
          "base_uri": "https://localhost:8080/"
        }
      },
      "execution_count": 10,
      "outputs": [
        {
          "output_type": "execute_result",
          "data": {
            "text/plain": [
              "20982"
            ]
          },
          "metadata": {},
          "execution_count": 10
        }
      ]
    },
    {
      "cell_type": "code",
      "execution_count": 11,
      "metadata": {
        "colab": {
          "base_uri": "https://localhost:8080/"
        },
        "id": "xvcOpKxRtE3d",
        "outputId": "0a8c27e2-0836-4f6f-b265-bc1c7eef167c"
      },
      "outputs": [
        {
          "output_type": "stream",
          "name": "stdout",
          "text": [
            "Total audios: 20982\n"
          ]
        }
      ],
      "source": [
        "def remove_shortaudio(file_path, min_len):\n",
        "  if get_signal(file_path).shape[0] < min_len:\n",
        "    tf.io.gfile.remove(file_path)\n",
        "\n",
        "initial_file_count = 21024\n",
        "\n",
        "if len(ds_files) >= initial_file_count:\n",
        "  # Remove less than 0.1s audios (16kHz then 1600 frames)\n",
        "  min_len = 1600\n",
        "  with ThreadPoolExecutor() as exe:\n",
        "    for file in ds_files:\n",
        "      exe.submit(remove_shortaudio, file.numpy(), min_len)\n",
        "\n",
        "  ds_files = tf.data.Dataset.list_files(audio_dir + '*.wav') # by default shuffle=True\n",
        "\n",
        "print('Total audios:', len(ds_files))"
      ]
    },
    {
      "cell_type": "code",
      "execution_count": 12,
      "metadata": {
        "colab": {
          "base_uri": "https://localhost:8080/"
        },
        "id": "y9yA9_bQlv1M",
        "outputId": "4f77273c-8c7d-4cde-d915-b5e9c2433c0d"
      },
      "outputs": [
        {
          "output_type": "stream",
          "name": "stdout",
          "text": [
            "(<tf.Tensor: shape=(57344,), dtype=float32, numpy=\n",
            "array([ 0.        , -0.00039673, -0.00097656, ..., -0.00018311,\n",
            "       -0.00088501, -0.00115967], dtype=float32)>, <tf.Tensor: shape=(), dtype=int64, numpy=3>)\n"
          ]
        }
      ],
      "source": [
        "ds_signals = ds_files.map(lambda x: (get_signal(x), get_label(x)), num_parallel_calls=AUTOTUNE)\n",
        "for elem in ds_signals.take(1):\n",
        "  print(elem)"
      ]
    },
    {
      "cell_type": "code",
      "execution_count": 13,
      "metadata": {
        "id": "3dST_H_VmB_A",
        "outputId": "aa0a97be-b343-4def-df3e-0f2bfa77e4c4",
        "colab": {
          "base_uri": "https://localhost:8080/"
        }
      },
      "outputs": [
        {
          "output_type": "stream",
          "name": "stdout",
          "text": [
            "Tensor(\"strided_slice:0\", shape=(), dtype=int32) Tensor(\"strided_slice_1:0\", shape=(), dtype=int32)\n"
          ]
        }
      ],
      "source": [
        "vocal_sounds = ['cough', 'laughter', 'sigh', 'sneeze', 'sniff', 'throatclearing']\n",
        "num_sounds = len(vocal_sounds)\n",
        "\n",
        "\n",
        "def normalize(signal, label):\n",
        "  # Label to onehot\n",
        "  label = tf.one_hot(label, len(vocal_sounds))\n",
        "\n",
        "  # Signal to standard length\n",
        "  std_len = 64_000 # 4s\n",
        "  curr_len = len(signal)\n",
        "  print(curr_len, len(signal))\n",
        "\n",
        "  if curr_len > std_len:\n",
        "    rand_idx = tf.random.uniform(shape=[], maxval=curr_len-std_len, dtype=tf.int32)\n",
        "    signal = signal[rand_idx:rand_idx+std_len]\n",
        "\n",
        "  else:\n",
        "    left_padding = (std_len - curr_len) // 2\n",
        "    right_padding = std_len - curr_len - left_padding\n",
        "    signal = tf.pad(signal, [[left_padding, right_padding]])\n",
        "\n",
        "  return signal, label\n",
        "\n",
        "ds_signals = ds_signals.map(normalize)"
      ]
    },
    {
      "cell_type": "code",
      "execution_count": 14,
      "metadata": {
        "colab": {
          "base_uri": "https://localhost:8080/"
        },
        "id": "nYTpsGb3MtS_",
        "outputId": "425be643-92c9-4c1d-9692-bc9a244243f8"
      },
      "outputs": [
        {
          "output_type": "stream",
          "name": "stdout",
          "text": [
            "(<tf.Tensor: shape=(64000,), dtype=float32, numpy=array([0., 0., 0., ..., 0., 0., 0.], dtype=float32)>, <tf.Tensor: shape=(6,), dtype=float32, numpy=array([1., 0., 0., 0., 0., 0.], dtype=float32)>)\n",
            "(<tf.Tensor: shape=(64000,), dtype=float32, numpy=array([0., 0., 0., ..., 0., 0., 0.], dtype=float32)>, <tf.Tensor: shape=(6,), dtype=float32, numpy=array([0., 0., 0., 0., 0., 1.], dtype=float32)>)\n"
          ]
        }
      ],
      "source": [
        "for elem in ds_signals.take(2):\n",
        "  print(elem)"
      ]
    },
    {
      "cell_type": "code",
      "execution_count": 15,
      "metadata": {
        "colab": {
          "base_uri": "https://localhost:8080/"
        },
        "id": "MntLIWZJcFdb",
        "outputId": "86e15a43-98c2-4ea1-a485-936c2c2ba8fb"
      },
      "outputs": [
        {
          "output_type": "execute_result",
          "data": {
            "text/plain": [
              "(TensorSpec(shape=(None,), dtype=tf.float32, name=None),\n",
              " TensorSpec(shape=(6,), dtype=tf.float32, name=None))"
            ]
          },
          "metadata": {},
          "execution_count": 15
        }
      ],
      "source": [
        "ds_signals.element_spec"
      ]
    },
    {
      "cell_type": "code",
      "execution_count": 16,
      "metadata": {
        "id": "AtLbAh6jLRg8"
      },
      "outputs": [],
      "source": [
        "num_train = len(ds_signals)\n",
        "\n",
        "RATIO = 0.2\n",
        "test_size = int(RATIO * num_train)\n",
        "\n",
        "ds_train = ds_signals.skip(test_size)\n",
        "ds_test = ds_signals.take(test_size)"
      ]
    },
    {
      "cell_type": "code",
      "execution_count": 17,
      "metadata": {
        "id": "IwiMw9keLRg8"
      },
      "outputs": [],
      "source": [
        "num_train = len(ds_train)\n",
        "\n",
        "RATIO = 0.2\n",
        "validation_size = int(RATIO * num_train)\n",
        "\n",
        "ds_fit = ds_signals.skip(validation_size)\n",
        "ds_val = ds_signals.take(validation_size)"
      ]
    },
    {
      "cell_type": "code",
      "execution_count": 18,
      "metadata": {
        "id": "fkTw9s3lLRg9"
      },
      "outputs": [],
      "source": [
        "AUTOTUNE = tf.data.AUTOTUNE\n",
        "BATCH_SIZE = 128\n",
        "ds_fit = (\n",
        "    ds_fit\n",
        "    .cache()\n",
        "    .shuffle(len(ds_fit))\n",
        "    .batch(BATCH_SIZE)\n",
        "    .prefetch(AUTOTUNE)\n",
        ")\n",
        "\n",
        "ds_val = (\n",
        "    ds_val\n",
        "    .cache()\n",
        "    .batch(32)\n",
        "    .prefetch(tf.data.AUTOTUNE)\n",
        ")"
      ]
    },
    {
      "cell_type": "code",
      "execution_count": 19,
      "metadata": {
        "id": "cq9rBe_GLRg9"
      },
      "outputs": [],
      "source": [
        "from tensorflow.keras.callbacks import EarlyStopping, ReduceLROnPlateau\n",
        "\n",
        "# Reduce learning rate\n",
        "reduce_lr = ReduceLROnPlateau(monitor='val_accuracy', factor=0.2, patience=4, min_lr=0.0001)\n",
        "\n",
        "epoch_wait = 5\n",
        "# Crear el EarlyStopping callback con la función on_train_end\n",
        "early_stopping = EarlyStopping(monitor='val_loss', mode='min', verbose=1, patience=epoch_wait, restore_best_weights=True)\n",
        "\n",
        "# Definimos los callbacks\n",
        "callbacks = [early_stopping, reduce_lr]"
      ]
    },
    {
      "cell_type": "code",
      "source": [
        "import tensorflow as tf\n",
        "from tensorflow.keras import Sequential\n",
        "from tensorflow.keras.layers import Dense, Dropout\n",
        "from tensorflow.keras.layers import Conv1D, MaxPooling1D, Flatten\n",
        "\n",
        "model = Sequential([\n",
        "    Conv1D(64, 3, activation='relu', input_shape=(64000, 1)),\n",
        "    MaxPooling1D(2),\n",
        "    Conv1D(64, 3, activation='relu'),\n",
        "    MaxPooling1D(6),\n",
        "    Conv1D(64, 3, activation='relu'),\n",
        "    MaxPooling1D(3),\n",
        "    Conv1D(64, 3, activation='relu'),\n",
        "    MaxPooling1D(4),\n",
        "    Conv1D(128, 3, activation='relu'),\n",
        "    MaxPooling1D(2),\n",
        "    Flatten(),\n",
        "\n",
        "    Dense(64, activation='relu'),\n",
        "    Dense(6, activation='softmax')  # Usar softmax para clasificación multiclase\n",
        "])\n",
        "\n",
        "model.compile(optimizer='adam', loss='binary_crossentropy', metrics=['accuracy'])\n",
        "\n",
        "# Print model summary\n",
        "model.summary()"
      ],
      "metadata": {
        "id": "EZ-6L9Ur3ErO",
        "outputId": "937ca0d5-d80b-4381-a97c-a7723c0cf240",
        "colab": {
          "base_uri": "https://localhost:8080/"
        }
      },
      "execution_count": 20,
      "outputs": [
        {
          "output_type": "stream",
          "name": "stdout",
          "text": [
            "Model: \"sequential\"\n",
            "_________________________________________________________________\n",
            " Layer (type)                Output Shape              Param #   \n",
            "=================================================================\n",
            " conv1d (Conv1D)             (None, 63998, 64)         256       \n",
            "                                                                 \n",
            " max_pooling1d (MaxPooling1  (None, 31999, 64)         0         \n",
            " D)                                                              \n",
            "                                                                 \n",
            " conv1d_1 (Conv1D)           (None, 31997, 64)         12352     \n",
            "                                                                 \n",
            " max_pooling1d_1 (MaxPoolin  (None, 5332, 64)          0         \n",
            " g1D)                                                            \n",
            "                                                                 \n",
            " conv1d_2 (Conv1D)           (None, 5330, 64)          12352     \n",
            "                                                                 \n",
            " max_pooling1d_2 (MaxPoolin  (None, 1776, 64)          0         \n",
            " g1D)                                                            \n",
            "                                                                 \n",
            " conv1d_3 (Conv1D)           (None, 1774, 64)          12352     \n",
            "                                                                 \n",
            " max_pooling1d_3 (MaxPoolin  (None, 443, 64)           0         \n",
            " g1D)                                                            \n",
            "                                                                 \n",
            " conv1d_4 (Conv1D)           (None, 441, 128)          24704     \n",
            "                                                                 \n",
            " max_pooling1d_4 (MaxPoolin  (None, 220, 128)          0         \n",
            " g1D)                                                            \n",
            "                                                                 \n",
            " flatten (Flatten)           (None, 28160)             0         \n",
            "                                                                 \n",
            " dense (Dense)               (None, 64)                1802304   \n",
            "                                                                 \n",
            " dense_1 (Dense)             (None, 6)                 390       \n",
            "                                                                 \n",
            "=================================================================\n",
            "Total params: 1864710 (7.11 MB)\n",
            "Trainable params: 1864710 (7.11 MB)\n",
            "Non-trainable params: 0 (0.00 Byte)\n",
            "_________________________________________________________________\n"
          ]
        }
      ]
    },
    {
      "cell_type": "code",
      "source": [
        "history = model.fit(ds_fit, epochs=100, validation_data=ds_val, callbacks=callbacks)"
      ],
      "metadata": {
        "id": "v-XHjsN844pl",
        "outputId": "3bb66199-c1ea-44bf-dcbb-9a3f815d9877",
        "colab": {
          "base_uri": "https://localhost:8080/"
        }
      },
      "execution_count": 21,
      "outputs": [
        {
          "output_type": "stream",
          "name": "stdout",
          "text": [
            "Epoch 1/100\n",
            "138/138 [==============================] - 146s 690ms/step - loss: 0.4007 - accuracy: 0.3894 - val_loss: 0.3153 - val_accuracy: 0.5895 - lr: 0.0010\n",
            "Epoch 2/100\n",
            "138/138 [==============================] - 89s 648ms/step - loss: 0.2903 - accuracy: 0.6335 - val_loss: 0.2637 - val_accuracy: 0.6682 - lr: 0.0010\n",
            "Epoch 3/100\n",
            "138/138 [==============================] - 90s 650ms/step - loss: 0.2428 - accuracy: 0.7100 - val_loss: 0.2278 - val_accuracy: 0.7319 - lr: 0.0010\n",
            "Epoch 4/100\n",
            "138/138 [==============================] - 89s 646ms/step - loss: 0.2085 - accuracy: 0.7593 - val_loss: 0.2173 - val_accuracy: 0.7382 - lr: 0.0010\n",
            "Epoch 5/100\n",
            "138/138 [==============================] - 93s 676ms/step - loss: 0.1753 - accuracy: 0.8071 - val_loss: 0.1829 - val_accuracy: 0.7995 - lr: 0.0010\n",
            "Epoch 6/100\n",
            "138/138 [==============================] - 93s 674ms/step - loss: 0.1485 - accuracy: 0.8391 - val_loss: 0.1766 - val_accuracy: 0.8105 - lr: 0.0010\n",
            "Epoch 7/100\n",
            "138/138 [==============================] - 90s 649ms/step - loss: 0.1218 - accuracy: 0.8736 - val_loss: 0.1703 - val_accuracy: 0.8350 - lr: 0.0010\n",
            "Epoch 8/100\n",
            "138/138 [==============================] - 90s 652ms/step - loss: 0.0960 - accuracy: 0.9039 - val_loss: 0.1812 - val_accuracy: 0.8338 - lr: 0.0010\n",
            "Epoch 9/100\n",
            "138/138 [==============================] - 91s 657ms/step - loss: 0.0770 - accuracy: 0.9262 - val_loss: 0.1913 - val_accuracy: 0.8427 - lr: 0.0010\n",
            "Epoch 10/100\n",
            "138/138 [==============================] - 90s 648ms/step - loss: 0.0659 - accuracy: 0.9381 - val_loss: 0.2127 - val_accuracy: 0.8397 - lr: 0.0010\n",
            "Epoch 11/100\n",
            "138/138 [==============================] - 89s 646ms/step - loss: 0.0510 - accuracy: 0.9538 - val_loss: 0.2174 - val_accuracy: 0.8499 - lr: 0.0010\n",
            "Epoch 12/100\n",
            "138/138 [==============================] - ETA: 0s - loss: 0.0394 - accuracy: 0.9665Restoring model weights from the end of the best epoch: 7.\n",
            "138/138 [==============================] - 93s 676ms/step - loss: 0.0394 - accuracy: 0.9665 - val_loss: 0.2590 - val_accuracy: 0.8502 - lr: 0.0010\n",
            "Epoch 12: early stopping\n"
          ]
        }
      ]
    },
    {
      "cell_type": "code",
      "execution_count": 22,
      "metadata": {
        "colab": {
          "base_uri": "https://localhost:8080/"
        },
        "id": "i0r_yhAALRg_",
        "outputId": "3247bdf2-e6e9-420f-c516-c2a69d3ac993"
      },
      "outputs": [
        {
          "output_type": "stream",
          "name": "stdout",
          "text": [
            "33/33 [==============================] - 13s 393ms/step - loss: 0.1752 - accuracy: 0.8222\n",
            "Test accuracy: 0.8222116231918335\n"
          ]
        }
      ],
      "source": [
        "BATCH_SIZE = 128\n",
        "ds_eval = (\n",
        "    ds_test.cache()\n",
        "    .batch(BATCH_SIZE)\n",
        "    .prefetch(AUTOTUNE)\n",
        ")\n",
        "test_loss, test_acc = model.evaluate(ds_eval)\n",
        "\n",
        "print('Test accuracy:', test_acc)"
      ]
    },
    {
      "cell_type": "code",
      "source": [
        "# model.save_weights('testnn')\n",
        "model.save('Conv1D_82')"
      ],
      "metadata": {
        "id": "WCB6wgfiEJ2k"
      },
      "execution_count": 34,
      "outputs": []
    },
    {
      "cell_type": "code",
      "source": [
        "# Create a new model instance\n",
        "mymodel = Sequential([\n",
        "    Conv1D(64, 3, activation='relu', input_shape=(64000, 1)),\n",
        "    MaxPooling1D(2),\n",
        "    Conv1D(64, 3, activation='relu'),\n",
        "    MaxPooling1D(6),\n",
        "    Conv1D(64, 3, activation='relu'),\n",
        "    MaxPooling1D(3),\n",
        "    Conv1D(64, 3, activation='relu'),\n",
        "    MaxPooling1D(4),\n",
        "    Conv1D(128, 3, activation='relu'),\n",
        "    MaxPooling1D(2),\n",
        "    Flatten(),\n",
        "\n",
        "    Dense(64, activation='relu'),\n",
        "    Dense(6, activation='softmax')  # Usar softmax para clasificación multiclase\n",
        "])\n",
        "\n",
        "mymodel.compile(optimizer='adam', loss='binary_crossentropy', metrics=['accuracy'])\n",
        "\n",
        "# Restore the weights\n",
        "mymodel.load_weights('Conv1D_82')\n",
        "\n",
        "BATCH_SIZE = 128\n",
        "ds_eval = (\n",
        "    ds_test.cache()\n",
        "    .batch(BATCH_SIZE)\n",
        "    .prefetch(AUTOTUNE)\n",
        ")\n",
        "test_loss, test_acc = mymodel.evaluate(ds_eval)\n",
        "\n",
        "print('Test accuracy:', test_acc)"
      ],
      "metadata": {
        "id": "LtSeH_dsG7Ar",
        "outputId": "3613253f-76c7-4bbc-cc84-19815a28b086",
        "colab": {
          "base_uri": "https://localhost:8080/"
        }
      },
      "execution_count": 35,
      "outputs": [
        {
          "output_type": "stream",
          "name": "stdout",
          "text": [
            "33/33 [==============================] - 13s 370ms/step - loss: 0.1694 - accuracy: 0.8348\n",
            "Test accuracy: 0.8348426818847656\n"
          ]
        }
      ]
    },
    {
      "cell_type": "code",
      "source": [
        "!zip -r Conv1D_82.zip Conv1D_82"
      ],
      "metadata": {
        "id": "ui9HDuRAJKQh",
        "outputId": "ff7febad-0878-4bd4-cbbc-58498d8db21e",
        "colab": {
          "base_uri": "https://localhost:8080/"
        }
      },
      "execution_count": 37,
      "outputs": [
        {
          "output_type": "stream",
          "name": "stdout",
          "text": [
            "  adding: Conv1D_82/ (stored 0%)\n",
            "  adding: Conv1D_82/variables/ (stored 0%)\n",
            "  adding: Conv1D_82/variables/variables.data-00000-of-00001 (deflated 16%)\n",
            "  adding: Conv1D_82/variables/variables.index (deflated 66%)\n",
            "  adding: Conv1D_82/keras_metadata.pb (deflated 93%)\n",
            "  adding: Conv1D_82/saved_model.pb (deflated 88%)\n",
            "  adding: Conv1D_82/fingerprint.pb (stored 0%)\n",
            "  adding: Conv1D_82/assets/ (stored 0%)\n"
          ]
        }
      ]
    }
  ],
  "metadata": {
    "accelerator": "GPU",
    "colab": {
      "gpuType": "T4",
      "provenance": [],
      "include_colab_link": true
    },
    "kernelspec": {
      "display_name": "Python 3",
      "name": "python3"
    },
    "language_info": {
      "codemirror_mode": {
        "name": "ipython",
        "version": 3
      },
      "file_extension": ".py",
      "mimetype": "text/x-python",
      "name": "python",
      "nbconvert_exporter": "python",
      "pygments_lexer": "ipython3",
      "version": "3.12.3"
    }
  },
  "nbformat": 4,
  "nbformat_minor": 0
}